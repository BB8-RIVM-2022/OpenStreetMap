{
 "cells": [
  {
   "cell_type": "markdown",
   "metadata": {},
   "source": [
    "# Onderzoek googletrends alcoholgebruik data en obesitas."
   ]
  },
  {
   "cell_type": "code",
   "execution_count": 30,
   "metadata": {},
   "outputs": [],
   "source": [
    "import pandas as pd \n",
    "import numpy as np\n",
    "import matplotlib.pyplot as plt\n",
    "import cbsodata\n",
    "import time\n",
    "\n",
    "# openstreetmap API package\n",
    "# can be installed in conda cmd with:\n",
    "# conda config --prepend channels conda-forge\n",
    "# conda create -n ox --strict-channel-priority osmnx\n",
    "import osmnx as ox\n",
    "\n"
   ]
  },
  {
   "cell_type": "markdown",
   "metadata": {},
   "source": [
    "### gezondheidsmonitor data laden en prepareren."
   ]
  },
  {
   "cell_type": "code",
   "execution_count": 31,
   "metadata": {},
   "outputs": [
    {
     "name": "stderr",
     "output_type": "stream",
     "text": [
      "D:\\anaconda\\envs\\ox\\lib\\site-packages\\cbsodata\\cbsodata3.py:272: ResourceWarning: unclosed <ssl.SSLSocket fd=1620, family=AddressFamily.AF_INET, type=SocketKind.SOCK_STREAM, proto=0, laddr=('192.168.178.72', 60748), raddr=('87.213.43.244', 443)>\n",
      "  metadata_tables = _download_metadata(\n",
      "ResourceWarning: Enable tracemalloc to get the object allocation traceback\n",
      "D:\\anaconda\\envs\\ox\\lib\\site-packages\\cbsodata\\cbsodata3.py:294: ResourceWarning: unclosed <ssl.SSLSocket fd=4532, family=AddressFamily.AF_INET, type=SocketKind.SOCK_STREAM, proto=0, laddr=('192.168.178.72', 60752), raddr=('87.213.43.244', 443)>\n",
      "  metadata = _download_metadata(table_id, table_name,\n",
      "ResourceWarning: Enable tracemalloc to get the object allocation traceback\n",
      "D:\\anaconda\\envs\\ox\\lib\\site-packages\\cbsodata\\cbsodata3.py:294: ResourceWarning: unclosed <ssl.SSLSocket fd=4596, family=AddressFamily.AF_INET, type=SocketKind.SOCK_STREAM, proto=0, laddr=('192.168.178.72', 60753), raddr=('87.213.43.244', 443)>\n",
      "  metadata = _download_metadata(table_id, table_name,\n",
      "ResourceWarning: Enable tracemalloc to get the object allocation traceback\n",
      "D:\\anaconda\\envs\\ox\\lib\\site-packages\\cbsodata\\cbsodata3.py:294: ResourceWarning: unclosed <ssl.SSLSocket fd=4540, family=AddressFamily.AF_INET, type=SocketKind.SOCK_STREAM, proto=0, laddr=('192.168.178.72', 60754), raddr=('87.213.43.244', 443)>\n",
      "  metadata = _download_metadata(table_id, table_name,\n",
      "ResourceWarning: Enable tracemalloc to get the object allocation traceback\n"
     ]
    }
   ],
   "source": [
    "#Gezonheidsmonitor\n",
    "gezondheids_df = pd.DataFrame(cbsodata.get_data('85012NED'))"
   ]
  },
  {
   "cell_type": "code",
   "execution_count": 32,
   "metadata": {
    "scrolled": false
   },
   "outputs": [
    {
     "name": "stdout",
     "output_type": "stream",
     "text": [
      "Voordat we de null-waardes droppen hebben we: 3582  in de dataset\n",
      "ID                                         0\n",
      "Leeftijd                                   0\n",
      "Marges                                     0\n",
      "RegioS                                     0\n",
      "ErvarenGezondheidGoedZeerGoed_1           18\n",
      "EenOfMeerLangdurigeAandoeningen_2         21\n",
      "EenOfMeerLichamelijkeBeperkingen_3        21\n",
      "BeperkingInHoren_4                        21\n",
      "BeperkingInZien_5                         21\n",
      "BeperkingInBewegen_6                      21\n",
      "Ondergewicht_7                            30\n",
      "NormaalGewicht_8                          21\n",
      "Overgewicht_9                             21\n",
      "MatigOvergewicht_10                       21\n",
      "ErnstigOvergewichtObesitas_11             21\n",
      "VoldoetAanBeweegrichtlijn_12             273\n",
      "WekelijksSporter_13                      273\n",
      "Mantelzorger_14                           21\n",
      "ZwaarBelasteMantelzorgers_15            1437\n",
      "UrenMantelzorgPerWeek_16                1491\n",
      "Rokers_17                                 18\n",
      "VoldoetAanRichtlijnAlcoholgebruik_18      21\n",
      "ZwareDrinker_19                           21\n",
      "OvermatigDrinker_20                       21\n",
      "dtype: int64\n",
      "Nadat we de null-waardes droppen hebben we: 3552 in de  dataset\n"
     ]
    }
   ],
   "source": [
    "# Sum van alle Nan values per coloumn\n",
    "print(f'Voordat we de null-waardes droppen hebben we: {len(gezondheids_df)}  in de dataset')\n",
    "print(gezondheids_df.isnull().sum())\n",
    "gezondheids_df.dropna(inplace=True, subset=['Ondergewicht_7', 'NormaalGewicht_8', 'Overgewicht_9', 'ErnstigOvergewichtObesitas_11'])\n",
    "print(f'Nadat we de null-waardes droppen hebben we: {len(gezondheids_df)} in de  dataset')"
   ]
  },
  {
   "cell_type": "markdown",
   "metadata": {},
   "source": [
    "### pak alle gemeenten in nederland met obesitas data."
   ]
  },
  {
   "cell_type": "code",
   "execution_count": 33,
   "metadata": {},
   "outputs": [
    {
     "data": {
      "text/html": [
       "<div>\n",
       "<style scoped>\n",
       "    .dataframe tbody tr th:only-of-type {\n",
       "        vertical-align: middle;\n",
       "    }\n",
       "\n",
       "    .dataframe tbody tr th {\n",
       "        vertical-align: top;\n",
       "    }\n",
       "\n",
       "    .dataframe thead th {\n",
       "        text-align: right;\n",
       "    }\n",
       "</style>\n",
       "<table border=\"1\" class=\"dataframe\">\n",
       "  <thead>\n",
       "    <tr style=\"text-align: right;\">\n",
       "      <th></th>\n",
       "      <th>RegioS</th>\n",
       "    </tr>\n",
       "  </thead>\n",
       "  <tbody>\n",
       "    <tr>\n",
       "      <th>0</th>\n",
       "      <td>Aa en Hunze</td>\n",
       "    </tr>\n",
       "    <tr>\n",
       "      <th>1</th>\n",
       "      <td>Aalsmeer</td>\n",
       "    </tr>\n",
       "    <tr>\n",
       "      <th>2</th>\n",
       "      <td>Aalten</td>\n",
       "    </tr>\n",
       "    <tr>\n",
       "      <th>3</th>\n",
       "      <td>Achtkarspelen</td>\n",
       "    </tr>\n",
       "    <tr>\n",
       "      <th>4</th>\n",
       "      <td>Alblasserdam</td>\n",
       "    </tr>\n",
       "  </tbody>\n",
       "</table>\n",
       "</div>"
      ],
      "text/plain": [
       "          RegioS\n",
       "0    Aa en Hunze\n",
       "1       Aalsmeer\n",
       "2         Aalten\n",
       "3  Achtkarspelen\n",
       "4   Alblasserdam"
      ]
     },
     "execution_count": 33,
     "metadata": {},
     "output_type": "execute_result"
    }
   ],
   "source": [
    "gemeenten_df = pd.read_csv('gemeenten_nl.csv')\n",
    "gemeenten_df.pop('Unnamed: 0')\n",
    "gemeenten_df.head()"
   ]
  },
  {
   "cell_type": "markdown",
   "metadata": {},
   "source": [
    "maak een lijst met alle gemeenten + ', Nederland' om de gemeentes op te zoeken in Openstreetmap."
   ]
  },
  {
   "cell_type": "code",
   "execution_count": 34,
   "metadata": {},
   "outputs": [],
   "source": [
    "places = []\n",
    "\n",
    "for gemeente in gemeenten_df['RegioS']:\n",
    "    places.append(str(gemeente) + ', Nederland')"
   ]
  },
  {
   "cell_type": "markdown",
   "metadata": {},
   "source": [
    "### pak openstreetmaps bar data."
   ]
  },
  {
   "cell_type": "code",
   "execution_count": 35,
   "metadata": {},
   "outputs": [],
   "source": [
    "# kies tags om naar te zoeken. alle plekken waar je drank kan kopen worden geclassificeert als pub of bar.\n",
    "tags = {'amenity': ['pub', 'bar', 'biergarten']}"
   ]
  },
  {
   "cell_type": "code",
   "execution_count": 36,
   "metadata": {
    "scrolled": true
   },
   "outputs": [
    {
     "name": "stdout",
     "output_type": "stream",
     "text": [
      "Aa en Hunze, Nederland\n"
     ]
    },
    {
     "name": "stderr",
     "output_type": "stream",
     "text": [
      "D:\\anaconda\\envs\\ox\\lib\\site-packages\\osmnx\\geocoder.py:110: FutureWarning: The frame.append method is deprecated and will be removed from pandas in a future version. Use pandas.concat instead.\n",
      "  gdf = gdf.append(_geocode_query_to_gdf(q, wr, by_osmid))\n"
     ]
    },
    {
     "name": "stdout",
     "output_type": "stream",
     "text": [
      "Aalsmeer, Nederland\n"
     ]
    },
    {
     "name": "stderr",
     "output_type": "stream",
     "text": [
      "D:\\anaconda\\envs\\ox\\lib\\site-packages\\osmnx\\geocoder.py:110: FutureWarning: The frame.append method is deprecated and will be removed from pandas in a future version. Use pandas.concat instead.\n",
      "  gdf = gdf.append(_geocode_query_to_gdf(q, wr, by_osmid))\n"
     ]
    },
    {
     "name": "stdout",
     "output_type": "stream",
     "text": [
      "Aalten, Nederland\n"
     ]
    },
    {
     "name": "stderr",
     "output_type": "stream",
     "text": [
      "D:\\anaconda\\envs\\ox\\lib\\site-packages\\osmnx\\geocoder.py:110: FutureWarning: The frame.append method is deprecated and will be removed from pandas in a future version. Use pandas.concat instead.\n",
      "  gdf = gdf.append(_geocode_query_to_gdf(q, wr, by_osmid))\n"
     ]
    },
    {
     "name": "stdout",
     "output_type": "stream",
     "text": [
      "Achtkarspelen, Nederland\n"
     ]
    },
    {
     "name": "stderr",
     "output_type": "stream",
     "text": [
      "D:\\anaconda\\envs\\ox\\lib\\site-packages\\osmnx\\geocoder.py:110: FutureWarning: The frame.append method is deprecated and will be removed from pandas in a future version. Use pandas.concat instead.\n",
      "  gdf = gdf.append(_geocode_query_to_gdf(q, wr, by_osmid))\n"
     ]
    },
    {
     "name": "stdout",
     "output_type": "stream",
     "text": [
      "Alblasserdam, Nederland\n",
      "Albrandswaard, Nederland\n"
     ]
    },
    {
     "name": "stderr",
     "output_type": "stream",
     "text": [
      "D:\\anaconda\\envs\\ox\\lib\\site-packages\\osmnx\\geocoder.py:110: FutureWarning: The frame.append method is deprecated and will be removed from pandas in a future version. Use pandas.concat instead.\n",
      "  gdf = gdf.append(_geocode_query_to_gdf(q, wr, by_osmid))\n",
      "D:\\anaconda\\envs\\ox\\lib\\site-packages\\osmnx\\geocoder.py:110: FutureWarning: The frame.append method is deprecated and will be removed from pandas in a future version. Use pandas.concat instead.\n",
      "  gdf = gdf.append(_geocode_query_to_gdf(q, wr, by_osmid))\n"
     ]
    },
    {
     "name": "stdout",
     "output_type": "stream",
     "text": [
      "Alkmaar, Nederland\n"
     ]
    },
    {
     "name": "stderr",
     "output_type": "stream",
     "text": [
      "D:\\anaconda\\envs\\ox\\lib\\site-packages\\osmnx\\geocoder.py:110: FutureWarning: The frame.append method is deprecated and will be removed from pandas in a future version. Use pandas.concat instead.\n",
      "  gdf = gdf.append(_geocode_query_to_gdf(q, wr, by_osmid))\n"
     ]
    },
    {
     "name": "stdout",
     "output_type": "stream",
     "text": [
      "Almelo, Nederland\n"
     ]
    },
    {
     "name": "stderr",
     "output_type": "stream",
     "text": [
      "D:\\anaconda\\envs\\ox\\lib\\site-packages\\osmnx\\geocoder.py:110: FutureWarning: The frame.append method is deprecated and will be removed from pandas in a future version. Use pandas.concat instead.\n",
      "  gdf = gdf.append(_geocode_query_to_gdf(q, wr, by_osmid))\n"
     ]
    },
    {
     "name": "stdout",
     "output_type": "stream",
     "text": [
      "Almere, Nederland\n"
     ]
    },
    {
     "name": "stderr",
     "output_type": "stream",
     "text": [
      "D:\\anaconda\\envs\\ox\\lib\\site-packages\\osmnx\\geocoder.py:110: FutureWarning: The frame.append method is deprecated and will be removed from pandas in a future version. Use pandas.concat instead.\n",
      "  gdf = gdf.append(_geocode_query_to_gdf(q, wr, by_osmid))\n"
     ]
    },
    {
     "name": "stdout",
     "output_type": "stream",
     "text": [
      "Alphen aan den Rijn, Nederland\n"
     ]
    },
    {
     "name": "stderr",
     "output_type": "stream",
     "text": [
      "D:\\anaconda\\envs\\ox\\lib\\site-packages\\osmnx\\geocoder.py:110: FutureWarning: The frame.append method is deprecated and will be removed from pandas in a future version. Use pandas.concat instead.\n",
      "  gdf = gdf.append(_geocode_query_to_gdf(q, wr, by_osmid))\n"
     ]
    },
    {
     "name": "stdout",
     "output_type": "stream",
     "text": [
      "Alphen-Chaam, Nederland\n"
     ]
    },
    {
     "name": "stderr",
     "output_type": "stream",
     "text": [
      "D:\\anaconda\\envs\\ox\\lib\\site-packages\\osmnx\\geocoder.py:110: FutureWarning: The frame.append method is deprecated and will be removed from pandas in a future version. Use pandas.concat instead.\n",
      "  gdf = gdf.append(_geocode_query_to_gdf(q, wr, by_osmid))\n"
     ]
    },
    {
     "name": "stdout",
     "output_type": "stream",
     "text": [
      "Altena, Nederland\n"
     ]
    },
    {
     "name": "stderr",
     "output_type": "stream",
     "text": [
      "D:\\anaconda\\envs\\ox\\lib\\site-packages\\osmnx\\geocoder.py:110: FutureWarning: The frame.append method is deprecated and will be removed from pandas in a future version. Use pandas.concat instead.\n",
      "  gdf = gdf.append(_geocode_query_to_gdf(q, wr, by_osmid))\n"
     ]
    },
    {
     "name": "stdout",
     "output_type": "stream",
     "text": [
      "Ameland, Nederland\n"
     ]
    },
    {
     "name": "stderr",
     "output_type": "stream",
     "text": [
      "D:\\anaconda\\envs\\ox\\lib\\site-packages\\osmnx\\geocoder.py:110: FutureWarning: The frame.append method is deprecated and will be removed from pandas in a future version. Use pandas.concat instead.\n",
      "  gdf = gdf.append(_geocode_query_to_gdf(q, wr, by_osmid))\n"
     ]
    },
    {
     "name": "stdout",
     "output_type": "stream",
     "text": [
      "Amersfoort, Nederland\n"
     ]
    },
    {
     "name": "stderr",
     "output_type": "stream",
     "text": [
      "D:\\anaconda\\envs\\ox\\lib\\site-packages\\osmnx\\geocoder.py:110: FutureWarning: The frame.append method is deprecated and will be removed from pandas in a future version. Use pandas.concat instead.\n",
      "  gdf = gdf.append(_geocode_query_to_gdf(q, wr, by_osmid))\n"
     ]
    },
    {
     "name": "stdout",
     "output_type": "stream",
     "text": [
      "Amstelveen, Nederland\n"
     ]
    },
    {
     "name": "stderr",
     "output_type": "stream",
     "text": [
      "D:\\anaconda\\envs\\ox\\lib\\site-packages\\osmnx\\geocoder.py:110: FutureWarning: The frame.append method is deprecated and will be removed from pandas in a future version. Use pandas.concat instead.\n",
      "  gdf = gdf.append(_geocode_query_to_gdf(q, wr, by_osmid))\n"
     ]
    },
    {
     "name": "stdout",
     "output_type": "stream",
     "text": [
      "Amsterdam, Nederland\n"
     ]
    },
    {
     "name": "stderr",
     "output_type": "stream",
     "text": [
      "D:\\anaconda\\envs\\ox\\lib\\site-packages\\osmnx\\geocoder.py:110: FutureWarning: The frame.append method is deprecated and will be removed from pandas in a future version. Use pandas.concat instead.\n",
      "  gdf = gdf.append(_geocode_query_to_gdf(q, wr, by_osmid))\n"
     ]
    },
    {
     "name": "stdout",
     "output_type": "stream",
     "text": [
      "Apeldoorn, Nederland\n"
     ]
    },
    {
     "name": "stderr",
     "output_type": "stream",
     "text": [
      "D:\\anaconda\\envs\\ox\\lib\\site-packages\\osmnx\\geocoder.py:110: FutureWarning: The frame.append method is deprecated and will be removed from pandas in a future version. Use pandas.concat instead.\n",
      "  gdf = gdf.append(_geocode_query_to_gdf(q, wr, by_osmid))\n"
     ]
    },
    {
     "name": "stdout",
     "output_type": "stream",
     "text": [
      "Arnhem, Nederland\n"
     ]
    },
    {
     "name": "stderr",
     "output_type": "stream",
     "text": [
      "D:\\anaconda\\envs\\ox\\lib\\site-packages\\osmnx\\geocoder.py:110: FutureWarning: The frame.append method is deprecated and will be removed from pandas in a future version. Use pandas.concat instead.\n",
      "  gdf = gdf.append(_geocode_query_to_gdf(q, wr, by_osmid))\n"
     ]
    },
    {
     "name": "stdout",
     "output_type": "stream",
     "text": [
      "Assen, Nederland\n",
      "Asten, Nederland\n"
     ]
    },
    {
     "name": "stderr",
     "output_type": "stream",
     "text": [
      "D:\\anaconda\\envs\\ox\\lib\\site-packages\\osmnx\\geocoder.py:110: FutureWarning: The frame.append method is deprecated and will be removed from pandas in a future version. Use pandas.concat instead.\n",
      "  gdf = gdf.append(_geocode_query_to_gdf(q, wr, by_osmid))\n",
      "D:\\anaconda\\envs\\ox\\lib\\site-packages\\osmnx\\geocoder.py:110: FutureWarning: The frame.append method is deprecated and will be removed from pandas in a future version. Use pandas.concat instead.\n",
      "  gdf = gdf.append(_geocode_query_to_gdf(q, wr, by_osmid))\n"
     ]
    },
    {
     "name": "stdout",
     "output_type": "stream",
     "text": [
      "Baarle-Nassau, Nederland\n"
     ]
    },
    {
     "name": "stderr",
     "output_type": "stream",
     "text": [
      "D:\\anaconda\\envs\\ox\\lib\\site-packages\\osmnx\\geocoder.py:110: FutureWarning: The frame.append method is deprecated and will be removed from pandas in a future version. Use pandas.concat instead.\n",
      "  gdf = gdf.append(_geocode_query_to_gdf(q, wr, by_osmid))\n"
     ]
    },
    {
     "name": "stdout",
     "output_type": "stream",
     "text": [
      "Baarn, Nederland\n",
      "Barendrecht, Nederland\n"
     ]
    },
    {
     "name": "stderr",
     "output_type": "stream",
     "text": [
      "D:\\anaconda\\envs\\ox\\lib\\site-packages\\osmnx\\geocoder.py:110: FutureWarning: The frame.append method is deprecated and will be removed from pandas in a future version. Use pandas.concat instead.\n",
      "  gdf = gdf.append(_geocode_query_to_gdf(q, wr, by_osmid))\n",
      "D:\\anaconda\\envs\\ox\\lib\\site-packages\\osmnx\\geocoder.py:110: FutureWarning: The frame.append method is deprecated and will be removed from pandas in a future version. Use pandas.concat instead.\n",
      "  gdf = gdf.append(_geocode_query_to_gdf(q, wr, by_osmid))\n"
     ]
    },
    {
     "name": "stdout",
     "output_type": "stream",
     "text": [
      "Barneveld, Nederland\n"
     ]
    },
    {
     "name": "stderr",
     "output_type": "stream",
     "text": [
      "D:\\anaconda\\envs\\ox\\lib\\site-packages\\osmnx\\geocoder.py:110: FutureWarning: The frame.append method is deprecated and will be removed from pandas in a future version. Use pandas.concat instead.\n",
      "  gdf = gdf.append(_geocode_query_to_gdf(q, wr, by_osmid))\n"
     ]
    },
    {
     "name": "stdout",
     "output_type": "stream",
     "text": [
      "Beek (L.), Nederland\n"
     ]
    },
    {
     "name": "stderr",
     "output_type": "stream",
     "text": [
      "D:\\anaconda\\envs\\ox\\lib\\site-packages\\osmnx\\geocoder.py:110: FutureWarning: The frame.append method is deprecated and will be removed from pandas in a future version. Use pandas.concat instead.\n",
      "  gdf = gdf.append(_geocode_query_to_gdf(q, wr, by_osmid))\n"
     ]
    },
    {
     "name": "stdout",
     "output_type": "stream",
     "text": [
      "Beekdaelen, Nederland\n"
     ]
    },
    {
     "name": "stderr",
     "output_type": "stream",
     "text": [
      "D:\\anaconda\\envs\\ox\\lib\\site-packages\\osmnx\\geocoder.py:110: FutureWarning: The frame.append method is deprecated and will be removed from pandas in a future version. Use pandas.concat instead.\n",
      "  gdf = gdf.append(_geocode_query_to_gdf(q, wr, by_osmid))\n"
     ]
    },
    {
     "name": "stdout",
     "output_type": "stream",
     "text": [
      "Beemster, Nederland\n"
     ]
    },
    {
     "name": "stderr",
     "output_type": "stream",
     "text": [
      "D:\\anaconda\\envs\\ox\\lib\\site-packages\\osmnx\\geocoder.py:110: FutureWarning: The frame.append method is deprecated and will be removed from pandas in a future version. Use pandas.concat instead.\n",
      "  gdf = gdf.append(_geocode_query_to_gdf(q, wr, by_osmid))\n"
     ]
    },
    {
     "name": "stdout",
     "output_type": "stream",
     "text": [
      "Beesel, Nederland\n"
     ]
    },
    {
     "name": "stderr",
     "output_type": "stream",
     "text": [
      "D:\\anaconda\\envs\\ox\\lib\\site-packages\\osmnx\\geocoder.py:110: FutureWarning: The frame.append method is deprecated and will be removed from pandas in a future version. Use pandas.concat instead.\n",
      "  gdf = gdf.append(_geocode_query_to_gdf(q, wr, by_osmid))\n"
     ]
    },
    {
     "name": "stdout",
     "output_type": "stream",
     "text": [
      "Berg en Dal, Nederland\n"
     ]
    },
    {
     "name": "stderr",
     "output_type": "stream",
     "text": [
      "D:\\anaconda\\envs\\ox\\lib\\site-packages\\osmnx\\geocoder.py:110: FutureWarning: The frame.append method is deprecated and will be removed from pandas in a future version. Use pandas.concat instead.\n",
      "  gdf = gdf.append(_geocode_query_to_gdf(q, wr, by_osmid))\n"
     ]
    },
    {
     "name": "stdout",
     "output_type": "stream",
     "text": [
      "Bergeijk, Nederland\n"
     ]
    },
    {
     "name": "stderr",
     "output_type": "stream",
     "text": [
      "D:\\anaconda\\envs\\ox\\lib\\site-packages\\osmnx\\geocoder.py:110: FutureWarning: The frame.append method is deprecated and will be removed from pandas in a future version. Use pandas.concat instead.\n",
      "  gdf = gdf.append(_geocode_query_to_gdf(q, wr, by_osmid))\n"
     ]
    },
    {
     "name": "stdout",
     "output_type": "stream",
     "text": [
      "Bergen (L.), Nederland\n"
     ]
    },
    {
     "name": "stderr",
     "output_type": "stream",
     "text": [
      "D:\\anaconda\\envs\\ox\\lib\\site-packages\\osmnx\\geocoder.py:110: FutureWarning: The frame.append method is deprecated and will be removed from pandas in a future version. Use pandas.concat instead.\n",
      "  gdf = gdf.append(_geocode_query_to_gdf(q, wr, by_osmid))\n"
     ]
    },
    {
     "name": "stdout",
     "output_type": "stream",
     "text": [
      "Bergen (NH.), Nederland\n"
     ]
    },
    {
     "name": "stderr",
     "output_type": "stream",
     "text": [
      "D:\\anaconda\\envs\\ox\\lib\\site-packages\\osmnx\\geocoder.py:110: FutureWarning: The frame.append method is deprecated and will be removed from pandas in a future version. Use pandas.concat instead.\n",
      "  gdf = gdf.append(_geocode_query_to_gdf(q, wr, by_osmid))\n"
     ]
    },
    {
     "name": "stdout",
     "output_type": "stream",
     "text": [
      "Bergen op Zoom, Nederland\n"
     ]
    },
    {
     "name": "stderr",
     "output_type": "stream",
     "text": [
      "D:\\anaconda\\envs\\ox\\lib\\site-packages\\osmnx\\geocoder.py:110: FutureWarning: The frame.append method is deprecated and will be removed from pandas in a future version. Use pandas.concat instead.\n",
      "  gdf = gdf.append(_geocode_query_to_gdf(q, wr, by_osmid))\n"
     ]
    },
    {
     "name": "stdout",
     "output_type": "stream",
     "text": [
      "Berkelland, Nederland\n"
     ]
    },
    {
     "name": "stderr",
     "output_type": "stream",
     "text": [
      "D:\\anaconda\\envs\\ox\\lib\\site-packages\\osmnx\\geocoder.py:110: FutureWarning: The frame.append method is deprecated and will be removed from pandas in a future version. Use pandas.concat instead.\n",
      "  gdf = gdf.append(_geocode_query_to_gdf(q, wr, by_osmid))\n"
     ]
    },
    {
     "name": "stdout",
     "output_type": "stream",
     "text": [
      "Bernheze, Nederland\n"
     ]
    },
    {
     "name": "stderr",
     "output_type": "stream",
     "text": [
      "D:\\anaconda\\envs\\ox\\lib\\site-packages\\osmnx\\geocoder.py:110: FutureWarning: The frame.append method is deprecated and will be removed from pandas in a future version. Use pandas.concat instead.\n",
      "  gdf = gdf.append(_geocode_query_to_gdf(q, wr, by_osmid))\n"
     ]
    },
    {
     "name": "stdout",
     "output_type": "stream",
     "text": [
      "Best, Nederland\n"
     ]
    },
    {
     "name": "stderr",
     "output_type": "stream",
     "text": [
      "D:\\anaconda\\envs\\ox\\lib\\site-packages\\osmnx\\geocoder.py:110: FutureWarning: The frame.append method is deprecated and will be removed from pandas in a future version. Use pandas.concat instead.\n",
      "  gdf = gdf.append(_geocode_query_to_gdf(q, wr, by_osmid))\n"
     ]
    },
    {
     "name": "stdout",
     "output_type": "stream",
     "text": [
      "Beuningen, Nederland\n"
     ]
    },
    {
     "name": "stderr",
     "output_type": "stream",
     "text": [
      "D:\\anaconda\\envs\\ox\\lib\\site-packages\\osmnx\\geocoder.py:110: FutureWarning: The frame.append method is deprecated and will be removed from pandas in a future version. Use pandas.concat instead.\n",
      "  gdf = gdf.append(_geocode_query_to_gdf(q, wr, by_osmid))\n"
     ]
    },
    {
     "name": "stdout",
     "output_type": "stream",
     "text": [
      "Beverwijk, Nederland\n"
     ]
    },
    {
     "name": "stderr",
     "output_type": "stream",
     "text": [
      "D:\\anaconda\\envs\\ox\\lib\\site-packages\\osmnx\\geocoder.py:110: FutureWarning: The frame.append method is deprecated and will be removed from pandas in a future version. Use pandas.concat instead.\n",
      "  gdf = gdf.append(_geocode_query_to_gdf(q, wr, by_osmid))\n"
     ]
    },
    {
     "name": "stdout",
     "output_type": "stream",
     "text": [
      "De Bilt, Nederland\n"
     ]
    },
    {
     "name": "stderr",
     "output_type": "stream",
     "text": [
      "D:\\anaconda\\envs\\ox\\lib\\site-packages\\osmnx\\geocoder.py:110: FutureWarning: The frame.append method is deprecated and will be removed from pandas in a future version. Use pandas.concat instead.\n",
      "  gdf = gdf.append(_geocode_query_to_gdf(q, wr, by_osmid))\n"
     ]
    },
    {
     "name": "stdout",
     "output_type": "stream",
     "text": [
      "Bladel, Nederland\n"
     ]
    },
    {
     "name": "stderr",
     "output_type": "stream",
     "text": [
      "D:\\anaconda\\envs\\ox\\lib\\site-packages\\osmnx\\geocoder.py:110: FutureWarning: The frame.append method is deprecated and will be removed from pandas in a future version. Use pandas.concat instead.\n",
      "  gdf = gdf.append(_geocode_query_to_gdf(q, wr, by_osmid))\n"
     ]
    },
    {
     "name": "stdout",
     "output_type": "stream",
     "text": [
      "Blaricum, Nederland\n",
      "Bloemendaal, Nederland\n"
     ]
    },
    {
     "name": "stderr",
     "output_type": "stream",
     "text": [
      "D:\\anaconda\\envs\\ox\\lib\\site-packages\\osmnx\\geocoder.py:110: FutureWarning: The frame.append method is deprecated and will be removed from pandas in a future version. Use pandas.concat instead.\n",
      "  gdf = gdf.append(_geocode_query_to_gdf(q, wr, by_osmid))\n",
      "D:\\anaconda\\envs\\ox\\lib\\site-packages\\osmnx\\geocoder.py:110: FutureWarning: The frame.append method is deprecated and will be removed from pandas in a future version. Use pandas.concat instead.\n",
      "  gdf = gdf.append(_geocode_query_to_gdf(q, wr, by_osmid))\n"
     ]
    },
    {
     "name": "stdout",
     "output_type": "stream",
     "text": [
      "Bodegraven-Reeuwijk, Nederland\n"
     ]
    },
    {
     "name": "stderr",
     "output_type": "stream",
     "text": [
      "D:\\anaconda\\envs\\ox\\lib\\site-packages\\osmnx\\geocoder.py:110: FutureWarning: The frame.append method is deprecated and will be removed from pandas in a future version. Use pandas.concat instead.\n",
      "  gdf = gdf.append(_geocode_query_to_gdf(q, wr, by_osmid))\n"
     ]
    },
    {
     "name": "stdout",
     "output_type": "stream",
     "text": [
      "Boekel, Nederland\n",
      "Borger-Odoorn, Nederland\n"
     ]
    },
    {
     "name": "stderr",
     "output_type": "stream",
     "text": [
      "D:\\anaconda\\envs\\ox\\lib\\site-packages\\osmnx\\geocoder.py:110: FutureWarning: The frame.append method is deprecated and will be removed from pandas in a future version. Use pandas.concat instead.\n",
      "  gdf = gdf.append(_geocode_query_to_gdf(q, wr, by_osmid))\n",
      "D:\\anaconda\\envs\\ox\\lib\\site-packages\\osmnx\\geocoder.py:110: FutureWarning: The frame.append method is deprecated and will be removed from pandas in a future version. Use pandas.concat instead.\n",
      "  gdf = gdf.append(_geocode_query_to_gdf(q, wr, by_osmid))\n"
     ]
    },
    {
     "name": "stdout",
     "output_type": "stream",
     "text": [
      "Borne, Nederland\n",
      "Borsele, Nederland\n"
     ]
    },
    {
     "name": "stderr",
     "output_type": "stream",
     "text": [
      "D:\\anaconda\\envs\\ox\\lib\\site-packages\\osmnx\\geocoder.py:110: FutureWarning: The frame.append method is deprecated and will be removed from pandas in a future version. Use pandas.concat instead.\n",
      "  gdf = gdf.append(_geocode_query_to_gdf(q, wr, by_osmid))\n",
      "D:\\anaconda\\envs\\ox\\lib\\site-packages\\osmnx\\geocoder.py:110: FutureWarning: The frame.append method is deprecated and will be removed from pandas in a future version. Use pandas.concat instead.\n",
      "  gdf = gdf.append(_geocode_query_to_gdf(q, wr, by_osmid))\n"
     ]
    },
    {
     "name": "stdout",
     "output_type": "stream",
     "text": [
      "Boxmeer, Nederland\n",
      "Boxtel, Nederland\n"
     ]
    },
    {
     "name": "stderr",
     "output_type": "stream",
     "text": [
      "D:\\anaconda\\envs\\ox\\lib\\site-packages\\osmnx\\geocoder.py:110: FutureWarning: The frame.append method is deprecated and will be removed from pandas in a future version. Use pandas.concat instead.\n",
      "  gdf = gdf.append(_geocode_query_to_gdf(q, wr, by_osmid))\n",
      "D:\\anaconda\\envs\\ox\\lib\\site-packages\\osmnx\\geocoder.py:110: FutureWarning: The frame.append method is deprecated and will be removed from pandas in a future version. Use pandas.concat instead.\n",
      "  gdf = gdf.append(_geocode_query_to_gdf(q, wr, by_osmid))\n"
     ]
    },
    {
     "name": "stdout",
     "output_type": "stream",
     "text": [
      "Breda, Nederland\n"
     ]
    },
    {
     "name": "stderr",
     "output_type": "stream",
     "text": [
      "D:\\anaconda\\envs\\ox\\lib\\site-packages\\osmnx\\geocoder.py:110: FutureWarning: The frame.append method is deprecated and will be removed from pandas in a future version. Use pandas.concat instead.\n",
      "  gdf = gdf.append(_geocode_query_to_gdf(q, wr, by_osmid))\n"
     ]
    },
    {
     "name": "stdout",
     "output_type": "stream",
     "text": [
      "Brielle, Nederland\n",
      "Bronckhorst, Nederland\n"
     ]
    },
    {
     "name": "stderr",
     "output_type": "stream",
     "text": [
      "D:\\anaconda\\envs\\ox\\lib\\site-packages\\osmnx\\geocoder.py:110: FutureWarning: The frame.append method is deprecated and will be removed from pandas in a future version. Use pandas.concat instead.\n",
      "  gdf = gdf.append(_geocode_query_to_gdf(q, wr, by_osmid))\n",
      "D:\\anaconda\\envs\\ox\\lib\\site-packages\\osmnx\\geocoder.py:110: FutureWarning: The frame.append method is deprecated and will be removed from pandas in a future version. Use pandas.concat instead.\n",
      "  gdf = gdf.append(_geocode_query_to_gdf(q, wr, by_osmid))\n"
     ]
    },
    {
     "name": "stdout",
     "output_type": "stream",
     "text": [
      "Brummen, Nederland\n"
     ]
    },
    {
     "name": "stderr",
     "output_type": "stream",
     "text": [
      "D:\\anaconda\\envs\\ox\\lib\\site-packages\\osmnx\\geocoder.py:110: FutureWarning: The frame.append method is deprecated and will be removed from pandas in a future version. Use pandas.concat instead.\n",
      "  gdf = gdf.append(_geocode_query_to_gdf(q, wr, by_osmid))\n",
      "D:\\anaconda\\envs\\ox\\lib\\site-packages\\osmnx\\geocoder.py:110: FutureWarning: The frame.append method is deprecated and will be removed from pandas in a future version. Use pandas.concat instead.\n",
      "  gdf = gdf.append(_geocode_query_to_gdf(q, wr, by_osmid))\n"
     ]
    },
    {
     "name": "stdout",
     "output_type": "stream",
     "text": [
      "Brunssum, Nederland\n",
      "Bunnik, Nederland\n"
     ]
    },
    {
     "name": "stderr",
     "output_type": "stream",
     "text": [
      "D:\\anaconda\\envs\\ox\\lib\\site-packages\\osmnx\\geocoder.py:110: FutureWarning: The frame.append method is deprecated and will be removed from pandas in a future version. Use pandas.concat instead.\n",
      "  gdf = gdf.append(_geocode_query_to_gdf(q, wr, by_osmid))\n"
     ]
    },
    {
     "name": "stdout",
     "output_type": "stream",
     "text": [
      "Bunschoten, Nederland\n"
     ]
    },
    {
     "name": "stderr",
     "output_type": "stream",
     "text": [
      "D:\\anaconda\\envs\\ox\\lib\\site-packages\\osmnx\\geocoder.py:110: FutureWarning: The frame.append method is deprecated and will be removed from pandas in a future version. Use pandas.concat instead.\n",
      "  gdf = gdf.append(_geocode_query_to_gdf(q, wr, by_osmid))\n"
     ]
    },
    {
     "name": "stdout",
     "output_type": "stream",
     "text": [
      "Buren, Nederland\n"
     ]
    },
    {
     "name": "stderr",
     "output_type": "stream",
     "text": [
      "D:\\anaconda\\envs\\ox\\lib\\site-packages\\osmnx\\geocoder.py:110: FutureWarning: The frame.append method is deprecated and will be removed from pandas in a future version. Use pandas.concat instead.\n",
      "  gdf = gdf.append(_geocode_query_to_gdf(q, wr, by_osmid))\n"
     ]
    },
    {
     "name": "stdout",
     "output_type": "stream",
     "text": [
      "Capelle aan den IJssel, Nederland\n"
     ]
    },
    {
     "name": "stderr",
     "output_type": "stream",
     "text": [
      "D:\\anaconda\\envs\\ox\\lib\\site-packages\\osmnx\\geocoder.py:110: FutureWarning: The frame.append method is deprecated and will be removed from pandas in a future version. Use pandas.concat instead.\n",
      "  gdf = gdf.append(_geocode_query_to_gdf(q, wr, by_osmid))\n"
     ]
    },
    {
     "name": "stdout",
     "output_type": "stream",
     "text": [
      "Castricum, Nederland\n"
     ]
    },
    {
     "name": "stderr",
     "output_type": "stream",
     "text": [
      "D:\\anaconda\\envs\\ox\\lib\\site-packages\\osmnx\\geocoder.py:110: FutureWarning: The frame.append method is deprecated and will be removed from pandas in a future version. Use pandas.concat instead.\n",
      "  gdf = gdf.append(_geocode_query_to_gdf(q, wr, by_osmid))\n"
     ]
    },
    {
     "name": "stdout",
     "output_type": "stream",
     "text": [
      "Coevorden, Nederland\n"
     ]
    },
    {
     "name": "stderr",
     "output_type": "stream",
     "text": [
      "D:\\anaconda\\envs\\ox\\lib\\site-packages\\osmnx\\geocoder.py:110: FutureWarning: The frame.append method is deprecated and will be removed from pandas in a future version. Use pandas.concat instead.\n",
      "  gdf = gdf.append(_geocode_query_to_gdf(q, wr, by_osmid))\n"
     ]
    },
    {
     "name": "stdout",
     "output_type": "stream",
     "text": [
      "Cranendonck, Nederland\n"
     ]
    },
    {
     "name": "stderr",
     "output_type": "stream",
     "text": [
      "D:\\anaconda\\envs\\ox\\lib\\site-packages\\osmnx\\geocoder.py:110: FutureWarning: The frame.append method is deprecated and will be removed from pandas in a future version. Use pandas.concat instead.\n",
      "  gdf = gdf.append(_geocode_query_to_gdf(q, wr, by_osmid))\n"
     ]
    },
    {
     "name": "stdout",
     "output_type": "stream",
     "text": [
      "Cuijk, Nederland\n"
     ]
    },
    {
     "name": "stderr",
     "output_type": "stream",
     "text": [
      "D:\\anaconda\\envs\\ox\\lib\\site-packages\\osmnx\\geocoder.py:110: FutureWarning: The frame.append method is deprecated and will be removed from pandas in a future version. Use pandas.concat instead.\n",
      "  gdf = gdf.append(_geocode_query_to_gdf(q, wr, by_osmid))\n"
     ]
    },
    {
     "name": "stdout",
     "output_type": "stream",
     "text": [
      "Culemborg, Nederland\n"
     ]
    },
    {
     "name": "stderr",
     "output_type": "stream",
     "text": [
      "D:\\anaconda\\envs\\ox\\lib\\site-packages\\osmnx\\geocoder.py:110: FutureWarning: The frame.append method is deprecated and will be removed from pandas in a future version. Use pandas.concat instead.\n",
      "  gdf = gdf.append(_geocode_query_to_gdf(q, wr, by_osmid))\n"
     ]
    },
    {
     "name": "stdout",
     "output_type": "stream",
     "text": [
      "Dalfsen, Nederland\n"
     ]
    },
    {
     "name": "stderr",
     "output_type": "stream",
     "text": [
      "D:\\anaconda\\envs\\ox\\lib\\site-packages\\osmnx\\geocoder.py:110: FutureWarning: The frame.append method is deprecated and will be removed from pandas in a future version. Use pandas.concat instead.\n",
      "  gdf = gdf.append(_geocode_query_to_gdf(q, wr, by_osmid))\n"
     ]
    },
    {
     "name": "stdout",
     "output_type": "stream",
     "text": [
      "Dantumadiel, Nederland\n"
     ]
    },
    {
     "name": "stderr",
     "output_type": "stream",
     "text": [
      "D:\\anaconda\\envs\\ox\\lib\\site-packages\\osmnx\\geocoder.py:110: FutureWarning: The frame.append method is deprecated and will be removed from pandas in a future version. Use pandas.concat instead.\n",
      "  gdf = gdf.append(_geocode_query_to_gdf(q, wr, by_osmid))\n"
     ]
    },
    {
     "name": "stdout",
     "output_type": "stream",
     "text": [
      "Delft, Nederland\n"
     ]
    },
    {
     "name": "stderr",
     "output_type": "stream",
     "text": [
      "D:\\anaconda\\envs\\ox\\lib\\site-packages\\osmnx\\geocoder.py:110: FutureWarning: The frame.append method is deprecated and will be removed from pandas in a future version. Use pandas.concat instead.\n",
      "  gdf = gdf.append(_geocode_query_to_gdf(q, wr, by_osmid))\n"
     ]
    },
    {
     "name": "stdout",
     "output_type": "stream",
     "text": [
      "Deventer, Nederland\n"
     ]
    },
    {
     "name": "stderr",
     "output_type": "stream",
     "text": [
      "D:\\anaconda\\envs\\ox\\lib\\site-packages\\osmnx\\geocoder.py:110: FutureWarning: The frame.append method is deprecated and will be removed from pandas in a future version. Use pandas.concat instead.\n",
      "  gdf = gdf.append(_geocode_query_to_gdf(q, wr, by_osmid))\n"
     ]
    },
    {
     "name": "stdout",
     "output_type": "stream",
     "text": [
      "Diemen, Nederland\n"
     ]
    },
    {
     "name": "stderr",
     "output_type": "stream",
     "text": [
      "D:\\anaconda\\envs\\ox\\lib\\site-packages\\osmnx\\geocoder.py:110: FutureWarning: The frame.append method is deprecated and will be removed from pandas in a future version. Use pandas.concat instead.\n",
      "  gdf = gdf.append(_geocode_query_to_gdf(q, wr, by_osmid))\n"
     ]
    },
    {
     "name": "stdout",
     "output_type": "stream",
     "text": [
      "Dinkelland, Nederland\n"
     ]
    },
    {
     "name": "stderr",
     "output_type": "stream",
     "text": [
      "D:\\anaconda\\envs\\ox\\lib\\site-packages\\osmnx\\geocoder.py:110: FutureWarning: The frame.append method is deprecated and will be removed from pandas in a future version. Use pandas.concat instead.\n",
      "  gdf = gdf.append(_geocode_query_to_gdf(q, wr, by_osmid))\n"
     ]
    },
    {
     "name": "stdout",
     "output_type": "stream",
     "text": [
      "Doesburg, Nederland\n"
     ]
    },
    {
     "name": "stderr",
     "output_type": "stream",
     "text": [
      "D:\\anaconda\\envs\\ox\\lib\\site-packages\\osmnx\\geocoder.py:110: FutureWarning: The frame.append method is deprecated and will be removed from pandas in a future version. Use pandas.concat instead.\n",
      "  gdf = gdf.append(_geocode_query_to_gdf(q, wr, by_osmid))\n"
     ]
    },
    {
     "name": "stdout",
     "output_type": "stream",
     "text": [
      "Doetinchem, Nederland\n"
     ]
    },
    {
     "name": "stderr",
     "output_type": "stream",
     "text": [
      "D:\\anaconda\\envs\\ox\\lib\\site-packages\\osmnx\\geocoder.py:110: FutureWarning: The frame.append method is deprecated and will be removed from pandas in a future version. Use pandas.concat instead.\n",
      "  gdf = gdf.append(_geocode_query_to_gdf(q, wr, by_osmid))\n"
     ]
    },
    {
     "name": "stdout",
     "output_type": "stream",
     "text": [
      "Dongen, Nederland\n",
      "Dordrecht, Nederland\n"
     ]
    },
    {
     "name": "stderr",
     "output_type": "stream",
     "text": [
      "D:\\anaconda\\envs\\ox\\lib\\site-packages\\osmnx\\geocoder.py:110: FutureWarning: The frame.append method is deprecated and will be removed from pandas in a future version. Use pandas.concat instead.\n",
      "  gdf = gdf.append(_geocode_query_to_gdf(q, wr, by_osmid))\n",
      "D:\\anaconda\\envs\\ox\\lib\\site-packages\\osmnx\\geocoder.py:110: FutureWarning: The frame.append method is deprecated and will be removed from pandas in a future version. Use pandas.concat instead.\n",
      "  gdf = gdf.append(_geocode_query_to_gdf(q, wr, by_osmid))\n"
     ]
    },
    {
     "name": "stdout",
     "output_type": "stream",
     "text": [
      "Drechterland, Nederland\n",
      "Drimmelen, Nederland\n"
     ]
    },
    {
     "name": "stderr",
     "output_type": "stream",
     "text": [
      "D:\\anaconda\\envs\\ox\\lib\\site-packages\\osmnx\\geocoder.py:110: FutureWarning: The frame.append method is deprecated and will be removed from pandas in a future version. Use pandas.concat instead.\n",
      "  gdf = gdf.append(_geocode_query_to_gdf(q, wr, by_osmid))\n",
      "D:\\anaconda\\envs\\ox\\lib\\site-packages\\osmnx\\geocoder.py:110: FutureWarning: The frame.append method is deprecated and will be removed from pandas in a future version. Use pandas.concat instead.\n",
      "  gdf = gdf.append(_geocode_query_to_gdf(q, wr, by_osmid))\n"
     ]
    },
    {
     "name": "stdout",
     "output_type": "stream",
     "text": [
      "Dronten, Nederland\n",
      "Druten, Nederland\n"
     ]
    },
    {
     "name": "stderr",
     "output_type": "stream",
     "text": [
      "D:\\anaconda\\envs\\ox\\lib\\site-packages\\osmnx\\geocoder.py:110: FutureWarning: The frame.append method is deprecated and will be removed from pandas in a future version. Use pandas.concat instead.\n",
      "  gdf = gdf.append(_geocode_query_to_gdf(q, wr, by_osmid))\n",
      "D:\\anaconda\\envs\\ox\\lib\\site-packages\\osmnx\\geocoder.py:110: FutureWarning: The frame.append method is deprecated and will be removed from pandas in a future version. Use pandas.concat instead.\n",
      "  gdf = gdf.append(_geocode_query_to_gdf(q, wr, by_osmid))\n"
     ]
    },
    {
     "name": "stdout",
     "output_type": "stream",
     "text": [
      "Duiven, Nederland\n",
      "Echt-Susteren, Nederland\n"
     ]
    },
    {
     "name": "stderr",
     "output_type": "stream",
     "text": [
      "D:\\anaconda\\envs\\ox\\lib\\site-packages\\osmnx\\geocoder.py:110: FutureWarning: The frame.append method is deprecated and will be removed from pandas in a future version. Use pandas.concat instead.\n",
      "  gdf = gdf.append(_geocode_query_to_gdf(q, wr, by_osmid))\n",
      "D:\\anaconda\\envs\\ox\\lib\\site-packages\\osmnx\\geocoder.py:110: FutureWarning: The frame.append method is deprecated and will be removed from pandas in a future version. Use pandas.concat instead.\n",
      "  gdf = gdf.append(_geocode_query_to_gdf(q, wr, by_osmid))\n"
     ]
    },
    {
     "name": "stdout",
     "output_type": "stream",
     "text": [
      "Edam-Volendam, Nederland\n",
      "Ede, Nederland\n"
     ]
    },
    {
     "name": "stderr",
     "output_type": "stream",
     "text": [
      "D:\\anaconda\\envs\\ox\\lib\\site-packages\\osmnx\\geocoder.py:110: FutureWarning: The frame.append method is deprecated and will be removed from pandas in a future version. Use pandas.concat instead.\n",
      "  gdf = gdf.append(_geocode_query_to_gdf(q, wr, by_osmid))\n",
      "D:\\anaconda\\envs\\ox\\lib\\site-packages\\osmnx\\geocoder.py:110: FutureWarning: The frame.append method is deprecated and will be removed from pandas in a future version. Use pandas.concat instead.\n",
      "  gdf = gdf.append(_geocode_query_to_gdf(q, wr, by_osmid))\n"
     ]
    },
    {
     "name": "stdout",
     "output_type": "stream",
     "text": [
      "Eemnes, Nederland\n"
     ]
    },
    {
     "name": "stderr",
     "output_type": "stream",
     "text": [
      "D:\\anaconda\\envs\\ox\\lib\\site-packages\\osmnx\\geocoder.py:110: FutureWarning: The frame.append method is deprecated and will be removed from pandas in a future version. Use pandas.concat instead.\n",
      "  gdf = gdf.append(_geocode_query_to_gdf(q, wr, by_osmid))\n"
     ]
    },
    {
     "name": "stdout",
     "output_type": "stream",
     "text": [
      "Eersel, Nederland\n"
     ]
    },
    {
     "name": "stderr",
     "output_type": "stream",
     "text": [
      "D:\\anaconda\\envs\\ox\\lib\\site-packages\\osmnx\\geocoder.py:110: FutureWarning: The frame.append method is deprecated and will be removed from pandas in a future version. Use pandas.concat instead.\n",
      "  gdf = gdf.append(_geocode_query_to_gdf(q, wr, by_osmid))\n"
     ]
    },
    {
     "name": "stdout",
     "output_type": "stream",
     "text": [
      "Eijsden-Margraten, Nederland\n"
     ]
    },
    {
     "name": "stderr",
     "output_type": "stream",
     "text": [
      "D:\\anaconda\\envs\\ox\\lib\\site-packages\\osmnx\\geocoder.py:110: FutureWarning: The frame.append method is deprecated and will be removed from pandas in a future version. Use pandas.concat instead.\n",
      "  gdf = gdf.append(_geocode_query_to_gdf(q, wr, by_osmid))\n"
     ]
    },
    {
     "name": "stdout",
     "output_type": "stream",
     "text": [
      "Eindhoven, Nederland\n"
     ]
    },
    {
     "name": "stderr",
     "output_type": "stream",
     "text": [
      "D:\\anaconda\\envs\\ox\\lib\\site-packages\\osmnx\\geocoder.py:110: FutureWarning: The frame.append method is deprecated and will be removed from pandas in a future version. Use pandas.concat instead.\n",
      "  gdf = gdf.append(_geocode_query_to_gdf(q, wr, by_osmid))\n"
     ]
    },
    {
     "name": "stdout",
     "output_type": "stream",
     "text": [
      "Elburg, Nederland\n"
     ]
    },
    {
     "name": "stderr",
     "output_type": "stream",
     "text": [
      "D:\\anaconda\\envs\\ox\\lib\\site-packages\\osmnx\\geocoder.py:110: FutureWarning: The frame.append method is deprecated and will be removed from pandas in a future version. Use pandas.concat instead.\n",
      "  gdf = gdf.append(_geocode_query_to_gdf(q, wr, by_osmid))\n"
     ]
    },
    {
     "name": "stdout",
     "output_type": "stream",
     "text": [
      "Emmen, Nederland\n"
     ]
    },
    {
     "name": "stderr",
     "output_type": "stream",
     "text": [
      "D:\\anaconda\\envs\\ox\\lib\\site-packages\\osmnx\\geocoder.py:110: FutureWarning: The frame.append method is deprecated and will be removed from pandas in a future version. Use pandas.concat instead.\n",
      "  gdf = gdf.append(_geocode_query_to_gdf(q, wr, by_osmid))\n"
     ]
    },
    {
     "name": "stdout",
     "output_type": "stream",
     "text": [
      "Enkhuizen, Nederland\n"
     ]
    },
    {
     "name": "stderr",
     "output_type": "stream",
     "text": [
      "D:\\anaconda\\envs\\ox\\lib\\site-packages\\osmnx\\geocoder.py:110: FutureWarning: The frame.append method is deprecated and will be removed from pandas in a future version. Use pandas.concat instead.\n",
      "  gdf = gdf.append(_geocode_query_to_gdf(q, wr, by_osmid))\n"
     ]
    },
    {
     "name": "stdout",
     "output_type": "stream",
     "text": [
      "Enschede, Nederland\n"
     ]
    },
    {
     "name": "stderr",
     "output_type": "stream",
     "text": [
      "D:\\anaconda\\envs\\ox\\lib\\site-packages\\osmnx\\geocoder.py:110: FutureWarning: The frame.append method is deprecated and will be removed from pandas in a future version. Use pandas.concat instead.\n",
      "  gdf = gdf.append(_geocode_query_to_gdf(q, wr, by_osmid))\n"
     ]
    },
    {
     "name": "stdout",
     "output_type": "stream",
     "text": [
      "Epe, Nederland\n"
     ]
    },
    {
     "name": "stderr",
     "output_type": "stream",
     "text": [
      "D:\\anaconda\\envs\\ox\\lib\\site-packages\\osmnx\\geocoder.py:110: FutureWarning: The frame.append method is deprecated and will be removed from pandas in a future version. Use pandas.concat instead.\n",
      "  gdf = gdf.append(_geocode_query_to_gdf(q, wr, by_osmid))\n"
     ]
    },
    {
     "name": "stdout",
     "output_type": "stream",
     "text": [
      "Ermelo, Nederland\n"
     ]
    },
    {
     "name": "stderr",
     "output_type": "stream",
     "text": [
      "D:\\anaconda\\envs\\ox\\lib\\site-packages\\osmnx\\geocoder.py:110: FutureWarning: The frame.append method is deprecated and will be removed from pandas in a future version. Use pandas.concat instead.\n",
      "  gdf = gdf.append(_geocode_query_to_gdf(q, wr, by_osmid))\n"
     ]
    },
    {
     "name": "stdout",
     "output_type": "stream",
     "text": [
      "Etten-Leur, Nederland\n"
     ]
    },
    {
     "name": "stderr",
     "output_type": "stream",
     "text": [
      "D:\\anaconda\\envs\\ox\\lib\\site-packages\\osmnx\\geocoder.py:110: FutureWarning: The frame.append method is deprecated and will be removed from pandas in a future version. Use pandas.concat instead.\n",
      "  gdf = gdf.append(_geocode_query_to_gdf(q, wr, by_osmid))\n"
     ]
    },
    {
     "name": "stdout",
     "output_type": "stream",
     "text": [
      "De Fryske Marren, Nederland\n"
     ]
    },
    {
     "name": "stderr",
     "output_type": "stream",
     "text": [
      "D:\\anaconda\\envs\\ox\\lib\\site-packages\\osmnx\\geocoder.py:110: FutureWarning: The frame.append method is deprecated and will be removed from pandas in a future version. Use pandas.concat instead.\n",
      "  gdf = gdf.append(_geocode_query_to_gdf(q, wr, by_osmid))\n"
     ]
    },
    {
     "name": "stdout",
     "output_type": "stream",
     "text": [
      "Geertruidenberg, Nederland\n",
      "Geldrop-Mierlo, Nederland\n"
     ]
    },
    {
     "name": "stderr",
     "output_type": "stream",
     "text": [
      "D:\\anaconda\\envs\\ox\\lib\\site-packages\\osmnx\\geocoder.py:110: FutureWarning: The frame.append method is deprecated and will be removed from pandas in a future version. Use pandas.concat instead.\n",
      "  gdf = gdf.append(_geocode_query_to_gdf(q, wr, by_osmid))\n",
      "D:\\anaconda\\envs\\ox\\lib\\site-packages\\osmnx\\geocoder.py:110: FutureWarning: The frame.append method is deprecated and will be removed from pandas in a future version. Use pandas.concat instead.\n",
      "  gdf = gdf.append(_geocode_query_to_gdf(q, wr, by_osmid))\n"
     ]
    },
    {
     "name": "stdout",
     "output_type": "stream",
     "text": [
      "Gemert-Bakel, Nederland\n"
     ]
    },
    {
     "name": "stderr",
     "output_type": "stream",
     "text": [
      "D:\\anaconda\\envs\\ox\\lib\\site-packages\\osmnx\\geocoder.py:110: FutureWarning: The frame.append method is deprecated and will be removed from pandas in a future version. Use pandas.concat instead.\n",
      "  gdf = gdf.append(_geocode_query_to_gdf(q, wr, by_osmid))\n"
     ]
    },
    {
     "name": "stdout",
     "output_type": "stream",
     "text": [
      "Gennep, Nederland\n",
      "Gilze en Rijen, Nederland\n"
     ]
    },
    {
     "name": "stderr",
     "output_type": "stream",
     "text": [
      "D:\\anaconda\\envs\\ox\\lib\\site-packages\\osmnx\\geocoder.py:110: FutureWarning: The frame.append method is deprecated and will be removed from pandas in a future version. Use pandas.concat instead.\n",
      "  gdf = gdf.append(_geocode_query_to_gdf(q, wr, by_osmid))\n",
      "D:\\anaconda\\envs\\ox\\lib\\site-packages\\osmnx\\geocoder.py:110: FutureWarning: The frame.append method is deprecated and will be removed from pandas in a future version. Use pandas.concat instead.\n",
      "  gdf = gdf.append(_geocode_query_to_gdf(q, wr, by_osmid))\n"
     ]
    },
    {
     "name": "stdout",
     "output_type": "stream",
     "text": [
      "Goeree-Overflakkee, Nederland\n"
     ]
    },
    {
     "name": "stderr",
     "output_type": "stream",
     "text": [
      "D:\\anaconda\\envs\\ox\\lib\\site-packages\\osmnx\\geocoder.py:110: FutureWarning: The frame.append method is deprecated and will be removed from pandas in a future version. Use pandas.concat instead.\n",
      "  gdf = gdf.append(_geocode_query_to_gdf(q, wr, by_osmid))\n"
     ]
    },
    {
     "name": "stdout",
     "output_type": "stream",
     "text": [
      "Goes, Nederland\n"
     ]
    },
    {
     "name": "stderr",
     "output_type": "stream",
     "text": [
      "D:\\anaconda\\envs\\ox\\lib\\site-packages\\osmnx\\geocoder.py:110: FutureWarning: The frame.append method is deprecated and will be removed from pandas in a future version. Use pandas.concat instead.\n",
      "  gdf = gdf.append(_geocode_query_to_gdf(q, wr, by_osmid))\n"
     ]
    },
    {
     "name": "stdout",
     "output_type": "stream",
     "text": [
      "Goirle, Nederland\n"
     ]
    },
    {
     "name": "stderr",
     "output_type": "stream",
     "text": [
      "D:\\anaconda\\envs\\ox\\lib\\site-packages\\osmnx\\geocoder.py:110: FutureWarning: The frame.append method is deprecated and will be removed from pandas in a future version. Use pandas.concat instead.\n",
      "  gdf = gdf.append(_geocode_query_to_gdf(q, wr, by_osmid))\n"
     ]
    },
    {
     "name": "stdout",
     "output_type": "stream",
     "text": [
      "Gooise Meren, Nederland\n"
     ]
    },
    {
     "name": "stderr",
     "output_type": "stream",
     "text": [
      "D:\\anaconda\\envs\\ox\\lib\\site-packages\\osmnx\\geocoder.py:110: FutureWarning: The frame.append method is deprecated and will be removed from pandas in a future version. Use pandas.concat instead.\n",
      "  gdf = gdf.append(_geocode_query_to_gdf(q, wr, by_osmid))\n"
     ]
    },
    {
     "name": "stdout",
     "output_type": "stream",
     "text": [
      "Gorinchem, Nederland\n"
     ]
    },
    {
     "name": "stderr",
     "output_type": "stream",
     "text": [
      "D:\\anaconda\\envs\\ox\\lib\\site-packages\\osmnx\\geocoder.py:110: FutureWarning: The frame.append method is deprecated and will be removed from pandas in a future version. Use pandas.concat instead.\n",
      "  gdf = gdf.append(_geocode_query_to_gdf(q, wr, by_osmid))\n",
      "D:\\anaconda\\envs\\ox\\lib\\site-packages\\osmnx\\geocoder.py:110: FutureWarning: The frame.append method is deprecated and will be removed from pandas in a future version. Use pandas.concat instead.\n",
      "  gdf = gdf.append(_geocode_query_to_gdf(q, wr, by_osmid))\n"
     ]
    },
    {
     "name": "stdout",
     "output_type": "stream",
     "text": [
      "Gouda, Nederland\n",
      "Grave, Nederland\n"
     ]
    },
    {
     "name": "stderr",
     "output_type": "stream",
     "text": [
      "D:\\anaconda\\envs\\ox\\lib\\site-packages\\osmnx\\geocoder.py:110: FutureWarning: The frame.append method is deprecated and will be removed from pandas in a future version. Use pandas.concat instead.\n",
      "  gdf = gdf.append(_geocode_query_to_gdf(q, wr, by_osmid))\n",
      "D:\\anaconda\\envs\\ox\\lib\\site-packages\\osmnx\\geocoder.py:110: FutureWarning: The frame.append method is deprecated and will be removed from pandas in a future version. Use pandas.concat instead.\n",
      "  gdf = gdf.append(_geocode_query_to_gdf(q, wr, by_osmid))\n"
     ]
    },
    {
     "name": "stdout",
     "output_type": "stream",
     "text": [
      "'s-Gravenhage, Nederland\n",
      "Groningen, Nederland\n"
     ]
    },
    {
     "name": "stderr",
     "output_type": "stream",
     "text": [
      "D:\\anaconda\\envs\\ox\\lib\\site-packages\\osmnx\\geocoder.py:110: FutureWarning: The frame.append method is deprecated and will be removed from pandas in a future version. Use pandas.concat instead.\n",
      "  gdf = gdf.append(_geocode_query_to_gdf(q, wr, by_osmid))\n"
     ]
    },
    {
     "name": "stdout",
     "output_type": "stream",
     "text": [
      "Gulpen-Wittem, Nederland\n"
     ]
    },
    {
     "name": "stderr",
     "output_type": "stream",
     "text": [
      "D:\\anaconda\\envs\\ox\\lib\\site-packages\\osmnx\\geocoder.py:110: FutureWarning: The frame.append method is deprecated and will be removed from pandas in a future version. Use pandas.concat instead.\n",
      "  gdf = gdf.append(_geocode_query_to_gdf(q, wr, by_osmid))\n"
     ]
    },
    {
     "name": "stdout",
     "output_type": "stream",
     "text": [
      "Haaksbergen, Nederland\n"
     ]
    },
    {
     "name": "stderr",
     "output_type": "stream",
     "text": [
      "D:\\anaconda\\envs\\ox\\lib\\site-packages\\osmnx\\geocoder.py:110: FutureWarning: The frame.append method is deprecated and will be removed from pandas in a future version. Use pandas.concat instead.\n",
      "  gdf = gdf.append(_geocode_query_to_gdf(q, wr, by_osmid))\n"
     ]
    },
    {
     "name": "stdout",
     "output_type": "stream",
     "text": [
      "Haarlem, Nederland\n"
     ]
    },
    {
     "name": "stderr",
     "output_type": "stream",
     "text": [
      "D:\\anaconda\\envs\\ox\\lib\\site-packages\\osmnx\\geocoder.py:110: FutureWarning: The frame.append method is deprecated and will be removed from pandas in a future version. Use pandas.concat instead.\n",
      "  gdf = gdf.append(_geocode_query_to_gdf(q, wr, by_osmid))\n"
     ]
    },
    {
     "name": "stdout",
     "output_type": "stream",
     "text": [
      "Haarlemmermeer, Nederland\n"
     ]
    },
    {
     "name": "stderr",
     "output_type": "stream",
     "text": [
      "D:\\anaconda\\envs\\ox\\lib\\site-packages\\osmnx\\geocoder.py:110: FutureWarning: The frame.append method is deprecated and will be removed from pandas in a future version. Use pandas.concat instead.\n",
      "  gdf = gdf.append(_geocode_query_to_gdf(q, wr, by_osmid))\n"
     ]
    },
    {
     "name": "stdout",
     "output_type": "stream",
     "text": [
      "Halderberge, Nederland\n"
     ]
    },
    {
     "name": "stderr",
     "output_type": "stream",
     "text": [
      "D:\\anaconda\\envs\\ox\\lib\\site-packages\\osmnx\\geocoder.py:110: FutureWarning: The frame.append method is deprecated and will be removed from pandas in a future version. Use pandas.concat instead.\n",
      "  gdf = gdf.append(_geocode_query_to_gdf(q, wr, by_osmid))\n"
     ]
    },
    {
     "name": "stdout",
     "output_type": "stream",
     "text": [
      "Hardenberg, Nederland\n"
     ]
    },
    {
     "name": "stderr",
     "output_type": "stream",
     "text": [
      "D:\\anaconda\\envs\\ox\\lib\\site-packages\\osmnx\\geocoder.py:110: FutureWarning: The frame.append method is deprecated and will be removed from pandas in a future version. Use pandas.concat instead.\n",
      "  gdf = gdf.append(_geocode_query_to_gdf(q, wr, by_osmid))\n"
     ]
    },
    {
     "name": "stdout",
     "output_type": "stream",
     "text": [
      "Harderwijk, Nederland\n"
     ]
    },
    {
     "name": "stderr",
     "output_type": "stream",
     "text": [
      "D:\\anaconda\\envs\\ox\\lib\\site-packages\\osmnx\\geocoder.py:110: FutureWarning: The frame.append method is deprecated and will be removed from pandas in a future version. Use pandas.concat instead.\n",
      "  gdf = gdf.append(_geocode_query_to_gdf(q, wr, by_osmid))\n"
     ]
    },
    {
     "name": "stdout",
     "output_type": "stream",
     "text": [
      "Hardinxveld-Giessendam, Nederland\n"
     ]
    },
    {
     "name": "stderr",
     "output_type": "stream",
     "text": [
      "D:\\anaconda\\envs\\ox\\lib\\site-packages\\osmnx\\geocoder.py:110: FutureWarning: The frame.append method is deprecated and will be removed from pandas in a future version. Use pandas.concat instead.\n",
      "  gdf = gdf.append(_geocode_query_to_gdf(q, wr, by_osmid))\n"
     ]
    },
    {
     "name": "stdout",
     "output_type": "stream",
     "text": [
      "Harlingen, Nederland\n"
     ]
    },
    {
     "name": "stderr",
     "output_type": "stream",
     "text": [
      "D:\\anaconda\\envs\\ox\\lib\\site-packages\\osmnx\\geocoder.py:110: FutureWarning: The frame.append method is deprecated and will be removed from pandas in a future version. Use pandas.concat instead.\n",
      "  gdf = gdf.append(_geocode_query_to_gdf(q, wr, by_osmid))\n"
     ]
    },
    {
     "name": "stdout",
     "output_type": "stream",
     "text": [
      "Hattem, Nederland\n"
     ]
    },
    {
     "name": "stderr",
     "output_type": "stream",
     "text": [
      "D:\\anaconda\\envs\\ox\\lib\\site-packages\\osmnx\\geocoder.py:110: FutureWarning: The frame.append method is deprecated and will be removed from pandas in a future version. Use pandas.concat instead.\n",
      "  gdf = gdf.append(_geocode_query_to_gdf(q, wr, by_osmid))\n"
     ]
    },
    {
     "name": "stdout",
     "output_type": "stream",
     "text": [
      "Heemskerk, Nederland\n"
     ]
    },
    {
     "name": "stderr",
     "output_type": "stream",
     "text": [
      "D:\\anaconda\\envs\\ox\\lib\\site-packages\\osmnx\\geocoder.py:110: FutureWarning: The frame.append method is deprecated and will be removed from pandas in a future version. Use pandas.concat instead.\n",
      "  gdf = gdf.append(_geocode_query_to_gdf(q, wr, by_osmid))\n"
     ]
    },
    {
     "name": "stdout",
     "output_type": "stream",
     "text": [
      "Heemstede, Nederland\n"
     ]
    },
    {
     "name": "stderr",
     "output_type": "stream",
     "text": [
      "D:\\anaconda\\envs\\ox\\lib\\site-packages\\osmnx\\geocoder.py:110: FutureWarning: The frame.append method is deprecated and will be removed from pandas in a future version. Use pandas.concat instead.\n",
      "  gdf = gdf.append(_geocode_query_to_gdf(q, wr, by_osmid))\n",
      "D:\\anaconda\\envs\\ox\\lib\\site-packages\\osmnx\\geocoder.py:110: FutureWarning: The frame.append method is deprecated and will be removed from pandas in a future version. Use pandas.concat instead.\n",
      "  gdf = gdf.append(_geocode_query_to_gdf(q, wr, by_osmid))\n"
     ]
    },
    {
     "name": "stdout",
     "output_type": "stream",
     "text": [
      "Heerde, Nederland\n",
      "Heerenveen, Nederland\n"
     ]
    },
    {
     "name": "stderr",
     "output_type": "stream",
     "text": [
      "D:\\anaconda\\envs\\ox\\lib\\site-packages\\osmnx\\geocoder.py:110: FutureWarning: The frame.append method is deprecated and will be removed from pandas in a future version. Use pandas.concat instead.\n",
      "  gdf = gdf.append(_geocode_query_to_gdf(q, wr, by_osmid))\n"
     ]
    },
    {
     "name": "stdout",
     "output_type": "stream",
     "text": [
      "Heerhugowaard, Nederland\n",
      "Heerlen, Nederland\n",
      "Heeze-Leende, Nederland\n"
     ]
    },
    {
     "name": "stderr",
     "output_type": "stream",
     "text": [
      "D:\\anaconda\\envs\\ox\\lib\\site-packages\\osmnx\\geocoder.py:110: FutureWarning: The frame.append method is deprecated and will be removed from pandas in a future version. Use pandas.concat instead.\n",
      "  gdf = gdf.append(_geocode_query_to_gdf(q, wr, by_osmid))\n",
      "D:\\anaconda\\envs\\ox\\lib\\site-packages\\osmnx\\geocoder.py:110: FutureWarning: The frame.append method is deprecated and will be removed from pandas in a future version. Use pandas.concat instead.\n",
      "  gdf = gdf.append(_geocode_query_to_gdf(q, wr, by_osmid))\n",
      "D:\\anaconda\\envs\\ox\\lib\\site-packages\\osmnx\\geocoder.py:110: FutureWarning: The frame.append method is deprecated and will be removed from pandas in a future version. Use pandas.concat instead.\n",
      "  gdf = gdf.append(_geocode_query_to_gdf(q, wr, by_osmid))\n"
     ]
    },
    {
     "name": "stdout",
     "output_type": "stream",
     "text": [
      "Heiloo, Nederland\n"
     ]
    },
    {
     "name": "stderr",
     "output_type": "stream",
     "text": [
      "D:\\anaconda\\envs\\ox\\lib\\site-packages\\osmnx\\geocoder.py:110: FutureWarning: The frame.append method is deprecated and will be removed from pandas in a future version. Use pandas.concat instead.\n",
      "  gdf = gdf.append(_geocode_query_to_gdf(q, wr, by_osmid))\n"
     ]
    },
    {
     "name": "stdout",
     "output_type": "stream",
     "text": [
      "Den Helder, Nederland\n",
      "Hellendoorn, Nederland\n"
     ]
    },
    {
     "name": "stderr",
     "output_type": "stream",
     "text": [
      "D:\\anaconda\\envs\\ox\\lib\\site-packages\\osmnx\\geocoder.py:110: FutureWarning: The frame.append method is deprecated and will be removed from pandas in a future version. Use pandas.concat instead.\n",
      "  gdf = gdf.append(_geocode_query_to_gdf(q, wr, by_osmid))\n",
      "D:\\anaconda\\envs\\ox\\lib\\site-packages\\osmnx\\geocoder.py:110: FutureWarning: The frame.append method is deprecated and will be removed from pandas in a future version. Use pandas.concat instead.\n",
      "  gdf = gdf.append(_geocode_query_to_gdf(q, wr, by_osmid))\n"
     ]
    },
    {
     "name": "stdout",
     "output_type": "stream",
     "text": [
      "Hellevoetsluis, Nederland\n",
      "Helmond, Nederland\n"
     ]
    },
    {
     "name": "stderr",
     "output_type": "stream",
     "text": [
      "D:\\anaconda\\envs\\ox\\lib\\site-packages\\osmnx\\geocoder.py:110: FutureWarning: The frame.append method is deprecated and will be removed from pandas in a future version. Use pandas.concat instead.\n",
      "  gdf = gdf.append(_geocode_query_to_gdf(q, wr, by_osmid))\n",
      "D:\\anaconda\\envs\\ox\\lib\\site-packages\\osmnx\\geocoder.py:110: FutureWarning: The frame.append method is deprecated and will be removed from pandas in a future version. Use pandas.concat instead.\n",
      "  gdf = gdf.append(_geocode_query_to_gdf(q, wr, by_osmid))\n"
     ]
    },
    {
     "name": "stdout",
     "output_type": "stream",
     "text": [
      "Hendrik-Ido-Ambacht, Nederland\n",
      "Hengelo (O.), Nederland\n"
     ]
    },
    {
     "name": "stderr",
     "output_type": "stream",
     "text": [
      "D:\\anaconda\\envs\\ox\\lib\\site-packages\\osmnx\\geocoder.py:110: FutureWarning: The frame.append method is deprecated and will be removed from pandas in a future version. Use pandas.concat instead.\n",
      "  gdf = gdf.append(_geocode_query_to_gdf(q, wr, by_osmid))\n",
      "D:\\anaconda\\envs\\ox\\lib\\site-packages\\osmnx\\geocoder.py:110: FutureWarning: The frame.append method is deprecated and will be removed from pandas in a future version. Use pandas.concat instead.\n",
      "  gdf = gdf.append(_geocode_query_to_gdf(q, wr, by_osmid))\n"
     ]
    },
    {
     "name": "stdout",
     "output_type": "stream",
     "text": [
      "'s-Hertogenbosch, Nederland\n"
     ]
    },
    {
     "name": "stderr",
     "output_type": "stream",
     "text": [
      "D:\\anaconda\\envs\\ox\\lib\\site-packages\\osmnx\\geocoder.py:110: FutureWarning: The frame.append method is deprecated and will be removed from pandas in a future version. Use pandas.concat instead.\n",
      "  gdf = gdf.append(_geocode_query_to_gdf(q, wr, by_osmid))\n"
     ]
    },
    {
     "name": "stdout",
     "output_type": "stream",
     "text": [
      "Heumen, Nederland\n"
     ]
    },
    {
     "name": "stderr",
     "output_type": "stream",
     "text": [
      "D:\\anaconda\\envs\\ox\\lib\\site-packages\\osmnx\\geocoder.py:110: FutureWarning: The frame.append method is deprecated and will be removed from pandas in a future version. Use pandas.concat instead.\n",
      "  gdf = gdf.append(_geocode_query_to_gdf(q, wr, by_osmid))\n"
     ]
    },
    {
     "name": "stdout",
     "output_type": "stream",
     "text": [
      "Heusden, Nederland\n"
     ]
    },
    {
     "name": "stderr",
     "output_type": "stream",
     "text": [
      "D:\\anaconda\\envs\\ox\\lib\\site-packages\\osmnx\\geocoder.py:110: FutureWarning: The frame.append method is deprecated and will be removed from pandas in a future version. Use pandas.concat instead.\n",
      "  gdf = gdf.append(_geocode_query_to_gdf(q, wr, by_osmid))\n"
     ]
    },
    {
     "name": "stdout",
     "output_type": "stream",
     "text": [
      "Hillegom, Nederland\n"
     ]
    },
    {
     "name": "stderr",
     "output_type": "stream",
     "text": [
      "D:\\anaconda\\envs\\ox\\lib\\site-packages\\osmnx\\geocoder.py:110: FutureWarning: The frame.append method is deprecated and will be removed from pandas in a future version. Use pandas.concat instead.\n",
      "  gdf = gdf.append(_geocode_query_to_gdf(q, wr, by_osmid))\n",
      "D:\\anaconda\\envs\\ox\\lib\\site-packages\\osmnx\\geocoder.py:110: FutureWarning: The frame.append method is deprecated and will be removed from pandas in a future version. Use pandas.concat instead.\n",
      "  gdf = gdf.append(_geocode_query_to_gdf(q, wr, by_osmid))\n"
     ]
    },
    {
     "name": "stdout",
     "output_type": "stream",
     "text": [
      "Hilvarenbeek, Nederland\n",
      "Hilversum, Nederland\n"
     ]
    },
    {
     "name": "stderr",
     "output_type": "stream",
     "text": [
      "D:\\anaconda\\envs\\ox\\lib\\site-packages\\osmnx\\geocoder.py:110: FutureWarning: The frame.append method is deprecated and will be removed from pandas in a future version. Use pandas.concat instead.\n",
      "  gdf = gdf.append(_geocode_query_to_gdf(q, wr, by_osmid))\n"
     ]
    },
    {
     "name": "stdout",
     "output_type": "stream",
     "text": [
      "Hoeksche Waard, Nederland\n"
     ]
    },
    {
     "name": "stderr",
     "output_type": "stream",
     "text": [
      "D:\\anaconda\\envs\\ox\\lib\\site-packages\\osmnx\\geocoder.py:110: FutureWarning: The frame.append method is deprecated and will be removed from pandas in a future version. Use pandas.concat instead.\n",
      "  gdf = gdf.append(_geocode_query_to_gdf(q, wr, by_osmid))\n"
     ]
    },
    {
     "name": "stdout",
     "output_type": "stream",
     "text": [
      "Hof van Twente, Nederland\n"
     ]
    },
    {
     "name": "stderr",
     "output_type": "stream",
     "text": [
      "D:\\anaconda\\envs\\ox\\lib\\site-packages\\osmnx\\geocoder.py:110: FutureWarning: The frame.append method is deprecated and will be removed from pandas in a future version. Use pandas.concat instead.\n",
      "  gdf = gdf.append(_geocode_query_to_gdf(q, wr, by_osmid))\n"
     ]
    },
    {
     "name": "stdout",
     "output_type": "stream",
     "text": [
      "Het Hogeland, Nederland\n"
     ]
    },
    {
     "name": "stderr",
     "output_type": "stream",
     "text": [
      "D:\\anaconda\\envs\\ox\\lib\\site-packages\\osmnx\\geocoder.py:110: FutureWarning: The frame.append method is deprecated and will be removed from pandas in a future version. Use pandas.concat instead.\n",
      "  gdf = gdf.append(_geocode_query_to_gdf(q, wr, by_osmid))\n"
     ]
    },
    {
     "name": "stdout",
     "output_type": "stream",
     "text": [
      "Hollands Kroon, Nederland\n"
     ]
    },
    {
     "name": "stderr",
     "output_type": "stream",
     "text": [
      "D:\\anaconda\\envs\\ox\\lib\\site-packages\\osmnx\\geocoder.py:110: FutureWarning: The frame.append method is deprecated and will be removed from pandas in a future version. Use pandas.concat instead.\n",
      "  gdf = gdf.append(_geocode_query_to_gdf(q, wr, by_osmid))\n"
     ]
    },
    {
     "name": "stdout",
     "output_type": "stream",
     "text": [
      "Hoogeveen, Nederland\n"
     ]
    },
    {
     "name": "stderr",
     "output_type": "stream",
     "text": [
      "D:\\anaconda\\envs\\ox\\lib\\site-packages\\osmnx\\geocoder.py:110: FutureWarning: The frame.append method is deprecated and will be removed from pandas in a future version. Use pandas.concat instead.\n",
      "  gdf = gdf.append(_geocode_query_to_gdf(q, wr, by_osmid))\n"
     ]
    },
    {
     "name": "stdout",
     "output_type": "stream",
     "text": [
      "Hoorn, Nederland\n"
     ]
    },
    {
     "name": "stderr",
     "output_type": "stream",
     "text": [
      "D:\\anaconda\\envs\\ox\\lib\\site-packages\\osmnx\\geocoder.py:110: FutureWarning: The frame.append method is deprecated and will be removed from pandas in a future version. Use pandas.concat instead.\n",
      "  gdf = gdf.append(_geocode_query_to_gdf(q, wr, by_osmid))\n"
     ]
    },
    {
     "name": "stdout",
     "output_type": "stream",
     "text": [
      "Horst aan de Maas, Nederland\n"
     ]
    },
    {
     "name": "stderr",
     "output_type": "stream",
     "text": [
      "D:\\anaconda\\envs\\ox\\lib\\site-packages\\osmnx\\geocoder.py:110: FutureWarning: The frame.append method is deprecated and will be removed from pandas in a future version. Use pandas.concat instead.\n",
      "  gdf = gdf.append(_geocode_query_to_gdf(q, wr, by_osmid))\n"
     ]
    },
    {
     "name": "stdout",
     "output_type": "stream",
     "text": [
      "Houten, Nederland\n"
     ]
    },
    {
     "name": "stderr",
     "output_type": "stream",
     "text": [
      "D:\\anaconda\\envs\\ox\\lib\\site-packages\\osmnx\\geocoder.py:110: FutureWarning: The frame.append method is deprecated and will be removed from pandas in a future version. Use pandas.concat instead.\n",
      "  gdf = gdf.append(_geocode_query_to_gdf(q, wr, by_osmid))\n"
     ]
    },
    {
     "name": "stdout",
     "output_type": "stream",
     "text": [
      "Huizen, Nederland\n"
     ]
    },
    {
     "name": "stderr",
     "output_type": "stream",
     "text": [
      "D:\\anaconda\\envs\\ox\\lib\\site-packages\\osmnx\\geocoder.py:110: FutureWarning: The frame.append method is deprecated and will be removed from pandas in a future version. Use pandas.concat instead.\n",
      "  gdf = gdf.append(_geocode_query_to_gdf(q, wr, by_osmid))\n"
     ]
    },
    {
     "name": "stdout",
     "output_type": "stream",
     "text": [
      "Hulst, Nederland\n"
     ]
    },
    {
     "name": "stderr",
     "output_type": "stream",
     "text": [
      "D:\\anaconda\\envs\\ox\\lib\\site-packages\\osmnx\\geocoder.py:110: FutureWarning: The frame.append method is deprecated and will be removed from pandas in a future version. Use pandas.concat instead.\n",
      "  gdf = gdf.append(_geocode_query_to_gdf(q, wr, by_osmid))\n"
     ]
    },
    {
     "name": "stdout",
     "output_type": "stream",
     "text": [
      "IJsselstein, Nederland\n"
     ]
    },
    {
     "name": "stderr",
     "output_type": "stream",
     "text": [
      "D:\\anaconda\\envs\\ox\\lib\\site-packages\\osmnx\\geocoder.py:110: FutureWarning: The frame.append method is deprecated and will be removed from pandas in a future version. Use pandas.concat instead.\n",
      "  gdf = gdf.append(_geocode_query_to_gdf(q, wr, by_osmid))\n"
     ]
    },
    {
     "name": "stdout",
     "output_type": "stream",
     "text": [
      "Kaag en Braassem, Nederland\n"
     ]
    },
    {
     "name": "stderr",
     "output_type": "stream",
     "text": [
      "D:\\anaconda\\envs\\ox\\lib\\site-packages\\osmnx\\geocoder.py:110: FutureWarning: The frame.append method is deprecated and will be removed from pandas in a future version. Use pandas.concat instead.\n",
      "  gdf = gdf.append(_geocode_query_to_gdf(q, wr, by_osmid))\n"
     ]
    },
    {
     "name": "stdout",
     "output_type": "stream",
     "text": [
      "Kampen, Nederland\n"
     ]
    },
    {
     "name": "stderr",
     "output_type": "stream",
     "text": [
      "D:\\anaconda\\envs\\ox\\lib\\site-packages\\osmnx\\geocoder.py:110: FutureWarning: The frame.append method is deprecated and will be removed from pandas in a future version. Use pandas.concat instead.\n",
      "  gdf = gdf.append(_geocode_query_to_gdf(q, wr, by_osmid))\n"
     ]
    },
    {
     "name": "stdout",
     "output_type": "stream",
     "text": [
      "Kapelle, Nederland\n"
     ]
    },
    {
     "name": "stderr",
     "output_type": "stream",
     "text": [
      "D:\\anaconda\\envs\\ox\\lib\\site-packages\\osmnx\\geocoder.py:110: FutureWarning: The frame.append method is deprecated and will be removed from pandas in a future version. Use pandas.concat instead.\n",
      "  gdf = gdf.append(_geocode_query_to_gdf(q, wr, by_osmid))\n"
     ]
    },
    {
     "name": "stdout",
     "output_type": "stream",
     "text": [
      "Katwijk, Nederland\n"
     ]
    },
    {
     "name": "stderr",
     "output_type": "stream",
     "text": [
      "D:\\anaconda\\envs\\ox\\lib\\site-packages\\osmnx\\geocoder.py:110: FutureWarning: The frame.append method is deprecated and will be removed from pandas in a future version. Use pandas.concat instead.\n",
      "  gdf = gdf.append(_geocode_query_to_gdf(q, wr, by_osmid))\n"
     ]
    },
    {
     "name": "stdout",
     "output_type": "stream",
     "text": [
      "Kerkrade, Nederland\n"
     ]
    },
    {
     "name": "stderr",
     "output_type": "stream",
     "text": [
      "D:\\anaconda\\envs\\ox\\lib\\site-packages\\osmnx\\geocoder.py:110: FutureWarning: The frame.append method is deprecated and will be removed from pandas in a future version. Use pandas.concat instead.\n",
      "  gdf = gdf.append(_geocode_query_to_gdf(q, wr, by_osmid))\n"
     ]
    },
    {
     "name": "stdout",
     "output_type": "stream",
     "text": [
      "Koggenland, Nederland\n"
     ]
    },
    {
     "name": "stderr",
     "output_type": "stream",
     "text": [
      "D:\\anaconda\\envs\\ox\\lib\\site-packages\\osmnx\\geocoder.py:110: FutureWarning: The frame.append method is deprecated and will be removed from pandas in a future version. Use pandas.concat instead.\n",
      "  gdf = gdf.append(_geocode_query_to_gdf(q, wr, by_osmid))\n"
     ]
    },
    {
     "name": "stdout",
     "output_type": "stream",
     "text": [
      "Krimpen aan den IJssel, Nederland\n",
      "Krimpenerwaard, Nederland\n"
     ]
    },
    {
     "name": "stderr",
     "output_type": "stream",
     "text": [
      "D:\\anaconda\\envs\\ox\\lib\\site-packages\\osmnx\\geocoder.py:110: FutureWarning: The frame.append method is deprecated and will be removed from pandas in a future version. Use pandas.concat instead.\n",
      "  gdf = gdf.append(_geocode_query_to_gdf(q, wr, by_osmid))\n",
      "D:\\anaconda\\envs\\ox\\lib\\site-packages\\osmnx\\geocoder.py:110: FutureWarning: The frame.append method is deprecated and will be removed from pandas in a future version. Use pandas.concat instead.\n",
      "  gdf = gdf.append(_geocode_query_to_gdf(q, wr, by_osmid))\n"
     ]
    },
    {
     "name": "stdout",
     "output_type": "stream",
     "text": [
      "Laarbeek, Nederland\n"
     ]
    },
    {
     "name": "stderr",
     "output_type": "stream",
     "text": [
      "D:\\anaconda\\envs\\ox\\lib\\site-packages\\osmnx\\geocoder.py:110: FutureWarning: The frame.append method is deprecated and will be removed from pandas in a future version. Use pandas.concat instead.\n",
      "  gdf = gdf.append(_geocode_query_to_gdf(q, wr, by_osmid))\n"
     ]
    },
    {
     "name": "stdout",
     "output_type": "stream",
     "text": [
      "Landgraaf, Nederland\n"
     ]
    },
    {
     "name": "stderr",
     "output_type": "stream",
     "text": [
      "D:\\anaconda\\envs\\ox\\lib\\site-packages\\osmnx\\geocoder.py:110: FutureWarning: The frame.append method is deprecated and will be removed from pandas in a future version. Use pandas.concat instead.\n",
      "  gdf = gdf.append(_geocode_query_to_gdf(q, wr, by_osmid))\n"
     ]
    },
    {
     "name": "stdout",
     "output_type": "stream",
     "text": [
      "Landsmeer, Nederland\n"
     ]
    },
    {
     "name": "stderr",
     "output_type": "stream",
     "text": [
      "D:\\anaconda\\envs\\ox\\lib\\site-packages\\osmnx\\geocoder.py:110: FutureWarning: The frame.append method is deprecated and will be removed from pandas in a future version. Use pandas.concat instead.\n",
      "  gdf = gdf.append(_geocode_query_to_gdf(q, wr, by_osmid))\n"
     ]
    },
    {
     "name": "stdout",
     "output_type": "stream",
     "text": [
      "Lansingerland, Nederland\n"
     ]
    },
    {
     "name": "stderr",
     "output_type": "stream",
     "text": [
      "D:\\anaconda\\envs\\ox\\lib\\site-packages\\osmnx\\geocoder.py:110: FutureWarning: The frame.append method is deprecated and will be removed from pandas in a future version. Use pandas.concat instead.\n",
      "  gdf = gdf.append(_geocode_query_to_gdf(q, wr, by_osmid))\n"
     ]
    },
    {
     "name": "stdout",
     "output_type": "stream",
     "text": [
      "Laren (NH.), Nederland\n"
     ]
    },
    {
     "name": "stderr",
     "output_type": "stream",
     "text": [
      "D:\\anaconda\\envs\\ox\\lib\\site-packages\\osmnx\\geocoder.py:110: FutureWarning: The frame.append method is deprecated and will be removed from pandas in a future version. Use pandas.concat instead.\n",
      "  gdf = gdf.append(_geocode_query_to_gdf(q, wr, by_osmid))\n"
     ]
    },
    {
     "name": "stdout",
     "output_type": "stream",
     "text": [
      "Leeuwarden, Nederland\n"
     ]
    },
    {
     "name": "stderr",
     "output_type": "stream",
     "text": [
      "D:\\anaconda\\envs\\ox\\lib\\site-packages\\osmnx\\geocoder.py:110: FutureWarning: The frame.append method is deprecated and will be removed from pandas in a future version. Use pandas.concat instead.\n",
      "  gdf = gdf.append(_geocode_query_to_gdf(q, wr, by_osmid))\n"
     ]
    },
    {
     "name": "stdout",
     "output_type": "stream",
     "text": [
      "Leiden, Nederland\n"
     ]
    },
    {
     "name": "stderr",
     "output_type": "stream",
     "text": [
      "D:\\anaconda\\envs\\ox\\lib\\site-packages\\osmnx\\geocoder.py:110: FutureWarning: The frame.append method is deprecated and will be removed from pandas in a future version. Use pandas.concat instead.\n",
      "  gdf = gdf.append(_geocode_query_to_gdf(q, wr, by_osmid))\n"
     ]
    },
    {
     "name": "stdout",
     "output_type": "stream",
     "text": [
      "Leiderdorp, Nederland\n"
     ]
    },
    {
     "name": "stderr",
     "output_type": "stream",
     "text": [
      "D:\\anaconda\\envs\\ox\\lib\\site-packages\\osmnx\\geocoder.py:110: FutureWarning: The frame.append method is deprecated and will be removed from pandas in a future version. Use pandas.concat instead.\n",
      "  gdf = gdf.append(_geocode_query_to_gdf(q, wr, by_osmid))\n"
     ]
    },
    {
     "name": "stdout",
     "output_type": "stream",
     "text": [
      "Leidschendam-Voorburg, Nederland\n"
     ]
    },
    {
     "name": "stderr",
     "output_type": "stream",
     "text": [
      "D:\\anaconda\\envs\\ox\\lib\\site-packages\\osmnx\\geocoder.py:110: FutureWarning: The frame.append method is deprecated and will be removed from pandas in a future version. Use pandas.concat instead.\n",
      "  gdf = gdf.append(_geocode_query_to_gdf(q, wr, by_osmid))\n"
     ]
    },
    {
     "name": "stdout",
     "output_type": "stream",
     "text": [
      "Lelystad, Nederland\n"
     ]
    },
    {
     "name": "stderr",
     "output_type": "stream",
     "text": [
      "D:\\anaconda\\envs\\ox\\lib\\site-packages\\osmnx\\geocoder.py:110: FutureWarning: The frame.append method is deprecated and will be removed from pandas in a future version. Use pandas.concat instead.\n",
      "  gdf = gdf.append(_geocode_query_to_gdf(q, wr, by_osmid))\n"
     ]
    },
    {
     "name": "stdout",
     "output_type": "stream",
     "text": [
      "Leudal, Nederland\n"
     ]
    },
    {
     "name": "stderr",
     "output_type": "stream",
     "text": [
      "D:\\anaconda\\envs\\ox\\lib\\site-packages\\osmnx\\geocoder.py:110: FutureWarning: The frame.append method is deprecated and will be removed from pandas in a future version. Use pandas.concat instead.\n",
      "  gdf = gdf.append(_geocode_query_to_gdf(q, wr, by_osmid))\n"
     ]
    },
    {
     "name": "stdout",
     "output_type": "stream",
     "text": [
      "Leusden, Nederland\n"
     ]
    },
    {
     "name": "stderr",
     "output_type": "stream",
     "text": [
      "D:\\anaconda\\envs\\ox\\lib\\site-packages\\osmnx\\geocoder.py:110: FutureWarning: The frame.append method is deprecated and will be removed from pandas in a future version. Use pandas.concat instead.\n",
      "  gdf = gdf.append(_geocode_query_to_gdf(q, wr, by_osmid))\n"
     ]
    },
    {
     "name": "stdout",
     "output_type": "stream",
     "text": [
      "Lingewaard, Nederland\n"
     ]
    },
    {
     "name": "stderr",
     "output_type": "stream",
     "text": [
      "D:\\anaconda\\envs\\ox\\lib\\site-packages\\osmnx\\geocoder.py:110: FutureWarning: The frame.append method is deprecated and will be removed from pandas in a future version. Use pandas.concat instead.\n",
      "  gdf = gdf.append(_geocode_query_to_gdf(q, wr, by_osmid))\n"
     ]
    },
    {
     "name": "stdout",
     "output_type": "stream",
     "text": [
      "Lisse, Nederland\n"
     ]
    },
    {
     "name": "stderr",
     "output_type": "stream",
     "text": [
      "D:\\anaconda\\envs\\ox\\lib\\site-packages\\osmnx\\geocoder.py:110: FutureWarning: The frame.append method is deprecated and will be removed from pandas in a future version. Use pandas.concat instead.\n",
      "  gdf = gdf.append(_geocode_query_to_gdf(q, wr, by_osmid))\n"
     ]
    },
    {
     "name": "stdout",
     "output_type": "stream",
     "text": [
      "Lochem, Nederland\n"
     ]
    },
    {
     "name": "stderr",
     "output_type": "stream",
     "text": [
      "D:\\anaconda\\envs\\ox\\lib\\site-packages\\osmnx\\geocoder.py:110: FutureWarning: The frame.append method is deprecated and will be removed from pandas in a future version. Use pandas.concat instead.\n",
      "  gdf = gdf.append(_geocode_query_to_gdf(q, wr, by_osmid))\n"
     ]
    },
    {
     "name": "stdout",
     "output_type": "stream",
     "text": [
      "Loon op Zand, Nederland\n"
     ]
    },
    {
     "name": "stderr",
     "output_type": "stream",
     "text": [
      "D:\\anaconda\\envs\\ox\\lib\\site-packages\\osmnx\\geocoder.py:110: FutureWarning: The frame.append method is deprecated and will be removed from pandas in a future version. Use pandas.concat instead.\n",
      "  gdf = gdf.append(_geocode_query_to_gdf(q, wr, by_osmid))\n"
     ]
    },
    {
     "name": "stdout",
     "output_type": "stream",
     "text": [
      "Lopik, Nederland\n"
     ]
    },
    {
     "name": "stderr",
     "output_type": "stream",
     "text": [
      "D:\\anaconda\\envs\\ox\\lib\\site-packages\\osmnx\\geocoder.py:110: FutureWarning: The frame.append method is deprecated and will be removed from pandas in a future version. Use pandas.concat instead.\n",
      "  gdf = gdf.append(_geocode_query_to_gdf(q, wr, by_osmid))\n"
     ]
    },
    {
     "name": "stdout",
     "output_type": "stream",
     "text": [
      "Losser, Nederland\n"
     ]
    },
    {
     "name": "stderr",
     "output_type": "stream",
     "text": [
      "D:\\anaconda\\envs\\ox\\lib\\site-packages\\osmnx\\geocoder.py:110: FutureWarning: The frame.append method is deprecated and will be removed from pandas in a future version. Use pandas.concat instead.\n",
      "  gdf = gdf.append(_geocode_query_to_gdf(q, wr, by_osmid))\n",
      "D:\\anaconda\\envs\\ox\\lib\\site-packages\\osmnx\\geocoder.py:110: FutureWarning: The frame.append method is deprecated and will be removed from pandas in a future version. Use pandas.concat instead.\n",
      "  gdf = gdf.append(_geocode_query_to_gdf(q, wr, by_osmid))\n"
     ]
    },
    {
     "name": "stdout",
     "output_type": "stream",
     "text": [
      "Maasdriel, Nederland\n",
      "Maasgouw, Nederland\n"
     ]
    },
    {
     "name": "stderr",
     "output_type": "stream",
     "text": [
      "D:\\anaconda\\envs\\ox\\lib\\site-packages\\osmnx\\geocoder.py:110: FutureWarning: The frame.append method is deprecated and will be removed from pandas in a future version. Use pandas.concat instead.\n",
      "  gdf = gdf.append(_geocode_query_to_gdf(q, wr, by_osmid))\n",
      "D:\\anaconda\\envs\\ox\\lib\\site-packages\\osmnx\\geocoder.py:110: FutureWarning: The frame.append method is deprecated and will be removed from pandas in a future version. Use pandas.concat instead.\n",
      "  gdf = gdf.append(_geocode_query_to_gdf(q, wr, by_osmid))\n"
     ]
    },
    {
     "name": "stdout",
     "output_type": "stream",
     "text": [
      "Maassluis, Nederland\n",
      "Maastricht, Nederland\n"
     ]
    },
    {
     "name": "stderr",
     "output_type": "stream",
     "text": [
      "D:\\anaconda\\envs\\ox\\lib\\site-packages\\osmnx\\geocoder.py:110: FutureWarning: The frame.append method is deprecated and will be removed from pandas in a future version. Use pandas.concat instead.\n",
      "  gdf = gdf.append(_geocode_query_to_gdf(q, wr, by_osmid))\n"
     ]
    },
    {
     "name": "stdout",
     "output_type": "stream",
     "text": [
      "Medemblik, Nederland\n",
      "Meerssen, Nederland\n"
     ]
    },
    {
     "name": "stderr",
     "output_type": "stream",
     "text": [
      "D:\\anaconda\\envs\\ox\\lib\\site-packages\\osmnx\\geocoder.py:110: FutureWarning: The frame.append method is deprecated and will be removed from pandas in a future version. Use pandas.concat instead.\n",
      "  gdf = gdf.append(_geocode_query_to_gdf(q, wr, by_osmid))\n",
      "D:\\anaconda\\envs\\ox\\lib\\site-packages\\osmnx\\geocoder.py:110: FutureWarning: The frame.append method is deprecated and will be removed from pandas in a future version. Use pandas.concat instead.\n",
      "  gdf = gdf.append(_geocode_query_to_gdf(q, wr, by_osmid))\n"
     ]
    },
    {
     "name": "stdout",
     "output_type": "stream",
     "text": [
      "Meierijstad, Nederland\n",
      "Meppel, Nederland\n"
     ]
    },
    {
     "name": "stderr",
     "output_type": "stream",
     "text": [
      "D:\\anaconda\\envs\\ox\\lib\\site-packages\\osmnx\\geocoder.py:110: FutureWarning: The frame.append method is deprecated and will be removed from pandas in a future version. Use pandas.concat instead.\n",
      "  gdf = gdf.append(_geocode_query_to_gdf(q, wr, by_osmid))\n",
      "D:\\anaconda\\envs\\ox\\lib\\site-packages\\osmnx\\geocoder.py:110: FutureWarning: The frame.append method is deprecated and will be removed from pandas in a future version. Use pandas.concat instead.\n",
      "  gdf = gdf.append(_geocode_query_to_gdf(q, wr, by_osmid))\n"
     ]
    },
    {
     "name": "stdout",
     "output_type": "stream",
     "text": [
      "Middelburg (Z.), Nederland\n",
      "Midden-Delfland, Nederland\n"
     ]
    },
    {
     "name": "stderr",
     "output_type": "stream",
     "text": [
      "D:\\anaconda\\envs\\ox\\lib\\site-packages\\osmnx\\geocoder.py:110: FutureWarning: The frame.append method is deprecated and will be removed from pandas in a future version. Use pandas.concat instead.\n",
      "  gdf = gdf.append(_geocode_query_to_gdf(q, wr, by_osmid))\n",
      "D:\\anaconda\\envs\\ox\\lib\\site-packages\\osmnx\\geocoder.py:110: FutureWarning: The frame.append method is deprecated and will be removed from pandas in a future version. Use pandas.concat instead.\n",
      "  gdf = gdf.append(_geocode_query_to_gdf(q, wr, by_osmid))\n"
     ]
    },
    {
     "name": "stdout",
     "output_type": "stream",
     "text": [
      "Midden-Drenthe, Nederland\n"
     ]
    },
    {
     "name": "stderr",
     "output_type": "stream",
     "text": [
      "D:\\anaconda\\envs\\ox\\lib\\site-packages\\osmnx\\geocoder.py:110: FutureWarning: The frame.append method is deprecated and will be removed from pandas in a future version. Use pandas.concat instead.\n",
      "  gdf = gdf.append(_geocode_query_to_gdf(q, wr, by_osmid))\n"
     ]
    },
    {
     "name": "stdout",
     "output_type": "stream",
     "text": [
      "Midden-Groningen, Nederland\n"
     ]
    },
    {
     "name": "stderr",
     "output_type": "stream",
     "text": [
      "D:\\anaconda\\envs\\ox\\lib\\site-packages\\osmnx\\geocoder.py:110: FutureWarning: The frame.append method is deprecated and will be removed from pandas in a future version. Use pandas.concat instead.\n",
      "  gdf = gdf.append(_geocode_query_to_gdf(q, wr, by_osmid))\n"
     ]
    },
    {
     "name": "stdout",
     "output_type": "stream",
     "text": [
      "Moerdijk, Nederland\n"
     ]
    },
    {
     "name": "stderr",
     "output_type": "stream",
     "text": [
      "D:\\anaconda\\envs\\ox\\lib\\site-packages\\osmnx\\geocoder.py:110: FutureWarning: The frame.append method is deprecated and will be removed from pandas in a future version. Use pandas.concat instead.\n",
      "  gdf = gdf.append(_geocode_query_to_gdf(q, wr, by_osmid))\n"
     ]
    },
    {
     "name": "stdout",
     "output_type": "stream",
     "text": [
      "Molenlanden, Nederland\n"
     ]
    },
    {
     "name": "stderr",
     "output_type": "stream",
     "text": [
      "D:\\anaconda\\envs\\ox\\lib\\site-packages\\osmnx\\geocoder.py:110: FutureWarning: The frame.append method is deprecated and will be removed from pandas in a future version. Use pandas.concat instead.\n",
      "  gdf = gdf.append(_geocode_query_to_gdf(q, wr, by_osmid))\n"
     ]
    },
    {
     "name": "stdout",
     "output_type": "stream",
     "text": [
      "Montferland, Nederland\n"
     ]
    },
    {
     "name": "stderr",
     "output_type": "stream",
     "text": [
      "D:\\anaconda\\envs\\ox\\lib\\site-packages\\osmnx\\geocoder.py:110: FutureWarning: The frame.append method is deprecated and will be removed from pandas in a future version. Use pandas.concat instead.\n",
      "  gdf = gdf.append(_geocode_query_to_gdf(q, wr, by_osmid))\n"
     ]
    },
    {
     "name": "stdout",
     "output_type": "stream",
     "text": [
      "Montfoort, Nederland\n"
     ]
    },
    {
     "name": "stderr",
     "output_type": "stream",
     "text": [
      "D:\\anaconda\\envs\\ox\\lib\\site-packages\\osmnx\\geocoder.py:110: FutureWarning: The frame.append method is deprecated and will be removed from pandas in a future version. Use pandas.concat instead.\n",
      "  gdf = gdf.append(_geocode_query_to_gdf(q, wr, by_osmid))\n"
     ]
    },
    {
     "name": "stdout",
     "output_type": "stream",
     "text": [
      "Mook en Middelaar, Nederland\n",
      "Neder-Betuwe, Nederland\n"
     ]
    },
    {
     "name": "stderr",
     "output_type": "stream",
     "text": [
      "D:\\anaconda\\envs\\ox\\lib\\site-packages\\osmnx\\geocoder.py:110: FutureWarning: The frame.append method is deprecated and will be removed from pandas in a future version. Use pandas.concat instead.\n",
      "  gdf = gdf.append(_geocode_query_to_gdf(q, wr, by_osmid))\n",
      "D:\\anaconda\\envs\\ox\\lib\\site-packages\\osmnx\\geocoder.py:110: FutureWarning: The frame.append method is deprecated and will be removed from pandas in a future version. Use pandas.concat instead.\n",
      "  gdf = gdf.append(_geocode_query_to_gdf(q, wr, by_osmid))\n"
     ]
    },
    {
     "name": "stdout",
     "output_type": "stream",
     "text": [
      "Nederweert, Nederland\n",
      "Nieuwegein, Nederland\n"
     ]
    },
    {
     "name": "stderr",
     "output_type": "stream",
     "text": [
      "D:\\anaconda\\envs\\ox\\lib\\site-packages\\osmnx\\geocoder.py:110: FutureWarning: The frame.append method is deprecated and will be removed from pandas in a future version. Use pandas.concat instead.\n",
      "  gdf = gdf.append(_geocode_query_to_gdf(q, wr, by_osmid))\n",
      "D:\\anaconda\\envs\\ox\\lib\\site-packages\\osmnx\\geocoder.py:110: FutureWarning: The frame.append method is deprecated and will be removed from pandas in a future version. Use pandas.concat instead.\n",
      "  gdf = gdf.append(_geocode_query_to_gdf(q, wr, by_osmid))\n"
     ]
    },
    {
     "name": "stdout",
     "output_type": "stream",
     "text": [
      "Nieuwkoop, Nederland\n"
     ]
    },
    {
     "name": "stderr",
     "output_type": "stream",
     "text": [
      "D:\\anaconda\\envs\\ox\\lib\\site-packages\\osmnx\\geocoder.py:110: FutureWarning: The frame.append method is deprecated and will be removed from pandas in a future version. Use pandas.concat instead.\n",
      "  gdf = gdf.append(_geocode_query_to_gdf(q, wr, by_osmid))\n"
     ]
    },
    {
     "name": "stdout",
     "output_type": "stream",
     "text": [
      "Nijkerk, Nederland\n"
     ]
    },
    {
     "name": "stderr",
     "output_type": "stream",
     "text": [
      "D:\\anaconda\\envs\\ox\\lib\\site-packages\\osmnx\\geocoder.py:110: FutureWarning: The frame.append method is deprecated and will be removed from pandas in a future version. Use pandas.concat instead.\n",
      "  gdf = gdf.append(_geocode_query_to_gdf(q, wr, by_osmid))\n"
     ]
    },
    {
     "name": "stdout",
     "output_type": "stream",
     "text": [
      "Nijmegen, Nederland\n"
     ]
    },
    {
     "name": "stderr",
     "output_type": "stream",
     "text": [
      "D:\\anaconda\\envs\\ox\\lib\\site-packages\\osmnx\\geocoder.py:110: FutureWarning: The frame.append method is deprecated and will be removed from pandas in a future version. Use pandas.concat instead.\n",
      "  gdf = gdf.append(_geocode_query_to_gdf(q, wr, by_osmid))\n"
     ]
    },
    {
     "name": "stdout",
     "output_type": "stream",
     "text": [
      "Nissewaard, Nederland\n"
     ]
    },
    {
     "name": "stderr",
     "output_type": "stream",
     "text": [
      "D:\\anaconda\\envs\\ox\\lib\\site-packages\\osmnx\\geocoder.py:110: FutureWarning: The frame.append method is deprecated and will be removed from pandas in a future version. Use pandas.concat instead.\n",
      "  gdf = gdf.append(_geocode_query_to_gdf(q, wr, by_osmid))\n"
     ]
    },
    {
     "name": "stdout",
     "output_type": "stream",
     "text": [
      "Noord-Beveland, Nederland\n"
     ]
    },
    {
     "name": "stderr",
     "output_type": "stream",
     "text": [
      "D:\\anaconda\\envs\\ox\\lib\\site-packages\\osmnx\\geocoder.py:110: FutureWarning: The frame.append method is deprecated and will be removed from pandas in a future version. Use pandas.concat instead.\n",
      "  gdf = gdf.append(_geocode_query_to_gdf(q, wr, by_osmid))\n"
     ]
    },
    {
     "name": "stdout",
     "output_type": "stream",
     "text": [
      "Noordenveld, Nederland\n"
     ]
    },
    {
     "name": "stderr",
     "output_type": "stream",
     "text": [
      "D:\\anaconda\\envs\\ox\\lib\\site-packages\\osmnx\\geocoder.py:110: FutureWarning: The frame.append method is deprecated and will be removed from pandas in a future version. Use pandas.concat instead.\n",
      "  gdf = gdf.append(_geocode_query_to_gdf(q, wr, by_osmid))\n"
     ]
    },
    {
     "name": "stdout",
     "output_type": "stream",
     "text": [
      "Noordoostpolder, Nederland\n"
     ]
    },
    {
     "name": "stderr",
     "output_type": "stream",
     "text": [
      "D:\\anaconda\\envs\\ox\\lib\\site-packages\\osmnx\\geocoder.py:110: FutureWarning: The frame.append method is deprecated and will be removed from pandas in a future version. Use pandas.concat instead.\n",
      "  gdf = gdf.append(_geocode_query_to_gdf(q, wr, by_osmid))\n"
     ]
    },
    {
     "name": "stdout",
     "output_type": "stream",
     "text": [
      "Noordwijk, Nederland\n"
     ]
    },
    {
     "name": "stderr",
     "output_type": "stream",
     "text": [
      "D:\\anaconda\\envs\\ox\\lib\\site-packages\\osmnx\\geocoder.py:110: FutureWarning: The frame.append method is deprecated and will be removed from pandas in a future version. Use pandas.concat instead.\n",
      "  gdf = gdf.append(_geocode_query_to_gdf(q, wr, by_osmid))\n"
     ]
    },
    {
     "name": "stdout",
     "output_type": "stream",
     "text": [
      "Nuenen, Nederland\n"
     ]
    },
    {
     "name": "stderr",
     "output_type": "stream",
     "text": [
      "D:\\anaconda\\envs\\ox\\lib\\site-packages\\osmnx\\geocoder.py:110: FutureWarning: The frame.append method is deprecated and will be removed from pandas in a future version. Use pandas.concat instead.\n",
      "  gdf = gdf.append(_geocode_query_to_gdf(q, wr, by_osmid))\n"
     ]
    },
    {
     "name": "stdout",
     "output_type": "stream",
     "text": [
      "Nunspeet, Nederland\n"
     ]
    },
    {
     "name": "stderr",
     "output_type": "stream",
     "text": [
      "D:\\anaconda\\envs\\ox\\lib\\site-packages\\osmnx\\geocoder.py:110: FutureWarning: The frame.append method is deprecated and will be removed from pandas in a future version. Use pandas.concat instead.\n",
      "  gdf = gdf.append(_geocode_query_to_gdf(q, wr, by_osmid))\n"
     ]
    },
    {
     "name": "stdout",
     "output_type": "stream",
     "text": [
      "Oegstgeest, Nederland\n"
     ]
    },
    {
     "name": "stderr",
     "output_type": "stream",
     "text": [
      "D:\\anaconda\\envs\\ox\\lib\\site-packages\\osmnx\\geocoder.py:110: FutureWarning: The frame.append method is deprecated and will be removed from pandas in a future version. Use pandas.concat instead.\n",
      "  gdf = gdf.append(_geocode_query_to_gdf(q, wr, by_osmid))\n"
     ]
    },
    {
     "name": "stdout",
     "output_type": "stream",
     "text": [
      "Oirschot, Nederland\n"
     ]
    },
    {
     "name": "stderr",
     "output_type": "stream",
     "text": [
      "D:\\anaconda\\envs\\ox\\lib\\site-packages\\osmnx\\geocoder.py:110: FutureWarning: The frame.append method is deprecated and will be removed from pandas in a future version. Use pandas.concat instead.\n",
      "  gdf = gdf.append(_geocode_query_to_gdf(q, wr, by_osmid))\n"
     ]
    },
    {
     "name": "stdout",
     "output_type": "stream",
     "text": [
      "Oisterwijk, Nederland\n"
     ]
    },
    {
     "name": "stderr",
     "output_type": "stream",
     "text": [
      "D:\\anaconda\\envs\\ox\\lib\\site-packages\\osmnx\\geocoder.py:110: FutureWarning: The frame.append method is deprecated and will be removed from pandas in a future version. Use pandas.concat instead.\n",
      "  gdf = gdf.append(_geocode_query_to_gdf(q, wr, by_osmid))\n"
     ]
    },
    {
     "name": "stdout",
     "output_type": "stream",
     "text": [
      "Oldambt, Nederland\n"
     ]
    },
    {
     "name": "stderr",
     "output_type": "stream",
     "text": [
      "D:\\anaconda\\envs\\ox\\lib\\site-packages\\osmnx\\geocoder.py:110: FutureWarning: The frame.append method is deprecated and will be removed from pandas in a future version. Use pandas.concat instead.\n",
      "  gdf = gdf.append(_geocode_query_to_gdf(q, wr, by_osmid))\n"
     ]
    },
    {
     "name": "stdout",
     "output_type": "stream",
     "text": [
      "Oldebroek, Nederland\n"
     ]
    },
    {
     "name": "stderr",
     "output_type": "stream",
     "text": [
      "D:\\anaconda\\envs\\ox\\lib\\site-packages\\osmnx\\geocoder.py:110: FutureWarning: The frame.append method is deprecated and will be removed from pandas in a future version. Use pandas.concat instead.\n",
      "  gdf = gdf.append(_geocode_query_to_gdf(q, wr, by_osmid))\n"
     ]
    },
    {
     "name": "stdout",
     "output_type": "stream",
     "text": [
      "Oldenzaal, Nederland\n"
     ]
    },
    {
     "name": "stderr",
     "output_type": "stream",
     "text": [
      "D:\\anaconda\\envs\\ox\\lib\\site-packages\\osmnx\\geocoder.py:110: FutureWarning: The frame.append method is deprecated and will be removed from pandas in a future version. Use pandas.concat instead.\n",
      "  gdf = gdf.append(_geocode_query_to_gdf(q, wr, by_osmid))\n"
     ]
    },
    {
     "name": "stdout",
     "output_type": "stream",
     "text": [
      "Olst-Wijhe, Nederland\n"
     ]
    },
    {
     "name": "stderr",
     "output_type": "stream",
     "text": [
      "D:\\anaconda\\envs\\ox\\lib\\site-packages\\osmnx\\geocoder.py:110: FutureWarning: The frame.append method is deprecated and will be removed from pandas in a future version. Use pandas.concat instead.\n",
      "  gdf = gdf.append(_geocode_query_to_gdf(q, wr, by_osmid))\n"
     ]
    },
    {
     "name": "stdout",
     "output_type": "stream",
     "text": [
      "Ommen, Nederland\n"
     ]
    },
    {
     "name": "stderr",
     "output_type": "stream",
     "text": [
      "D:\\anaconda\\envs\\ox\\lib\\site-packages\\osmnx\\geocoder.py:110: FutureWarning: The frame.append method is deprecated and will be removed from pandas in a future version. Use pandas.concat instead.\n",
      "  gdf = gdf.append(_geocode_query_to_gdf(q, wr, by_osmid))\n"
     ]
    },
    {
     "name": "stdout",
     "output_type": "stream",
     "text": [
      "Oost Gelre, Nederland\n"
     ]
    },
    {
     "name": "stderr",
     "output_type": "stream",
     "text": [
      "D:\\anaconda\\envs\\ox\\lib\\site-packages\\osmnx\\geocoder.py:110: FutureWarning: The frame.append method is deprecated and will be removed from pandas in a future version. Use pandas.concat instead.\n",
      "  gdf = gdf.append(_geocode_query_to_gdf(q, wr, by_osmid))\n"
     ]
    },
    {
     "name": "stdout",
     "output_type": "stream",
     "text": [
      "Oosterhout, Nederland\n"
     ]
    },
    {
     "name": "stderr",
     "output_type": "stream",
     "text": [
      "D:\\anaconda\\envs\\ox\\lib\\site-packages\\osmnx\\geocoder.py:110: FutureWarning: The frame.append method is deprecated and will be removed from pandas in a future version. Use pandas.concat instead.\n",
      "  gdf = gdf.append(_geocode_query_to_gdf(q, wr, by_osmid))\n"
     ]
    },
    {
     "name": "stdout",
     "output_type": "stream",
     "text": [
      "Ooststellingwerf, Nederland\n"
     ]
    },
    {
     "name": "stderr",
     "output_type": "stream",
     "text": [
      "D:\\anaconda\\envs\\ox\\lib\\site-packages\\osmnx\\geocoder.py:110: FutureWarning: The frame.append method is deprecated and will be removed from pandas in a future version. Use pandas.concat instead.\n",
      "  gdf = gdf.append(_geocode_query_to_gdf(q, wr, by_osmid))\n"
     ]
    },
    {
     "name": "stdout",
     "output_type": "stream",
     "text": [
      "Oostzaan, Nederland\n"
     ]
    },
    {
     "name": "stderr",
     "output_type": "stream",
     "text": [
      "D:\\anaconda\\envs\\ox\\lib\\site-packages\\osmnx\\geocoder.py:110: FutureWarning: The frame.append method is deprecated and will be removed from pandas in a future version. Use pandas.concat instead.\n",
      "  gdf = gdf.append(_geocode_query_to_gdf(q, wr, by_osmid))\n"
     ]
    },
    {
     "name": "stdout",
     "output_type": "stream",
     "text": [
      "Opmeer, Nederland\n",
      "Opsterland, Nederland\n"
     ]
    },
    {
     "name": "stderr",
     "output_type": "stream",
     "text": [
      "D:\\anaconda\\envs\\ox\\lib\\site-packages\\osmnx\\geocoder.py:110: FutureWarning: The frame.append method is deprecated and will be removed from pandas in a future version. Use pandas.concat instead.\n",
      "  gdf = gdf.append(_geocode_query_to_gdf(q, wr, by_osmid))\n",
      "D:\\anaconda\\envs\\ox\\lib\\site-packages\\osmnx\\geocoder.py:110: FutureWarning: The frame.append method is deprecated and will be removed from pandas in a future version. Use pandas.concat instead.\n",
      "  gdf = gdf.append(_geocode_query_to_gdf(q, wr, by_osmid))\n"
     ]
    },
    {
     "name": "stdout",
     "output_type": "stream",
     "text": [
      "Oss, Nederland\n"
     ]
    },
    {
     "name": "stderr",
     "output_type": "stream",
     "text": [
      "D:\\anaconda\\envs\\ox\\lib\\site-packages\\osmnx\\geocoder.py:110: FutureWarning: The frame.append method is deprecated and will be removed from pandas in a future version. Use pandas.concat instead.\n",
      "  gdf = gdf.append(_geocode_query_to_gdf(q, wr, by_osmid))\n"
     ]
    },
    {
     "name": "stdout",
     "output_type": "stream",
     "text": [
      "Oude IJsselstreek, Nederland\n"
     ]
    },
    {
     "name": "stderr",
     "output_type": "stream",
     "text": [
      "D:\\anaconda\\envs\\ox\\lib\\site-packages\\osmnx\\geocoder.py:110: FutureWarning: The frame.append method is deprecated and will be removed from pandas in a future version. Use pandas.concat instead.\n",
      "  gdf = gdf.append(_geocode_query_to_gdf(q, wr, by_osmid))\n"
     ]
    },
    {
     "name": "stdout",
     "output_type": "stream",
     "text": [
      "Ouder-Amstel, Nederland\n"
     ]
    },
    {
     "name": "stderr",
     "output_type": "stream",
     "text": [
      "D:\\anaconda\\envs\\ox\\lib\\site-packages\\osmnx\\geocoder.py:110: FutureWarning: The frame.append method is deprecated and will be removed from pandas in a future version. Use pandas.concat instead.\n",
      "  gdf = gdf.append(_geocode_query_to_gdf(q, wr, by_osmid))\n"
     ]
    },
    {
     "name": "stdout",
     "output_type": "stream",
     "text": [
      "Oudewater, Nederland\n"
     ]
    },
    {
     "name": "stderr",
     "output_type": "stream",
     "text": [
      "D:\\anaconda\\envs\\ox\\lib\\site-packages\\osmnx\\geocoder.py:110: FutureWarning: The frame.append method is deprecated and will be removed from pandas in a future version. Use pandas.concat instead.\n",
      "  gdf = gdf.append(_geocode_query_to_gdf(q, wr, by_osmid))\n"
     ]
    },
    {
     "name": "stdout",
     "output_type": "stream",
     "text": [
      "Overbetuwe, Nederland\n"
     ]
    },
    {
     "name": "stderr",
     "output_type": "stream",
     "text": [
      "D:\\anaconda\\envs\\ox\\lib\\site-packages\\osmnx\\geocoder.py:110: FutureWarning: The frame.append method is deprecated and will be removed from pandas in a future version. Use pandas.concat instead.\n",
      "  gdf = gdf.append(_geocode_query_to_gdf(q, wr, by_osmid))\n"
     ]
    },
    {
     "name": "stdout",
     "output_type": "stream",
     "text": [
      "Papendrecht, Nederland\n",
      "Peel en Maas, Nederland\n"
     ]
    },
    {
     "name": "stderr",
     "output_type": "stream",
     "text": [
      "D:\\anaconda\\envs\\ox\\lib\\site-packages\\osmnx\\geocoder.py:110: FutureWarning: The frame.append method is deprecated and will be removed from pandas in a future version. Use pandas.concat instead.\n",
      "  gdf = gdf.append(_geocode_query_to_gdf(q, wr, by_osmid))\n",
      "D:\\anaconda\\envs\\ox\\lib\\site-packages\\osmnx\\geocoder.py:110: FutureWarning: The frame.append method is deprecated and will be removed from pandas in a future version. Use pandas.concat instead.\n",
      "  gdf = gdf.append(_geocode_query_to_gdf(q, wr, by_osmid))\n"
     ]
    },
    {
     "name": "stdout",
     "output_type": "stream",
     "text": [
      "Pekela, Nederland\n",
      "Pijnacker-Nootdorp, Nederland\n"
     ]
    },
    {
     "name": "stderr",
     "output_type": "stream",
     "text": [
      "D:\\anaconda\\envs\\ox\\lib\\site-packages\\osmnx\\geocoder.py:110: FutureWarning: The frame.append method is deprecated and will be removed from pandas in a future version. Use pandas.concat instead.\n",
      "  gdf = gdf.append(_geocode_query_to_gdf(q, wr, by_osmid))\n",
      "D:\\anaconda\\envs\\ox\\lib\\site-packages\\osmnx\\geocoder.py:110: FutureWarning: The frame.append method is deprecated and will be removed from pandas in a future version. Use pandas.concat instead.\n",
      "  gdf = gdf.append(_geocode_query_to_gdf(q, wr, by_osmid))\n",
      "D:\\anaconda\\envs\\ox\\lib\\site-packages\\osmnx\\geocoder.py:110: FutureWarning: The frame.append method is deprecated and will be removed from pandas in a future version. Use pandas.concat instead.\n",
      "  gdf = gdf.append(_geocode_query_to_gdf(q, wr, by_osmid))\n"
     ]
    },
    {
     "name": "stdout",
     "output_type": "stream",
     "text": [
      "Purmerend, Nederland\n",
      "Putten, Nederland\n"
     ]
    },
    {
     "name": "stderr",
     "output_type": "stream",
     "text": [
      "D:\\anaconda\\envs\\ox\\lib\\site-packages\\osmnx\\geocoder.py:110: FutureWarning: The frame.append method is deprecated and will be removed from pandas in a future version. Use pandas.concat instead.\n",
      "  gdf = gdf.append(_geocode_query_to_gdf(q, wr, by_osmid))\n"
     ]
    },
    {
     "name": "stdout",
     "output_type": "stream",
     "text": [
      "Raalte, Nederland\n",
      "Reimerswaal, Nederland\n"
     ]
    },
    {
     "name": "stderr",
     "output_type": "stream",
     "text": [
      "D:\\anaconda\\envs\\ox\\lib\\site-packages\\osmnx\\geocoder.py:110: FutureWarning: The frame.append method is deprecated and will be removed from pandas in a future version. Use pandas.concat instead.\n",
      "  gdf = gdf.append(_geocode_query_to_gdf(q, wr, by_osmid))\n",
      "D:\\anaconda\\envs\\ox\\lib\\site-packages\\osmnx\\geocoder.py:110: FutureWarning: The frame.append method is deprecated and will be removed from pandas in a future version. Use pandas.concat instead.\n",
      "  gdf = gdf.append(_geocode_query_to_gdf(q, wr, by_osmid))\n"
     ]
    },
    {
     "name": "stdout",
     "output_type": "stream",
     "text": [
      "Renkum, Nederland\n",
      "Renswoude, Nederland\n"
     ]
    },
    {
     "name": "stderr",
     "output_type": "stream",
     "text": [
      "D:\\anaconda\\envs\\ox\\lib\\site-packages\\osmnx\\geocoder.py:110: FutureWarning: The frame.append method is deprecated and will be removed from pandas in a future version. Use pandas.concat instead.\n",
      "  gdf = gdf.append(_geocode_query_to_gdf(q, wr, by_osmid))\n",
      "D:\\anaconda\\envs\\ox\\lib\\site-packages\\osmnx\\geocoder.py:110: FutureWarning: The frame.append method is deprecated and will be removed from pandas in a future version. Use pandas.concat instead.\n",
      "  gdf = gdf.append(_geocode_query_to_gdf(q, wr, by_osmid))\n"
     ]
    },
    {
     "name": "stdout",
     "output_type": "stream",
     "text": [
      "Reusel-De Mierden, Nederland\n",
      "Rheden, Nederland\n"
     ]
    },
    {
     "name": "stderr",
     "output_type": "stream",
     "text": [
      "D:\\anaconda\\envs\\ox\\lib\\site-packages\\osmnx\\geocoder.py:110: FutureWarning: The frame.append method is deprecated and will be removed from pandas in a future version. Use pandas.concat instead.\n",
      "  gdf = gdf.append(_geocode_query_to_gdf(q, wr, by_osmid))\n",
      "D:\\anaconda\\envs\\ox\\lib\\site-packages\\osmnx\\geocoder.py:110: FutureWarning: The frame.append method is deprecated and will be removed from pandas in a future version. Use pandas.concat instead.\n",
      "  gdf = gdf.append(_geocode_query_to_gdf(q, wr, by_osmid))\n"
     ]
    },
    {
     "name": "stdout",
     "output_type": "stream",
     "text": [
      "Rhenen, Nederland\n"
     ]
    },
    {
     "name": "stderr",
     "output_type": "stream",
     "text": [
      "D:\\anaconda\\envs\\ox\\lib\\site-packages\\osmnx\\geocoder.py:110: FutureWarning: The frame.append method is deprecated and will be removed from pandas in a future version. Use pandas.concat instead.\n",
      "  gdf = gdf.append(_geocode_query_to_gdf(q, wr, by_osmid))\n"
     ]
    },
    {
     "name": "stdout",
     "output_type": "stream",
     "text": [
      "Ridderkerk, Nederland\n",
      "Rijssen-Holten, Nederland\n"
     ]
    },
    {
     "name": "stderr",
     "output_type": "stream",
     "text": [
      "D:\\anaconda\\envs\\ox\\lib\\site-packages\\osmnx\\geocoder.py:110: FutureWarning: The frame.append method is deprecated and will be removed from pandas in a future version. Use pandas.concat instead.\n",
      "  gdf = gdf.append(_geocode_query_to_gdf(q, wr, by_osmid))\n",
      "D:\\anaconda\\envs\\ox\\lib\\site-packages\\osmnx\\geocoder.py:110: FutureWarning: The frame.append method is deprecated and will be removed from pandas in a future version. Use pandas.concat instead.\n",
      "  gdf = gdf.append(_geocode_query_to_gdf(q, wr, by_osmid))\n"
     ]
    },
    {
     "name": "stdout",
     "output_type": "stream",
     "text": [
      "Rijswijk (ZH.), Nederland\n"
     ]
    },
    {
     "name": "stderr",
     "output_type": "stream",
     "text": [
      "D:\\anaconda\\envs\\ox\\lib\\site-packages\\osmnx\\geocoder.py:110: FutureWarning: The frame.append method is deprecated and will be removed from pandas in a future version. Use pandas.concat instead.\n",
      "  gdf = gdf.append(_geocode_query_to_gdf(q, wr, by_osmid))\n"
     ]
    },
    {
     "name": "stdout",
     "output_type": "stream",
     "text": [
      "Roerdalen, Nederland\n"
     ]
    },
    {
     "name": "stderr",
     "output_type": "stream",
     "text": [
      "D:\\anaconda\\envs\\ox\\lib\\site-packages\\osmnx\\geocoder.py:110: FutureWarning: The frame.append method is deprecated and will be removed from pandas in a future version. Use pandas.concat instead.\n",
      "  gdf = gdf.append(_geocode_query_to_gdf(q, wr, by_osmid))\n"
     ]
    },
    {
     "name": "stdout",
     "output_type": "stream",
     "text": [
      "Roermond, Nederland\n"
     ]
    },
    {
     "name": "stderr",
     "output_type": "stream",
     "text": [
      "D:\\anaconda\\envs\\ox\\lib\\site-packages\\osmnx\\geocoder.py:110: FutureWarning: The frame.append method is deprecated and will be removed from pandas in a future version. Use pandas.concat instead.\n",
      "  gdf = gdf.append(_geocode_query_to_gdf(q, wr, by_osmid))\n"
     ]
    },
    {
     "name": "stdout",
     "output_type": "stream",
     "text": [
      "De Ronde Venen, Nederland\n"
     ]
    },
    {
     "name": "stderr",
     "output_type": "stream",
     "text": [
      "D:\\anaconda\\envs\\ox\\lib\\site-packages\\osmnx\\geocoder.py:110: FutureWarning: The frame.append method is deprecated and will be removed from pandas in a future version. Use pandas.concat instead.\n",
      "  gdf = gdf.append(_geocode_query_to_gdf(q, wr, by_osmid))\n"
     ]
    },
    {
     "name": "stdout",
     "output_type": "stream",
     "text": [
      "Roosendaal, Nederland\n"
     ]
    },
    {
     "name": "stderr",
     "output_type": "stream",
     "text": [
      "D:\\anaconda\\envs\\ox\\lib\\site-packages\\osmnx\\geocoder.py:110: FutureWarning: The frame.append method is deprecated and will be removed from pandas in a future version. Use pandas.concat instead.\n",
      "  gdf = gdf.append(_geocode_query_to_gdf(q, wr, by_osmid))\n"
     ]
    },
    {
     "name": "stdout",
     "output_type": "stream",
     "text": [
      "Rotterdam, Nederland\n"
     ]
    },
    {
     "name": "stderr",
     "output_type": "stream",
     "text": [
      "D:\\anaconda\\envs\\ox\\lib\\site-packages\\osmnx\\geocoder.py:110: FutureWarning: The frame.append method is deprecated and will be removed from pandas in a future version. Use pandas.concat instead.\n",
      "  gdf = gdf.append(_geocode_query_to_gdf(q, wr, by_osmid))\n"
     ]
    },
    {
     "name": "stdout",
     "output_type": "stream",
     "text": [
      "Rozendaal, Nederland\n",
      "Rucphen, Nederland\n"
     ]
    },
    {
     "name": "stderr",
     "output_type": "stream",
     "text": [
      "D:\\anaconda\\envs\\ox\\lib\\site-packages\\osmnx\\geocoder.py:110: FutureWarning: The frame.append method is deprecated and will be removed from pandas in a future version. Use pandas.concat instead.\n",
      "  gdf = gdf.append(_geocode_query_to_gdf(q, wr, by_osmid))\n",
      "D:\\anaconda\\envs\\ox\\lib\\site-packages\\osmnx\\geocoder.py:110: FutureWarning: The frame.append method is deprecated and will be removed from pandas in a future version. Use pandas.concat instead.\n",
      "  gdf = gdf.append(_geocode_query_to_gdf(q, wr, by_osmid))\n"
     ]
    },
    {
     "name": "stdout",
     "output_type": "stream",
     "text": [
      "Schagen, Nederland\n"
     ]
    },
    {
     "name": "stderr",
     "output_type": "stream",
     "text": [
      "D:\\anaconda\\envs\\ox\\lib\\site-packages\\osmnx\\geocoder.py:110: FutureWarning: The frame.append method is deprecated and will be removed from pandas in a future version. Use pandas.concat instead.\n",
      "  gdf = gdf.append(_geocode_query_to_gdf(q, wr, by_osmid))\n"
     ]
    },
    {
     "name": "stdout",
     "output_type": "stream",
     "text": [
      "Scherpenzeel, Nederland\n"
     ]
    },
    {
     "name": "stderr",
     "output_type": "stream",
     "text": [
      "D:\\anaconda\\envs\\ox\\lib\\site-packages\\osmnx\\geocoder.py:110: FutureWarning: The frame.append method is deprecated and will be removed from pandas in a future version. Use pandas.concat instead.\n",
      "  gdf = gdf.append(_geocode_query_to_gdf(q, wr, by_osmid))\n"
     ]
    },
    {
     "name": "stdout",
     "output_type": "stream",
     "text": [
      "Schiedam, Nederland\n"
     ]
    },
    {
     "name": "stderr",
     "output_type": "stream",
     "text": [
      "D:\\anaconda\\envs\\ox\\lib\\site-packages\\osmnx\\geocoder.py:110: FutureWarning: The frame.append method is deprecated and will be removed from pandas in a future version. Use pandas.concat instead.\n",
      "  gdf = gdf.append(_geocode_query_to_gdf(q, wr, by_osmid))\n"
     ]
    },
    {
     "name": "stdout",
     "output_type": "stream",
     "text": [
      "Schouwen-Duiveland, Nederland\n"
     ]
    },
    {
     "name": "stderr",
     "output_type": "stream",
     "text": [
      "D:\\anaconda\\envs\\ox\\lib\\site-packages\\osmnx\\geocoder.py:110: FutureWarning: The frame.append method is deprecated and will be removed from pandas in a future version. Use pandas.concat instead.\n",
      "  gdf = gdf.append(_geocode_query_to_gdf(q, wr, by_osmid))\n"
     ]
    },
    {
     "name": "stdout",
     "output_type": "stream",
     "text": [
      "Simpelveld, Nederland\n"
     ]
    },
    {
     "name": "stderr",
     "output_type": "stream",
     "text": [
      "D:\\anaconda\\envs\\ox\\lib\\site-packages\\osmnx\\geocoder.py:110: FutureWarning: The frame.append method is deprecated and will be removed from pandas in a future version. Use pandas.concat instead.\n",
      "  gdf = gdf.append(_geocode_query_to_gdf(q, wr, by_osmid))\n"
     ]
    },
    {
     "name": "stdout",
     "output_type": "stream",
     "text": [
      "Sint Anthonis, Nederland\n",
      "Sint-Michielsgestel, Nederland\n"
     ]
    },
    {
     "name": "stderr",
     "output_type": "stream",
     "text": [
      "D:\\anaconda\\envs\\ox\\lib\\site-packages\\osmnx\\geocoder.py:110: FutureWarning: The frame.append method is deprecated and will be removed from pandas in a future version. Use pandas.concat instead.\n",
      "  gdf = gdf.append(_geocode_query_to_gdf(q, wr, by_osmid))\n",
      "D:\\anaconda\\envs\\ox\\lib\\site-packages\\osmnx\\geocoder.py:110: FutureWarning: The frame.append method is deprecated and will be removed from pandas in a future version. Use pandas.concat instead.\n",
      "  gdf = gdf.append(_geocode_query_to_gdf(q, wr, by_osmid))\n"
     ]
    },
    {
     "name": "stdout",
     "output_type": "stream",
     "text": [
      "Sittard-Geleen, Nederland\n"
     ]
    },
    {
     "name": "stderr",
     "output_type": "stream",
     "text": [
      "D:\\anaconda\\envs\\ox\\lib\\site-packages\\osmnx\\geocoder.py:110: FutureWarning: The frame.append method is deprecated and will be removed from pandas in a future version. Use pandas.concat instead.\n",
      "  gdf = gdf.append(_geocode_query_to_gdf(q, wr, by_osmid))\n"
     ]
    },
    {
     "name": "stdout",
     "output_type": "stream",
     "text": [
      "Sliedrecht, Nederland\n"
     ]
    },
    {
     "name": "stderr",
     "output_type": "stream",
     "text": [
      "D:\\anaconda\\envs\\ox\\lib\\site-packages\\osmnx\\geocoder.py:110: FutureWarning: The frame.append method is deprecated and will be removed from pandas in a future version. Use pandas.concat instead.\n",
      "  gdf = gdf.append(_geocode_query_to_gdf(q, wr, by_osmid))\n"
     ]
    },
    {
     "name": "stdout",
     "output_type": "stream",
     "text": [
      "Sluis, Nederland\n"
     ]
    },
    {
     "name": "stderr",
     "output_type": "stream",
     "text": [
      "D:\\anaconda\\envs\\ox\\lib\\site-packages\\osmnx\\geocoder.py:110: FutureWarning: The frame.append method is deprecated and will be removed from pandas in a future version. Use pandas.concat instead.\n",
      "  gdf = gdf.append(_geocode_query_to_gdf(q, wr, by_osmid))\n"
     ]
    },
    {
     "name": "stdout",
     "output_type": "stream",
     "text": [
      "Smallingerland, Nederland\n"
     ]
    },
    {
     "name": "stderr",
     "output_type": "stream",
     "text": [
      "D:\\anaconda\\envs\\ox\\lib\\site-packages\\osmnx\\geocoder.py:110: FutureWarning: The frame.append method is deprecated and will be removed from pandas in a future version. Use pandas.concat instead.\n",
      "  gdf = gdf.append(_geocode_query_to_gdf(q, wr, by_osmid))\n"
     ]
    },
    {
     "name": "stdout",
     "output_type": "stream",
     "text": [
      "Soest, Nederland\n"
     ]
    },
    {
     "name": "stderr",
     "output_type": "stream",
     "text": [
      "D:\\anaconda\\envs\\ox\\lib\\site-packages\\osmnx\\geocoder.py:110: FutureWarning: The frame.append method is deprecated and will be removed from pandas in a future version. Use pandas.concat instead.\n",
      "  gdf = gdf.append(_geocode_query_to_gdf(q, wr, by_osmid))\n"
     ]
    },
    {
     "name": "stdout",
     "output_type": "stream",
     "text": [
      "Someren, Nederland\n",
      "Son en Breugel, Nederland\n"
     ]
    },
    {
     "name": "stderr",
     "output_type": "stream",
     "text": [
      "D:\\anaconda\\envs\\ox\\lib\\site-packages\\osmnx\\geocoder.py:110: FutureWarning: The frame.append method is deprecated and will be removed from pandas in a future version. Use pandas.concat instead.\n",
      "  gdf = gdf.append(_geocode_query_to_gdf(q, wr, by_osmid))\n",
      "D:\\anaconda\\envs\\ox\\lib\\site-packages\\osmnx\\geocoder.py:110: FutureWarning: The frame.append method is deprecated and will be removed from pandas in a future version. Use pandas.concat instead.\n",
      "  gdf = gdf.append(_geocode_query_to_gdf(q, wr, by_osmid))\n"
     ]
    },
    {
     "name": "stdout",
     "output_type": "stream",
     "text": [
      "Stadskanaal, Nederland\n"
     ]
    },
    {
     "name": "stderr",
     "output_type": "stream",
     "text": [
      "D:\\anaconda\\envs\\ox\\lib\\site-packages\\osmnx\\geocoder.py:110: FutureWarning: The frame.append method is deprecated and will be removed from pandas in a future version. Use pandas.concat instead.\n",
      "  gdf = gdf.append(_geocode_query_to_gdf(q, wr, by_osmid))\n"
     ]
    },
    {
     "name": "stdout",
     "output_type": "stream",
     "text": [
      "Staphorst, Nederland\n"
     ]
    },
    {
     "name": "stderr",
     "output_type": "stream",
     "text": [
      "D:\\anaconda\\envs\\ox\\lib\\site-packages\\osmnx\\geocoder.py:110: FutureWarning: The frame.append method is deprecated and will be removed from pandas in a future version. Use pandas.concat instead.\n",
      "  gdf = gdf.append(_geocode_query_to_gdf(q, wr, by_osmid))\n"
     ]
    },
    {
     "name": "stdout",
     "output_type": "stream",
     "text": [
      "Stede Broec, Nederland\n",
      "Steenbergen, Nederland\n"
     ]
    },
    {
     "name": "stderr",
     "output_type": "stream",
     "text": [
      "D:\\anaconda\\envs\\ox\\lib\\site-packages\\osmnx\\geocoder.py:110: FutureWarning: The frame.append method is deprecated and will be removed from pandas in a future version. Use pandas.concat instead.\n",
      "  gdf = gdf.append(_geocode_query_to_gdf(q, wr, by_osmid))\n",
      "D:\\anaconda\\envs\\ox\\lib\\site-packages\\osmnx\\geocoder.py:110: FutureWarning: The frame.append method is deprecated and will be removed from pandas in a future version. Use pandas.concat instead.\n",
      "  gdf = gdf.append(_geocode_query_to_gdf(q, wr, by_osmid))\n"
     ]
    },
    {
     "name": "stdout",
     "output_type": "stream",
     "text": [
      "Steenwijkerland, Nederland\n"
     ]
    },
    {
     "name": "stderr",
     "output_type": "stream",
     "text": [
      "D:\\anaconda\\envs\\ox\\lib\\site-packages\\osmnx\\geocoder.py:110: FutureWarning: The frame.append method is deprecated and will be removed from pandas in a future version. Use pandas.concat instead.\n",
      "  gdf = gdf.append(_geocode_query_to_gdf(q, wr, by_osmid))\n"
     ]
    },
    {
     "name": "stdout",
     "output_type": "stream",
     "text": [
      "Stein (L.), Nederland\n",
      "Stichtse Vecht, Nederland\n"
     ]
    },
    {
     "name": "stderr",
     "output_type": "stream",
     "text": [
      "D:\\anaconda\\envs\\ox\\lib\\site-packages\\osmnx\\geocoder.py:110: FutureWarning: The frame.append method is deprecated and will be removed from pandas in a future version. Use pandas.concat instead.\n",
      "  gdf = gdf.append(_geocode_query_to_gdf(q, wr, by_osmid))\n",
      "D:\\anaconda\\envs\\ox\\lib\\site-packages\\osmnx\\geocoder.py:110: FutureWarning: The frame.append method is deprecated and will be removed from pandas in a future version. Use pandas.concat instead.\n",
      "  gdf = gdf.append(_geocode_query_to_gdf(q, wr, by_osmid))\n"
     ]
    },
    {
     "name": "stdout",
     "output_type": "stream",
     "text": [
      "Terneuzen, Nederland\n"
     ]
    },
    {
     "name": "stderr",
     "output_type": "stream",
     "text": [
      "D:\\anaconda\\envs\\ox\\lib\\site-packages\\osmnx\\geocoder.py:110: FutureWarning: The frame.append method is deprecated and will be removed from pandas in a future version. Use pandas.concat instead.\n",
      "  gdf = gdf.append(_geocode_query_to_gdf(q, wr, by_osmid))\n"
     ]
    },
    {
     "name": "stdout",
     "output_type": "stream",
     "text": [
      "Terschelling, Nederland\n"
     ]
    },
    {
     "name": "stderr",
     "output_type": "stream",
     "text": [
      "D:\\anaconda\\envs\\ox\\lib\\site-packages\\osmnx\\geocoder.py:110: FutureWarning: The frame.append method is deprecated and will be removed from pandas in a future version. Use pandas.concat instead.\n",
      "  gdf = gdf.append(_geocode_query_to_gdf(q, wr, by_osmid))\n"
     ]
    },
    {
     "name": "stdout",
     "output_type": "stream",
     "text": [
      "Texel, Nederland\n"
     ]
    },
    {
     "name": "stderr",
     "output_type": "stream",
     "text": [
      "D:\\anaconda\\envs\\ox\\lib\\site-packages\\osmnx\\geocoder.py:110: FutureWarning: The frame.append method is deprecated and will be removed from pandas in a future version. Use pandas.concat instead.\n",
      "  gdf = gdf.append(_geocode_query_to_gdf(q, wr, by_osmid))\n"
     ]
    },
    {
     "name": "stdout",
     "output_type": "stream",
     "text": [
      "Teylingen, Nederland\n"
     ]
    },
    {
     "name": "stderr",
     "output_type": "stream",
     "text": [
      "D:\\anaconda\\envs\\ox\\lib\\site-packages\\osmnx\\geocoder.py:110: FutureWarning: The frame.append method is deprecated and will be removed from pandas in a future version. Use pandas.concat instead.\n",
      "  gdf = gdf.append(_geocode_query_to_gdf(q, wr, by_osmid))\n"
     ]
    },
    {
     "name": "stdout",
     "output_type": "stream",
     "text": [
      "Tholen, Nederland\n"
     ]
    },
    {
     "name": "stderr",
     "output_type": "stream",
     "text": [
      "D:\\anaconda\\envs\\ox\\lib\\site-packages\\osmnx\\geocoder.py:110: FutureWarning: The frame.append method is deprecated and will be removed from pandas in a future version. Use pandas.concat instead.\n",
      "  gdf = gdf.append(_geocode_query_to_gdf(q, wr, by_osmid))\n"
     ]
    },
    {
     "name": "stdout",
     "output_type": "stream",
     "text": [
      "Tiel, Nederland\n"
     ]
    },
    {
     "name": "stderr",
     "output_type": "stream",
     "text": [
      "D:\\anaconda\\envs\\ox\\lib\\site-packages\\osmnx\\geocoder.py:110: FutureWarning: The frame.append method is deprecated and will be removed from pandas in a future version. Use pandas.concat instead.\n",
      "  gdf = gdf.append(_geocode_query_to_gdf(q, wr, by_osmid))\n"
     ]
    },
    {
     "name": "stdout",
     "output_type": "stream",
     "text": [
      "Tilburg, Nederland\n"
     ]
    },
    {
     "name": "stderr",
     "output_type": "stream",
     "text": [
      "D:\\anaconda\\envs\\ox\\lib\\site-packages\\osmnx\\geocoder.py:110: FutureWarning: The frame.append method is deprecated and will be removed from pandas in a future version. Use pandas.concat instead.\n",
      "  gdf = gdf.append(_geocode_query_to_gdf(q, wr, by_osmid))\n"
     ]
    },
    {
     "name": "stdout",
     "output_type": "stream",
     "text": [
      "Tubbergen, Nederland\n"
     ]
    },
    {
     "name": "stderr",
     "output_type": "stream",
     "text": [
      "D:\\anaconda\\envs\\ox\\lib\\site-packages\\osmnx\\geocoder.py:110: FutureWarning: The frame.append method is deprecated and will be removed from pandas in a future version. Use pandas.concat instead.\n",
      "  gdf = gdf.append(_geocode_query_to_gdf(q, wr, by_osmid))\n"
     ]
    },
    {
     "name": "stdout",
     "output_type": "stream",
     "text": [
      "Twenterand, Nederland\n"
     ]
    },
    {
     "name": "stderr",
     "output_type": "stream",
     "text": [
      "D:\\anaconda\\envs\\ox\\lib\\site-packages\\osmnx\\geocoder.py:110: FutureWarning: The frame.append method is deprecated and will be removed from pandas in a future version. Use pandas.concat instead.\n",
      "  gdf = gdf.append(_geocode_query_to_gdf(q, wr, by_osmid))\n"
     ]
    },
    {
     "name": "stdout",
     "output_type": "stream",
     "text": [
      "Tynaarlo, Nederland\n"
     ]
    },
    {
     "name": "stderr",
     "output_type": "stream",
     "text": [
      "D:\\anaconda\\envs\\ox\\lib\\site-packages\\osmnx\\geocoder.py:110: FutureWarning: The frame.append method is deprecated and will be removed from pandas in a future version. Use pandas.concat instead.\n",
      "  gdf = gdf.append(_geocode_query_to_gdf(q, wr, by_osmid))\n"
     ]
    },
    {
     "name": "stdout",
     "output_type": "stream",
     "text": [
      "Tytsjerksteradiel, Nederland\n"
     ]
    },
    {
     "name": "stderr",
     "output_type": "stream",
     "text": [
      "D:\\anaconda\\envs\\ox\\lib\\site-packages\\osmnx\\geocoder.py:110: FutureWarning: The frame.append method is deprecated and will be removed from pandas in a future version. Use pandas.concat instead.\n",
      "  gdf = gdf.append(_geocode_query_to_gdf(q, wr, by_osmid))\n"
     ]
    },
    {
     "name": "stdout",
     "output_type": "stream",
     "text": [
      "Uden, Nederland\n"
     ]
    },
    {
     "name": "stderr",
     "output_type": "stream",
     "text": [
      "D:\\anaconda\\envs\\ox\\lib\\site-packages\\osmnx\\geocoder.py:110: FutureWarning: The frame.append method is deprecated and will be removed from pandas in a future version. Use pandas.concat instead.\n",
      "  gdf = gdf.append(_geocode_query_to_gdf(q, wr, by_osmid))\n"
     ]
    },
    {
     "name": "stdout",
     "output_type": "stream",
     "text": [
      "Uitgeest, Nederland\n",
      "Uithoorn, Nederland\n"
     ]
    },
    {
     "name": "stderr",
     "output_type": "stream",
     "text": [
      "D:\\anaconda\\envs\\ox\\lib\\site-packages\\osmnx\\geocoder.py:110: FutureWarning: The frame.append method is deprecated and will be removed from pandas in a future version. Use pandas.concat instead.\n",
      "  gdf = gdf.append(_geocode_query_to_gdf(q, wr, by_osmid))\n",
      "D:\\anaconda\\envs\\ox\\lib\\site-packages\\osmnx\\geocoder.py:110: FutureWarning: The frame.append method is deprecated and will be removed from pandas in a future version. Use pandas.concat instead.\n",
      "  gdf = gdf.append(_geocode_query_to_gdf(q, wr, by_osmid))\n"
     ]
    },
    {
     "name": "stdout",
     "output_type": "stream",
     "text": [
      "Urk, Nederland\n",
      "Utrecht, Nederland\n"
     ]
    },
    {
     "name": "stderr",
     "output_type": "stream",
     "text": [
      "D:\\anaconda\\envs\\ox\\lib\\site-packages\\osmnx\\geocoder.py:110: FutureWarning: The frame.append method is deprecated and will be removed from pandas in a future version. Use pandas.concat instead.\n",
      "  gdf = gdf.append(_geocode_query_to_gdf(q, wr, by_osmid))\n",
      "D:\\anaconda\\envs\\ox\\lib\\site-packages\\osmnx\\geocoder.py:110: FutureWarning: The frame.append method is deprecated and will be removed from pandas in a future version. Use pandas.concat instead.\n",
      "  gdf = gdf.append(_geocode_query_to_gdf(q, wr, by_osmid))\n"
     ]
    },
    {
     "name": "stdout",
     "output_type": "stream",
     "text": [
      "Utrechtse Heuvelrug, Nederland\n"
     ]
    },
    {
     "name": "stderr",
     "output_type": "stream",
     "text": [
      "D:\\anaconda\\envs\\ox\\lib\\site-packages\\osmnx\\geocoder.py:110: FutureWarning: The frame.append method is deprecated and will be removed from pandas in a future version. Use pandas.concat instead.\n",
      "  gdf = gdf.append(_geocode_query_to_gdf(q, wr, by_osmid))\n"
     ]
    },
    {
     "name": "stdout",
     "output_type": "stream",
     "text": [
      "Vaals, Nederland\n"
     ]
    },
    {
     "name": "stderr",
     "output_type": "stream",
     "text": [
      "D:\\anaconda\\envs\\ox\\lib\\site-packages\\osmnx\\geocoder.py:110: FutureWarning: The frame.append method is deprecated and will be removed from pandas in a future version. Use pandas.concat instead.\n",
      "  gdf = gdf.append(_geocode_query_to_gdf(q, wr, by_osmid))\n"
     ]
    },
    {
     "name": "stdout",
     "output_type": "stream",
     "text": [
      "Valkenburg aan de Geul, Nederland\n"
     ]
    },
    {
     "name": "stderr",
     "output_type": "stream",
     "text": [
      "D:\\anaconda\\envs\\ox\\lib\\site-packages\\osmnx\\geocoder.py:110: FutureWarning: The frame.append method is deprecated and will be removed from pandas in a future version. Use pandas.concat instead.\n",
      "  gdf = gdf.append(_geocode_query_to_gdf(q, wr, by_osmid))\n"
     ]
    },
    {
     "name": "stdout",
     "output_type": "stream",
     "text": [
      "Valkenswaard, Nederland\n"
     ]
    },
    {
     "name": "stderr",
     "output_type": "stream",
     "text": [
      "D:\\anaconda\\envs\\ox\\lib\\site-packages\\osmnx\\geocoder.py:110: FutureWarning: The frame.append method is deprecated and will be removed from pandas in a future version. Use pandas.concat instead.\n",
      "  gdf = gdf.append(_geocode_query_to_gdf(q, wr, by_osmid))\n"
     ]
    },
    {
     "name": "stdout",
     "output_type": "stream",
     "text": [
      "Veendam, Nederland\n"
     ]
    },
    {
     "name": "stderr",
     "output_type": "stream",
     "text": [
      "D:\\anaconda\\envs\\ox\\lib\\site-packages\\osmnx\\geocoder.py:110: FutureWarning: The frame.append method is deprecated and will be removed from pandas in a future version. Use pandas.concat instead.\n",
      "  gdf = gdf.append(_geocode_query_to_gdf(q, wr, by_osmid))\n"
     ]
    },
    {
     "name": "stdout",
     "output_type": "stream",
     "text": [
      "Veenendaal, Nederland\n"
     ]
    },
    {
     "name": "stderr",
     "output_type": "stream",
     "text": [
      "D:\\anaconda\\envs\\ox\\lib\\site-packages\\osmnx\\geocoder.py:110: FutureWarning: The frame.append method is deprecated and will be removed from pandas in a future version. Use pandas.concat instead.\n",
      "  gdf = gdf.append(_geocode_query_to_gdf(q, wr, by_osmid))\n"
     ]
    },
    {
     "name": "stdout",
     "output_type": "stream",
     "text": [
      "Veere, Nederland\n"
     ]
    },
    {
     "name": "stderr",
     "output_type": "stream",
     "text": [
      "D:\\anaconda\\envs\\ox\\lib\\site-packages\\osmnx\\geocoder.py:110: FutureWarning: The frame.append method is deprecated and will be removed from pandas in a future version. Use pandas.concat instead.\n",
      "  gdf = gdf.append(_geocode_query_to_gdf(q, wr, by_osmid))\n"
     ]
    },
    {
     "name": "stdout",
     "output_type": "stream",
     "text": [
      "Veldhoven, Nederland\n"
     ]
    },
    {
     "name": "stderr",
     "output_type": "stream",
     "text": [
      "D:\\anaconda\\envs\\ox\\lib\\site-packages\\osmnx\\geocoder.py:110: FutureWarning: The frame.append method is deprecated and will be removed from pandas in a future version. Use pandas.concat instead.\n",
      "  gdf = gdf.append(_geocode_query_to_gdf(q, wr, by_osmid))\n"
     ]
    },
    {
     "name": "stdout",
     "output_type": "stream",
     "text": [
      "Velsen, Nederland\n"
     ]
    },
    {
     "name": "stderr",
     "output_type": "stream",
     "text": [
      "D:\\anaconda\\envs\\ox\\lib\\site-packages\\osmnx\\geocoder.py:110: FutureWarning: The frame.append method is deprecated and will be removed from pandas in a future version. Use pandas.concat instead.\n",
      "  gdf = gdf.append(_geocode_query_to_gdf(q, wr, by_osmid))\n"
     ]
    },
    {
     "name": "stdout",
     "output_type": "stream",
     "text": [
      "Venlo, Nederland\n"
     ]
    },
    {
     "name": "stderr",
     "output_type": "stream",
     "text": [
      "D:\\anaconda\\envs\\ox\\lib\\site-packages\\osmnx\\geocoder.py:110: FutureWarning: The frame.append method is deprecated and will be removed from pandas in a future version. Use pandas.concat instead.\n",
      "  gdf = gdf.append(_geocode_query_to_gdf(q, wr, by_osmid))\n"
     ]
    },
    {
     "name": "stdout",
     "output_type": "stream",
     "text": [
      "Venray, Nederland\n",
      "Vijfheerenlanden, Nederland\n"
     ]
    },
    {
     "name": "stderr",
     "output_type": "stream",
     "text": [
      "D:\\anaconda\\envs\\ox\\lib\\site-packages\\osmnx\\geocoder.py:110: FutureWarning: The frame.append method is deprecated and will be removed from pandas in a future version. Use pandas.concat instead.\n",
      "  gdf = gdf.append(_geocode_query_to_gdf(q, wr, by_osmid))\n",
      "D:\\anaconda\\envs\\ox\\lib\\site-packages\\osmnx\\geocoder.py:110: FutureWarning: The frame.append method is deprecated and will be removed from pandas in a future version. Use pandas.concat instead.\n",
      "  gdf = gdf.append(_geocode_query_to_gdf(q, wr, by_osmid))\n"
     ]
    },
    {
     "name": "stdout",
     "output_type": "stream",
     "text": [
      "Vlaardingen, Nederland\n"
     ]
    },
    {
     "name": "stderr",
     "output_type": "stream",
     "text": [
      "D:\\anaconda\\envs\\ox\\lib\\site-packages\\osmnx\\geocoder.py:110: FutureWarning: The frame.append method is deprecated and will be removed from pandas in a future version. Use pandas.concat instead.\n",
      "  gdf = gdf.append(_geocode_query_to_gdf(q, wr, by_osmid))\n"
     ]
    },
    {
     "name": "stdout",
     "output_type": "stream",
     "text": [
      "Vlissingen, Nederland\n"
     ]
    },
    {
     "name": "stderr",
     "output_type": "stream",
     "text": [
      "D:\\anaconda\\envs\\ox\\lib\\site-packages\\osmnx\\geocoder.py:110: FutureWarning: The frame.append method is deprecated and will be removed from pandas in a future version. Use pandas.concat instead.\n",
      "  gdf = gdf.append(_geocode_query_to_gdf(q, wr, by_osmid))\n"
     ]
    },
    {
     "name": "stdout",
     "output_type": "stream",
     "text": [
      "Voerendaal, Nederland\n"
     ]
    },
    {
     "name": "stderr",
     "output_type": "stream",
     "text": [
      "D:\\anaconda\\envs\\ox\\lib\\site-packages\\osmnx\\geocoder.py:110: FutureWarning: The frame.append method is deprecated and will be removed from pandas in a future version. Use pandas.concat instead.\n",
      "  gdf = gdf.append(_geocode_query_to_gdf(q, wr, by_osmid))\n"
     ]
    },
    {
     "name": "stdout",
     "output_type": "stream",
     "text": [
      "Voorschoten, Nederland\n",
      "Voorst, Nederland\n"
     ]
    },
    {
     "name": "stderr",
     "output_type": "stream",
     "text": [
      "D:\\anaconda\\envs\\ox\\lib\\site-packages\\osmnx\\geocoder.py:110: FutureWarning: The frame.append method is deprecated and will be removed from pandas in a future version. Use pandas.concat instead.\n",
      "  gdf = gdf.append(_geocode_query_to_gdf(q, wr, by_osmid))\n",
      "D:\\anaconda\\envs\\ox\\lib\\site-packages\\osmnx\\geocoder.py:110: FutureWarning: The frame.append method is deprecated and will be removed from pandas in a future version. Use pandas.concat instead.\n",
      "  gdf = gdf.append(_geocode_query_to_gdf(q, wr, by_osmid))\n"
     ]
    },
    {
     "name": "stdout",
     "output_type": "stream",
     "text": [
      "Vught, Nederland\n"
     ]
    },
    {
     "name": "stderr",
     "output_type": "stream",
     "text": [
      "D:\\anaconda\\envs\\ox\\lib\\site-packages\\osmnx\\geocoder.py:110: FutureWarning: The frame.append method is deprecated and will be removed from pandas in a future version. Use pandas.concat instead.\n",
      "  gdf = gdf.append(_geocode_query_to_gdf(q, wr, by_osmid))\n"
     ]
    },
    {
     "name": "stdout",
     "output_type": "stream",
     "text": [
      "Waadhoeke, Nederland\n"
     ]
    },
    {
     "name": "stderr",
     "output_type": "stream",
     "text": [
      "D:\\anaconda\\envs\\ox\\lib\\site-packages\\osmnx\\geocoder.py:110: FutureWarning: The frame.append method is deprecated and will be removed from pandas in a future version. Use pandas.concat instead.\n",
      "  gdf = gdf.append(_geocode_query_to_gdf(q, wr, by_osmid))\n"
     ]
    },
    {
     "name": "stdout",
     "output_type": "stream",
     "text": [
      "Waalre, Nederland\n"
     ]
    },
    {
     "name": "stderr",
     "output_type": "stream",
     "text": [
      "D:\\anaconda\\envs\\ox\\lib\\site-packages\\osmnx\\geocoder.py:110: FutureWarning: The frame.append method is deprecated and will be removed from pandas in a future version. Use pandas.concat instead.\n",
      "  gdf = gdf.append(_geocode_query_to_gdf(q, wr, by_osmid))\n"
     ]
    },
    {
     "name": "stdout",
     "output_type": "stream",
     "text": [
      "Waalwijk, Nederland\n"
     ]
    },
    {
     "name": "stderr",
     "output_type": "stream",
     "text": [
      "D:\\anaconda\\envs\\ox\\lib\\site-packages\\osmnx\\geocoder.py:110: FutureWarning: The frame.append method is deprecated and will be removed from pandas in a future version. Use pandas.concat instead.\n",
      "  gdf = gdf.append(_geocode_query_to_gdf(q, wr, by_osmid))\n"
     ]
    },
    {
     "name": "stdout",
     "output_type": "stream",
     "text": [
      "Waddinxveen, Nederland\n"
     ]
    },
    {
     "name": "stderr",
     "output_type": "stream",
     "text": [
      "D:\\anaconda\\envs\\ox\\lib\\site-packages\\osmnx\\geocoder.py:110: FutureWarning: The frame.append method is deprecated and will be removed from pandas in a future version. Use pandas.concat instead.\n",
      "  gdf = gdf.append(_geocode_query_to_gdf(q, wr, by_osmid))\n"
     ]
    },
    {
     "name": "stdout",
     "output_type": "stream",
     "text": [
      "Wageningen, Nederland\n"
     ]
    },
    {
     "name": "stderr",
     "output_type": "stream",
     "text": [
      "D:\\anaconda\\envs\\ox\\lib\\site-packages\\osmnx\\geocoder.py:110: FutureWarning: The frame.append method is deprecated and will be removed from pandas in a future version. Use pandas.concat instead.\n",
      "  gdf = gdf.append(_geocode_query_to_gdf(q, wr, by_osmid))\n"
     ]
    },
    {
     "name": "stdout",
     "output_type": "stream",
     "text": [
      "Wassenaar, Nederland\n"
     ]
    },
    {
     "name": "stderr",
     "output_type": "stream",
     "text": [
      "D:\\anaconda\\envs\\ox\\lib\\site-packages\\osmnx\\geocoder.py:110: FutureWarning: The frame.append method is deprecated and will be removed from pandas in a future version. Use pandas.concat instead.\n",
      "  gdf = gdf.append(_geocode_query_to_gdf(q, wr, by_osmid))\n"
     ]
    },
    {
     "name": "stdout",
     "output_type": "stream",
     "text": [
      "Waterland, Nederland\n"
     ]
    },
    {
     "name": "stderr",
     "output_type": "stream",
     "text": [
      "D:\\anaconda\\envs\\ox\\lib\\site-packages\\osmnx\\geocoder.py:110: FutureWarning: The frame.append method is deprecated and will be removed from pandas in a future version. Use pandas.concat instead.\n",
      "  gdf = gdf.append(_geocode_query_to_gdf(q, wr, by_osmid))\n"
     ]
    },
    {
     "name": "stdout",
     "output_type": "stream",
     "text": [
      "Weert, Nederland\n"
     ]
    },
    {
     "name": "stderr",
     "output_type": "stream",
     "text": [
      "D:\\anaconda\\envs\\ox\\lib\\site-packages\\osmnx\\geocoder.py:110: FutureWarning: The frame.append method is deprecated and will be removed from pandas in a future version. Use pandas.concat instead.\n",
      "  gdf = gdf.append(_geocode_query_to_gdf(q, wr, by_osmid))\n"
     ]
    },
    {
     "name": "stdout",
     "output_type": "stream",
     "text": [
      "Weesp, Nederland\n"
     ]
    },
    {
     "name": "stderr",
     "output_type": "stream",
     "text": [
      "D:\\anaconda\\envs\\ox\\lib\\site-packages\\osmnx\\geocoder.py:110: FutureWarning: The frame.append method is deprecated and will be removed from pandas in a future version. Use pandas.concat instead.\n",
      "  gdf = gdf.append(_geocode_query_to_gdf(q, wr, by_osmid))\n"
     ]
    },
    {
     "name": "stdout",
     "output_type": "stream",
     "text": [
      "West Betuwe, Nederland\n"
     ]
    },
    {
     "name": "stderr",
     "output_type": "stream",
     "text": [
      "D:\\anaconda\\envs\\ox\\lib\\site-packages\\osmnx\\geocoder.py:110: FutureWarning: The frame.append method is deprecated and will be removed from pandas in a future version. Use pandas.concat instead.\n",
      "  gdf = gdf.append(_geocode_query_to_gdf(q, wr, by_osmid))\n"
     ]
    },
    {
     "name": "stdout",
     "output_type": "stream",
     "text": [
      "West Maas en Waal, Nederland\n"
     ]
    },
    {
     "name": "stderr",
     "output_type": "stream",
     "text": [
      "D:\\anaconda\\envs\\ox\\lib\\site-packages\\osmnx\\geocoder.py:110: FutureWarning: The frame.append method is deprecated and will be removed from pandas in a future version. Use pandas.concat instead.\n",
      "  gdf = gdf.append(_geocode_query_to_gdf(q, wr, by_osmid))\n"
     ]
    },
    {
     "name": "stdout",
     "output_type": "stream",
     "text": [
      "Westerkwartier, Nederland\n"
     ]
    },
    {
     "name": "stderr",
     "output_type": "stream",
     "text": [
      "D:\\anaconda\\envs\\ox\\lib\\site-packages\\osmnx\\geocoder.py:110: FutureWarning: The frame.append method is deprecated and will be removed from pandas in a future version. Use pandas.concat instead.\n",
      "  gdf = gdf.append(_geocode_query_to_gdf(q, wr, by_osmid))\n"
     ]
    },
    {
     "name": "stdout",
     "output_type": "stream",
     "text": [
      "Westerveld, Nederland\n"
     ]
    },
    {
     "name": "stderr",
     "output_type": "stream",
     "text": [
      "D:\\anaconda\\envs\\ox\\lib\\site-packages\\osmnx\\geocoder.py:110: FutureWarning: The frame.append method is deprecated and will be removed from pandas in a future version. Use pandas.concat instead.\n",
      "  gdf = gdf.append(_geocode_query_to_gdf(q, wr, by_osmid))\n"
     ]
    },
    {
     "name": "stdout",
     "output_type": "stream",
     "text": [
      "Westervoort, Nederland\n",
      "Westerwolde, Nederland\n"
     ]
    },
    {
     "name": "stderr",
     "output_type": "stream",
     "text": [
      "D:\\anaconda\\envs\\ox\\lib\\site-packages\\osmnx\\geocoder.py:110: FutureWarning: The frame.append method is deprecated and will be removed from pandas in a future version. Use pandas.concat instead.\n",
      "  gdf = gdf.append(_geocode_query_to_gdf(q, wr, by_osmid))\n",
      "D:\\anaconda\\envs\\ox\\lib\\site-packages\\osmnx\\geocoder.py:110: FutureWarning: The frame.append method is deprecated and will be removed from pandas in a future version. Use pandas.concat instead.\n",
      "  gdf = gdf.append(_geocode_query_to_gdf(q, wr, by_osmid))\n"
     ]
    },
    {
     "name": "stdout",
     "output_type": "stream",
     "text": [
      "Westland, Nederland\n"
     ]
    },
    {
     "name": "stderr",
     "output_type": "stream",
     "text": [
      "D:\\anaconda\\envs\\ox\\lib\\site-packages\\osmnx\\geocoder.py:110: FutureWarning: The frame.append method is deprecated and will be removed from pandas in a future version. Use pandas.concat instead.\n",
      "  gdf = gdf.append(_geocode_query_to_gdf(q, wr, by_osmid))\n"
     ]
    },
    {
     "name": "stdout",
     "output_type": "stream",
     "text": [
      "Weststellingwerf, Nederland\n"
     ]
    },
    {
     "name": "stderr",
     "output_type": "stream",
     "text": [
      "D:\\anaconda\\envs\\ox\\lib\\site-packages\\osmnx\\geocoder.py:110: FutureWarning: The frame.append method is deprecated and will be removed from pandas in a future version. Use pandas.concat instead.\n",
      "  gdf = gdf.append(_geocode_query_to_gdf(q, wr, by_osmid))\n"
     ]
    },
    {
     "name": "stdout",
     "output_type": "stream",
     "text": [
      "Westvoorne, Nederland\n"
     ]
    },
    {
     "name": "stderr",
     "output_type": "stream",
     "text": [
      "D:\\anaconda\\envs\\ox\\lib\\site-packages\\osmnx\\geocoder.py:110: FutureWarning: The frame.append method is deprecated and will be removed from pandas in a future version. Use pandas.concat instead.\n",
      "  gdf = gdf.append(_geocode_query_to_gdf(q, wr, by_osmid))\n"
     ]
    },
    {
     "name": "stdout",
     "output_type": "stream",
     "text": [
      "Wierden, Nederland\n",
      "Wijchen, Nederland\n"
     ]
    },
    {
     "name": "stderr",
     "output_type": "stream",
     "text": [
      "D:\\anaconda\\envs\\ox\\lib\\site-packages\\osmnx\\geocoder.py:110: FutureWarning: The frame.append method is deprecated and will be removed from pandas in a future version. Use pandas.concat instead.\n",
      "  gdf = gdf.append(_geocode_query_to_gdf(q, wr, by_osmid))\n",
      "D:\\anaconda\\envs\\ox\\lib\\site-packages\\osmnx\\geocoder.py:110: FutureWarning: The frame.append method is deprecated and will be removed from pandas in a future version. Use pandas.concat instead.\n",
      "  gdf = gdf.append(_geocode_query_to_gdf(q, wr, by_osmid))\n"
     ]
    },
    {
     "name": "stdout",
     "output_type": "stream",
     "text": [
      "Wijdemeren, Nederland\n"
     ]
    },
    {
     "name": "stderr",
     "output_type": "stream",
     "text": [
      "D:\\anaconda\\envs\\ox\\lib\\site-packages\\osmnx\\geocoder.py:110: FutureWarning: The frame.append method is deprecated and will be removed from pandas in a future version. Use pandas.concat instead.\n",
      "  gdf = gdf.append(_geocode_query_to_gdf(q, wr, by_osmid))\n"
     ]
    },
    {
     "name": "stdout",
     "output_type": "stream",
     "text": [
      "Wijk bij Duurstede, Nederland\n"
     ]
    },
    {
     "name": "stderr",
     "output_type": "stream",
     "text": [
      "D:\\anaconda\\envs\\ox\\lib\\site-packages\\osmnx\\geocoder.py:110: FutureWarning: The frame.append method is deprecated and will be removed from pandas in a future version. Use pandas.concat instead.\n",
      "  gdf = gdf.append(_geocode_query_to_gdf(q, wr, by_osmid))\n"
     ]
    },
    {
     "name": "stdout",
     "output_type": "stream",
     "text": [
      "Winterswijk, Nederland\n"
     ]
    },
    {
     "name": "stderr",
     "output_type": "stream",
     "text": [
      "D:\\anaconda\\envs\\ox\\lib\\site-packages\\osmnx\\geocoder.py:110: FutureWarning: The frame.append method is deprecated and will be removed from pandas in a future version. Use pandas.concat instead.\n",
      "  gdf = gdf.append(_geocode_query_to_gdf(q, wr, by_osmid))\n"
     ]
    },
    {
     "name": "stdout",
     "output_type": "stream",
     "text": [
      "Woensdrecht, Nederland\n"
     ]
    },
    {
     "name": "stderr",
     "output_type": "stream",
     "text": [
      "D:\\anaconda\\envs\\ox\\lib\\site-packages\\osmnx\\geocoder.py:110: FutureWarning: The frame.append method is deprecated and will be removed from pandas in a future version. Use pandas.concat instead.\n",
      "  gdf = gdf.append(_geocode_query_to_gdf(q, wr, by_osmid))\n"
     ]
    },
    {
     "name": "stdout",
     "output_type": "stream",
     "text": [
      "Woerden, Nederland\n"
     ]
    },
    {
     "name": "stderr",
     "output_type": "stream",
     "text": [
      "D:\\anaconda\\envs\\ox\\lib\\site-packages\\osmnx\\geocoder.py:110: FutureWarning: The frame.append method is deprecated and will be removed from pandas in a future version. Use pandas.concat instead.\n",
      "  gdf = gdf.append(_geocode_query_to_gdf(q, wr, by_osmid))\n"
     ]
    },
    {
     "name": "stdout",
     "output_type": "stream",
     "text": [
      "De Wolden, Nederland\n"
     ]
    },
    {
     "name": "stderr",
     "output_type": "stream",
     "text": [
      "D:\\anaconda\\envs\\ox\\lib\\site-packages\\osmnx\\geocoder.py:110: FutureWarning: The frame.append method is deprecated and will be removed from pandas in a future version. Use pandas.concat instead.\n",
      "  gdf = gdf.append(_geocode_query_to_gdf(q, wr, by_osmid))\n"
     ]
    },
    {
     "name": "stdout",
     "output_type": "stream",
     "text": [
      "Wormerland, Nederland\n",
      "Woudenberg, Nederland\n"
     ]
    },
    {
     "name": "stderr",
     "output_type": "stream",
     "text": [
      "D:\\anaconda\\envs\\ox\\lib\\site-packages\\osmnx\\geocoder.py:110: FutureWarning: The frame.append method is deprecated and will be removed from pandas in a future version. Use pandas.concat instead.\n",
      "  gdf = gdf.append(_geocode_query_to_gdf(q, wr, by_osmid))\n",
      "D:\\anaconda\\envs\\ox\\lib\\site-packages\\osmnx\\geocoder.py:110: FutureWarning: The frame.append method is deprecated and will be removed from pandas in a future version. Use pandas.concat instead.\n",
      "  gdf = gdf.append(_geocode_query_to_gdf(q, wr, by_osmid))\n"
     ]
    },
    {
     "name": "stdout",
     "output_type": "stream",
     "text": [
      "Zaanstad, Nederland\n"
     ]
    },
    {
     "name": "stderr",
     "output_type": "stream",
     "text": [
      "D:\\anaconda\\envs\\ox\\lib\\site-packages\\osmnx\\geocoder.py:110: FutureWarning: The frame.append method is deprecated and will be removed from pandas in a future version. Use pandas.concat instead.\n",
      "  gdf = gdf.append(_geocode_query_to_gdf(q, wr, by_osmid))\n"
     ]
    },
    {
     "name": "stdout",
     "output_type": "stream",
     "text": [
      "Zaltbommel, Nederland\n"
     ]
    },
    {
     "name": "stderr",
     "output_type": "stream",
     "text": [
      "D:\\anaconda\\envs\\ox\\lib\\site-packages\\osmnx\\geocoder.py:110: FutureWarning: The frame.append method is deprecated and will be removed from pandas in a future version. Use pandas.concat instead.\n",
      "  gdf = gdf.append(_geocode_query_to_gdf(q, wr, by_osmid))\n"
     ]
    },
    {
     "name": "stdout",
     "output_type": "stream",
     "text": [
      "Zandvoort, Nederland\n",
      "Zeewolde, Nederland\n"
     ]
    },
    {
     "name": "stderr",
     "output_type": "stream",
     "text": [
      "D:\\anaconda\\envs\\ox\\lib\\site-packages\\osmnx\\geocoder.py:110: FutureWarning: The frame.append method is deprecated and will be removed from pandas in a future version. Use pandas.concat instead.\n",
      "  gdf = gdf.append(_geocode_query_to_gdf(q, wr, by_osmid))\n",
      "D:\\anaconda\\envs\\ox\\lib\\site-packages\\osmnx\\geocoder.py:110: FutureWarning: The frame.append method is deprecated and will be removed from pandas in a future version. Use pandas.concat instead.\n",
      "  gdf = gdf.append(_geocode_query_to_gdf(q, wr, by_osmid))\n"
     ]
    },
    {
     "name": "stdout",
     "output_type": "stream",
     "text": [
      "Zeist, Nederland\n",
      "Zevenaar, Nederland\n"
     ]
    },
    {
     "name": "stderr",
     "output_type": "stream",
     "text": [
      "D:\\anaconda\\envs\\ox\\lib\\site-packages\\osmnx\\geocoder.py:110: FutureWarning: The frame.append method is deprecated and will be removed from pandas in a future version. Use pandas.concat instead.\n",
      "  gdf = gdf.append(_geocode_query_to_gdf(q, wr, by_osmid))\n",
      "D:\\anaconda\\envs\\ox\\lib\\site-packages\\osmnx\\geocoder.py:110: FutureWarning: The frame.append method is deprecated and will be removed from pandas in a future version. Use pandas.concat instead.\n",
      "  gdf = gdf.append(_geocode_query_to_gdf(q, wr, by_osmid))\n"
     ]
    },
    {
     "name": "stdout",
     "output_type": "stream",
     "text": [
      "Zoetermeer, Nederland\n",
      "Zoeterwoude, Nederland\n"
     ]
    },
    {
     "name": "stderr",
     "output_type": "stream",
     "text": [
      "D:\\anaconda\\envs\\ox\\lib\\site-packages\\osmnx\\geocoder.py:110: FutureWarning: The frame.append method is deprecated and will be removed from pandas in a future version. Use pandas.concat instead.\n",
      "  gdf = gdf.append(_geocode_query_to_gdf(q, wr, by_osmid))\n",
      "D:\\anaconda\\envs\\ox\\lib\\site-packages\\osmnx\\geocoder.py:110: FutureWarning: The frame.append method is deprecated and will be removed from pandas in a future version. Use pandas.concat instead.\n",
      "  gdf = gdf.append(_geocode_query_to_gdf(q, wr, by_osmid))\n"
     ]
    },
    {
     "name": "stdout",
     "output_type": "stream",
     "text": [
      "Zuidplas, Nederland\n"
     ]
    },
    {
     "name": "stderr",
     "output_type": "stream",
     "text": [
      "D:\\anaconda\\envs\\ox\\lib\\site-packages\\osmnx\\geocoder.py:110: FutureWarning: The frame.append method is deprecated and will be removed from pandas in a future version. Use pandas.concat instead.\n",
      "  gdf = gdf.append(_geocode_query_to_gdf(q, wr, by_osmid))\n"
     ]
    },
    {
     "name": "stdout",
     "output_type": "stream",
     "text": [
      "Zundert, Nederland\n"
     ]
    },
    {
     "name": "stderr",
     "output_type": "stream",
     "text": [
      "D:\\anaconda\\envs\\ox\\lib\\site-packages\\osmnx\\geocoder.py:110: FutureWarning: The frame.append method is deprecated and will be removed from pandas in a future version. Use pandas.concat instead.\n",
      "  gdf = gdf.append(_geocode_query_to_gdf(q, wr, by_osmid))\n"
     ]
    },
    {
     "name": "stdout",
     "output_type": "stream",
     "text": [
      "Zutphen, Nederland\n"
     ]
    },
    {
     "name": "stderr",
     "output_type": "stream",
     "text": [
      "D:\\anaconda\\envs\\ox\\lib\\site-packages\\osmnx\\geocoder.py:110: FutureWarning: The frame.append method is deprecated and will be removed from pandas in a future version. Use pandas.concat instead.\n",
      "  gdf = gdf.append(_geocode_query_to_gdf(q, wr, by_osmid))\n"
     ]
    },
    {
     "name": "stdout",
     "output_type": "stream",
     "text": [
      "Zwartewaterland, Nederland\n"
     ]
    },
    {
     "name": "stderr",
     "output_type": "stream",
     "text": [
      "D:\\anaconda\\envs\\ox\\lib\\site-packages\\osmnx\\geocoder.py:110: FutureWarning: The frame.append method is deprecated and will be removed from pandas in a future version. Use pandas.concat instead.\n",
      "  gdf = gdf.append(_geocode_query_to_gdf(q, wr, by_osmid))\n"
     ]
    },
    {
     "name": "stdout",
     "output_type": "stream",
     "text": [
      "Zwijndrecht, Nederland\n",
      "Zwolle, Nederland\n"
     ]
    },
    {
     "name": "stderr",
     "output_type": "stream",
     "text": [
      "D:\\anaconda\\envs\\ox\\lib\\site-packages\\osmnx\\geocoder.py:110: FutureWarning: The frame.append method is deprecated and will be removed from pandas in a future version. Use pandas.concat instead.\n",
      "  gdf = gdf.append(_geocode_query_to_gdf(q, wr, by_osmid))\n",
      "D:\\anaconda\\envs\\ox\\lib\\site-packages\\osmnx\\geocoder.py:110: FutureWarning: The frame.append method is deprecated and will be removed from pandas in a future version. Use pandas.concat instead.\n",
      "  gdf = gdf.append(_geocode_query_to_gdf(q, wr, by_osmid))\n"
     ]
    }
   ],
   "source": [
    "# lijst om het aantal bars in op te slaan.\n",
    "n_bars = []\n",
    "\n",
    "# loop door lijst met gemeente search query's en pak de bar data van de gemeenten.\n",
    "i = 0\n",
    "while i < len(places):\n",
    "    print(places[i])\n",
    "    # pakt bar data\n",
    "    bars = ox.geometries.geometries_from_place(places[i], tags)\n",
    "    # pak het aantal bars\n",
    "    n_bars.append(len(bars))\n",
    "    i += 1\n",
    "    "
   ]
  },
  {
   "cell_type": "code",
   "execution_count": 37,
   "metadata": {},
   "outputs": [],
   "source": [
    "# voegt de bar data toe aan de gemeente dataframe.\n",
    "gemeenten_df['n_bars'] = n_bars"
   ]
  },
  {
   "cell_type": "code",
   "execution_count": 38,
   "metadata": {},
   "outputs": [
    {
     "data": {
      "text/html": [
       "<div>\n",
       "<style scoped>\n",
       "    .dataframe tbody tr th:only-of-type {\n",
       "        vertical-align: middle;\n",
       "    }\n",
       "\n",
       "    .dataframe tbody tr th {\n",
       "        vertical-align: top;\n",
       "    }\n",
       "\n",
       "    .dataframe thead th {\n",
       "        text-align: right;\n",
       "    }\n",
       "</style>\n",
       "<table border=\"1\" class=\"dataframe\">\n",
       "  <thead>\n",
       "    <tr style=\"text-align: right;\">\n",
       "      <th></th>\n",
       "      <th>RegioS</th>\n",
       "      <th>n_bars</th>\n",
       "    </tr>\n",
       "  </thead>\n",
       "  <tbody>\n",
       "    <tr>\n",
       "      <th>0</th>\n",
       "      <td>Aa en Hunze</td>\n",
       "      <td>5</td>\n",
       "    </tr>\n",
       "    <tr>\n",
       "      <th>1</th>\n",
       "      <td>Aalsmeer</td>\n",
       "      <td>3</td>\n",
       "    </tr>\n",
       "    <tr>\n",
       "      <th>2</th>\n",
       "      <td>Aalten</td>\n",
       "      <td>2</td>\n",
       "    </tr>\n",
       "    <tr>\n",
       "      <th>3</th>\n",
       "      <td>Achtkarspelen</td>\n",
       "      <td>2</td>\n",
       "    </tr>\n",
       "    <tr>\n",
       "      <th>4</th>\n",
       "      <td>Alblasserdam</td>\n",
       "      <td>1</td>\n",
       "    </tr>\n",
       "    <tr>\n",
       "      <th>...</th>\n",
       "      <td>...</td>\n",
       "      <td>...</td>\n",
       "    </tr>\n",
       "    <tr>\n",
       "      <th>338</th>\n",
       "      <td>Zundert</td>\n",
       "      <td>9</td>\n",
       "    </tr>\n",
       "    <tr>\n",
       "      <th>339</th>\n",
       "      <td>Zutphen</td>\n",
       "      <td>16</td>\n",
       "    </tr>\n",
       "    <tr>\n",
       "      <th>340</th>\n",
       "      <td>Zwartewaterland</td>\n",
       "      <td>3</td>\n",
       "    </tr>\n",
       "    <tr>\n",
       "      <th>341</th>\n",
       "      <td>Zwijndrecht</td>\n",
       "      <td>4</td>\n",
       "    </tr>\n",
       "    <tr>\n",
       "      <th>342</th>\n",
       "      <td>Zwolle</td>\n",
       "      <td>49</td>\n",
       "    </tr>\n",
       "  </tbody>\n",
       "</table>\n",
       "<p>343 rows × 2 columns</p>\n",
       "</div>"
      ],
      "text/plain": [
       "              RegioS  n_bars\n",
       "0        Aa en Hunze       5\n",
       "1           Aalsmeer       3\n",
       "2             Aalten       2\n",
       "3      Achtkarspelen       2\n",
       "4       Alblasserdam       1\n",
       "..               ...     ...\n",
       "338          Zundert       9\n",
       "339          Zutphen      16\n",
       "340  Zwartewaterland       3\n",
       "341      Zwijndrecht       4\n",
       "342           Zwolle      49\n",
       "\n",
       "[343 rows x 2 columns]"
      ]
     },
     "metadata": {},
     "output_type": "display_data"
    }
   ],
   "source": [
    "display(gemeenten_df)"
   ]
  },
  {
   "cell_type": "markdown",
   "metadata": {},
   "source": [
    "nu pakken we de populaties van alle gemeenten en delen die door het aantal bars om het in verhouding te krijgen."
   ]
  },
  {
   "cell_type": "code",
   "execution_count": 39,
   "metadata": {},
   "outputs": [
    {
     "data": {
      "text/html": [
       "<div>\n",
       "<style scoped>\n",
       "    .dataframe tbody tr th:only-of-type {\n",
       "        vertical-align: middle;\n",
       "    }\n",
       "\n",
       "    .dataframe tbody tr th {\n",
       "        vertical-align: top;\n",
       "    }\n",
       "\n",
       "    .dataframe thead th {\n",
       "        text-align: right;\n",
       "    }\n",
       "</style>\n",
       "<table border=\"1\" class=\"dataframe\">\n",
       "  <thead>\n",
       "    <tr style=\"text-align: right;\">\n",
       "      <th></th>\n",
       "      <th>RegioS</th>\n",
       "      <th>n_bars</th>\n",
       "      <th>populatie</th>\n",
       "      <th>pop_dichtheid</th>\n",
       "    </tr>\n",
       "  </thead>\n",
       "  <tbody>\n",
       "    <tr>\n",
       "      <th>0</th>\n",
       "      <td>Aa en Hunze</td>\n",
       "      <td>5</td>\n",
       "      <td>25399</td>\n",
       "      <td>92.6</td>\n",
       "    </tr>\n",
       "    <tr>\n",
       "      <th>1</th>\n",
       "      <td>Aalsmeer</td>\n",
       "      <td>3</td>\n",
       "      <td>31991</td>\n",
       "      <td>1612.6</td>\n",
       "    </tr>\n",
       "    <tr>\n",
       "      <th>2</th>\n",
       "      <td>Aalten</td>\n",
       "      <td>2</td>\n",
       "      <td>27120</td>\n",
       "      <td>280.7</td>\n",
       "    </tr>\n",
       "    <tr>\n",
       "      <th>3</th>\n",
       "      <td>Achtkarspelen</td>\n",
       "      <td>2</td>\n",
       "      <td>27900</td>\n",
       "      <td>273.5</td>\n",
       "    </tr>\n",
       "    <tr>\n",
       "      <th>4</th>\n",
       "      <td>Alblasserdam</td>\n",
       "      <td>1</td>\n",
       "      <td>20136</td>\n",
       "      <td>2288.5</td>\n",
       "    </tr>\n",
       "    <tr>\n",
       "      <th>...</th>\n",
       "      <td>...</td>\n",
       "      <td>...</td>\n",
       "      <td>...</td>\n",
       "      <td>...</td>\n",
       "    </tr>\n",
       "    <tr>\n",
       "      <th>338</th>\n",
       "      <td>Zundert</td>\n",
       "      <td>9</td>\n",
       "      <td>21988</td>\n",
       "      <td>184.5</td>\n",
       "    </tr>\n",
       "    <tr>\n",
       "      <th>339</th>\n",
       "      <td>Zutphen</td>\n",
       "      <td>16</td>\n",
       "      <td>48111</td>\n",
       "      <td>1180.1</td>\n",
       "    </tr>\n",
       "    <tr>\n",
       "      <th>340</th>\n",
       "      <td>Zwartewaterland</td>\n",
       "      <td>3</td>\n",
       "      <td>22823</td>\n",
       "      <td>279.0</td>\n",
       "    </tr>\n",
       "    <tr>\n",
       "      <th>341</th>\n",
       "      <td>Zwijndrecht</td>\n",
       "      <td>4</td>\n",
       "      <td>44775</td>\n",
       "      <td>2205.5</td>\n",
       "    </tr>\n",
       "    <tr>\n",
       "      <th>342</th>\n",
       "      <td>Zwolle</td>\n",
       "      <td>49</td>\n",
       "      <td>129840</td>\n",
       "      <td>1175.9</td>\n",
       "    </tr>\n",
       "  </tbody>\n",
       "</table>\n",
       "<p>343 rows × 4 columns</p>\n",
       "</div>"
      ],
      "text/plain": [
       "              RegioS  n_bars  populatie  pop_dichtheid\n",
       "0        Aa en Hunze       5      25399           92.6\n",
       "1           Aalsmeer       3      31991         1612.6\n",
       "2             Aalten       2      27120          280.7\n",
       "3      Achtkarspelen       2      27900          273.5\n",
       "4       Alblasserdam       1      20136         2288.5\n",
       "..               ...     ...        ...            ...\n",
       "338          Zundert       9      21988          184.5\n",
       "339          Zutphen      16      48111         1180.1\n",
       "340  Zwartewaterland       3      22823          279.0\n",
       "341      Zwijndrecht       4      44775         2205.5\n",
       "342           Zwolle      49     129840         1175.9\n",
       "\n",
       "[343 rows x 4 columns]"
      ]
     },
     "metadata": {},
     "output_type": "display_data"
    }
   ],
   "source": [
    "populatie_df = pd.read_csv('populatie_gemeenten.csv')\n",
    "gemeenten_df[['populatie', 'pop_dichtheid']] = populatie_df[['aantal', 'bevolkings_dichtheid']]\n",
    "display(gemeenten_df)"
   ]
  },
  {
   "cell_type": "markdown",
   "metadata": {},
   "source": [
    "aantal bars delen door populatie berekenen per gemeente."
   ]
  },
  {
   "cell_type": "code",
   "execution_count": 43,
   "metadata": {},
   "outputs": [
    {
     "name": "stdout",
     "output_type": "stream",
     "text": [
      "Blaricum\n",
      "Borne\n",
      "Brummen\n",
      "Eemnes\n",
      "Gennep\n",
      "Heerhugowaard\n",
      "Hendrik-Ido-Ambacht\n",
      "Krimpen aan den IJssel\n",
      "Mook en Middelaar\n",
      "Nederweert\n",
      "Opmeer\n",
      "Pekela\n",
      "Ridderkerk\n",
      "Rozendaal\n",
      "Sint Anthonis\n",
      "Someren\n",
      "Voorst\n",
      "Westerwolde\n",
      "De Wolden\n"
     ]
    }
   ],
   "source": [
    "bar_pop = []\n",
    "\n",
    "for ind_r, row_b in gemeenten_df.iterrows(): \n",
    "    if row_b['n_bars'] != 0:\n",
    "        bar_pop.append(int(row_b['populatie'] / row_b['n_bars']))\n",
    "    else:\n",
    "        print(row_b['RegioS'])\n",
    "        bar_pop.append(row_b['populatie'])\n",
    "\n",
    "gemeenten_df['bar_pop'] = bar_pop"
   ]
  },
  {
   "cell_type": "markdown",
   "metadata": {},
   "source": [
    "aantal bars delen door bevolkingsdichtheid berekenen per gemeente."
   ]
  },
  {
   "cell_type": "code",
   "execution_count": 63,
   "metadata": {},
   "outputs": [
    {
     "name": "stdout",
     "output_type": "stream",
     "text": [
      "92.6\n",
      "1612.6\n",
      "280.7\n",
      "273.5\n",
      "2288.5\n",
      "1195.4\n",
      "1002.8\n",
      "1087.4\n",
      "1686.2\n",
      "894.4\n",
      "112.1\n",
      "284.1\n",
      "63.5\n",
      "2532.5\n",
      "2245.6\n",
      "4804.8\n",
      "487.2\n",
      "1676.2\n",
      "842.0\n",
      "243.2\n",
      "91.0\n",
      "764.6\n",
      "2467.0\n",
      "344.4\n",
      "752.0\n",
      "458.8\n",
      "143.2\n",
      "479.2\n",
      "404.7\n",
      "186.9\n",
      "126.9\n",
      "300.5\n",
      "848.9\n",
      "169.9\n",
      "353.3\n",
      "892.3\n",
      "601.0\n",
      "2287.6\n",
      "658.0\n",
      "275.0\n",
      "1112.3\n",
      "Blaricum\n",
      "596.4\n",
      "474.0\n",
      "319.4\n",
      "93.5\n",
      "923.2\n",
      "Borne\n",
      "161.4\n",
      "265.7\n",
      "480.9\n",
      "1469.0\n",
      "643.0\n",
      "127.2\n",
      "249.7\n",
      "Brummen\n",
      "1604.4\n",
      "421.7\n",
      "735.0\n",
      "202.9\n",
      "4751.5\n",
      "729.6\n",
      "120.0\n",
      "270.5\n",
      "1003.3\n",
      "176.6\n",
      "224.0\n",
      "4615.1\n",
      "278.8\n",
      "776.1\n",
      "2653.9\n",
      "151.3\n",
      "957.0\n",
      "740.6\n",
      "905.4\n",
      "1521.7\n",
      "339.2\n",
      "288.6\n",
      "128.6\n",
      "509.5\n",
      "735.8\n",
      "307.9\n",
      "671.2\n",
      "377.1\n",
      "304.4\n",
      "Eemnes\n",
      "240.4\n",
      "332.6\n",
      "2718.5\n",
      "372.0\n",
      "321.8\n",
      "1468.5\n",
      "1140.1\n",
      "213.1\n",
      "318.3\n",
      "798.4\n",
      "146.9\n",
      "824.3\n",
      "1293.6\n",
      "254.1\n",
      "362.1\n",
      "Gennep\n",
      "406.7\n",
      "196.0\n",
      "420.7\n",
      "557.9\n",
      "1414.9\n",
      "1998.0\n",
      "4493.0\n",
      "456.4\n",
      "6707.6\n",
      "1266.0\n",
      "193.8\n",
      "231.5\n",
      "5584.1\n",
      "806.8\n",
      "413.1\n",
      "197.9\n",
      "1256.3\n",
      "1094.7\n",
      "637.3\n",
      "533.1\n",
      "1433.1\n",
      "3002.2\n",
      "241.0\n",
      "268.9\n",
      "1525.3\n",
      "Heerhugowaard\n",
      "1932.8\n",
      "158.4\n",
      "1305.7\n",
      "1245.0\n",
      "260.6\n",
      "987.1\n",
      "1757.6\n",
      "2984.2\n",
      "Hendrik-Ido-Ambacht\n",
      "1338.4\n",
      "1419.7\n",
      "432.5\n",
      "577.7\n",
      "1734.1\n",
      "166.7\n",
      "2011.0\n",
      "329.9\n",
      "164.9\n",
      "98.8\n",
      "136.5\n",
      "438.1\n",
      "3646.1\n",
      "228.1\n",
      "916.1\n",
      "2589.6\n",
      "136.5\n",
      "1586.9\n",
      "441.1\n",
      "385.3\n",
      "350.7\n",
      "2668.3\n",
      "2067.1\n",
      "286.9\n",
      "3825.2\n",
      "Krimpen aan den IJssel\n",
      "384.5\n",
      "414.5\n",
      "1505.9\n",
      "513.1\n",
      "1200.5\n",
      "928.8\n",
      "526.5\n",
      "5709.7\n",
      "2371.4\n",
      "2354.8\n",
      "352.5\n",
      "220.9\n",
      "524.5\n",
      "757.6\n",
      "1466.7\n",
      "159.9\n",
      "476.0\n",
      "192.0\n",
      "233.6\n",
      "385.9\n",
      "525.7\n",
      "4026.9\n",
      "2163.0\n",
      "374.3\n",
      "689.2\n",
      "448.7\n",
      "626.0\n",
      "1015.6\n",
      "412.8\n",
      "98.9\n",
      "217.5\n",
      "234.5\n",
      "245.7\n",
      "343.9\n",
      "367.7\n",
      "459.4\n",
      "Mook en Middelaar\n",
      "417.4\n",
      "173.3\n",
      "Nederweert\n",
      "2745.1\n",
      "375.4\n",
      "639.1\n",
      "3375.1\n",
      "1173.4\n",
      "89.2\n",
      "156.6\n",
      "104.9\n",
      "760.0\n",
      "706.8\n",
      "219.2\n",
      "3488.0\n",
      "187.3\n",
      "406.4\n",
      "169.9\n",
      "245.1\n",
      "1473.1\n",
      "162.5\n",
      "102.7\n",
      "269.3\n",
      "791.0\n",
      "114.9\n",
      "836.4\n",
      "290.9\n",
      "Opmeer\n",
      "132.7\n",
      "571.9\n",
      "289.3\n",
      "589.9\n",
      "261.2\n",
      "442.0\n",
      "3422.3\n",
      "277.8\n",
      "248.8\n",
      "Pekela\n",
      "1525.1\n",
      "984.3\n",
      "288.7\n",
      "223.1\n",
      "225.2\n",
      "682.5\n",
      "307.2\n",
      "170.4\n",
      "531.3\n",
      "481.5\n",
      "1985.9\n",
      "Ridderkerk\n",
      "406.2\n",
      "4079.8\n",
      "233.1\n",
      "972.5\n",
      "449.9\n",
      "725.3\n",
      "3012.7\n",
      "62.9\n",
      "Rozendaal\n",
      "362.5\n",
      "278.3\n",
      "748.5\n",
      "4476.8\n",
      "148.7\n",
      "650.3\n",
      "117.8\n",
      "Sint Anthonis\n",
      "509.1\n",
      "1161.0\n",
      "2016.4\n",
      "82.8\n",
      "476.5\n",
      "1018.8\n",
      "245.4\n",
      "Someren\n",
      "685.0\n",
      "270.7\n",
      "129.0\n",
      "1513.9\n",
      "166.2\n",
      "155.2\n",
      "1176.9\n",
      "678.8\n",
      "217.7\n",
      "58.2\n",
      "84.5\n",
      "1336.9\n",
      "179.9\n",
      "1285.6\n",
      "1773.5\n",
      "145.3\n",
      "317.6\n",
      "239.1\n",
      "216.9\n",
      "630.7\n",
      "707.8\n",
      "1710.0\n",
      "1588.6\n",
      "3854.7\n",
      "378.7\n",
      "423.8\n",
      "440.3\n",
      "568.7\n",
      "361.5\n",
      "3477.2\n",
      "164.8\n",
      "1445.7\n",
      "1514.9\n",
      "822.0\n",
      "269.3\n",
      "401.6\n",
      "3146.3\n",
      "1298.9\n",
      "394.3\n",
      "2300.4\n",
      "203.3\n",
      "Voorst\n",
      "534.2\n",
      "162.2\n",
      "787.4\n",
      "764.2\n",
      "1128.5\n",
      "1312.4\n",
      "530.3\n",
      "332.7\n",
      "482.6\n",
      "896.7\n",
      "240.5\n",
      "256.4\n",
      "179.0\n",
      "71.3\n",
      "2125.9\n",
      "96.5\n",
      "Westerwolde\n",
      "1384.1\n",
      "119.3\n",
      "281.3\n",
      "260.4\n",
      "624.7\n",
      "514.8\n",
      "502.4\n",
      "211.2\n",
      "241.4\n",
      "597.0\n",
      "109.2\n",
      "De Wolden\n",
      "424.4\n",
      "379.9\n",
      "2127.1\n",
      "377.3\n",
      "532.5\n",
      "94.4\n",
      "1359.9\n",
      "482.1\n",
      "3650.3\n",
      "438.8\n",
      "789.3\n",
      "184.5\n",
      "1180.1\n",
      "279.0\n",
      "2205.5\n",
      "1175.9\n"
     ]
    }
   ],
   "source": [
    "bar_dhd = []\n",
    "\n",
    "for ind_r, row_b in gemeenten_df.iterrows(): \n",
    "    print(row_b['pop_dichtheid'])\n",
    "    if row_b['n_bars'] != 0:\n",
    "        bar_dhd.append(int(row_b['pop_dichtheid'] / row_b['n_bars']))\n",
    "    else:\n",
    "        print(row_b['RegioS'])\n",
    "        bar_dhd.append(row_b['pop_dichtheid'])\n",
    "\n",
    "gemeenten_df['bar_dhd'] = bar_dhd"
   ]
  },
  {
   "cell_type": "markdown",
   "metadata": {},
   "source": [
    "normaliseren"
   ]
  },
  {
   "cell_type": "code",
   "execution_count": 45,
   "metadata": {},
   "outputs": [],
   "source": [
    "mx = max(gemeenten_df['bar_pop'])\n",
    "bar_pop = [float(i)/mx for i in gemeenten_df['bar_pop']]"
   ]
  },
  {
   "cell_type": "code",
   "execution_count": 64,
   "metadata": {},
   "outputs": [],
   "source": [
    "mx = max(gemeenten_df['bar_dhd'])\n",
    "bar_dhd = [float(i)/mx for i in gemeenten_df['bar_dhd']]"
   ]
  },
  {
   "cell_type": "code",
   "execution_count": 65,
   "metadata": {},
   "outputs": [
    {
     "data": {
      "text/html": [
       "<div>\n",
       "<style scoped>\n",
       "    .dataframe tbody tr th:only-of-type {\n",
       "        vertical-align: middle;\n",
       "    }\n",
       "\n",
       "    .dataframe tbody tr th {\n",
       "        vertical-align: top;\n",
       "    }\n",
       "\n",
       "    .dataframe thead th {\n",
       "        text-align: right;\n",
       "    }\n",
       "</style>\n",
       "<table border=\"1\" class=\"dataframe\">\n",
       "  <thead>\n",
       "    <tr style=\"text-align: right;\">\n",
       "      <th></th>\n",
       "      <th>RegioS</th>\n",
       "      <th>n_bars</th>\n",
       "      <th>populatie</th>\n",
       "      <th>pop_dichtheid</th>\n",
       "      <th>bar_pop</th>\n",
       "      <th>bar_dhd</th>\n",
       "      <th>bar_score</th>\n",
       "    </tr>\n",
       "  </thead>\n",
       "  <tbody>\n",
       "    <tr>\n",
       "      <th>0</th>\n",
       "      <td>Aa en Hunze</td>\n",
       "      <td>5</td>\n",
       "      <td>25399</td>\n",
       "      <td>92.6</td>\n",
       "      <td>5079</td>\n",
       "      <td>0.0</td>\n",
       "      <td>0.075447</td>\n",
       "    </tr>\n",
       "    <tr>\n",
       "      <th>1</th>\n",
       "      <td>Aalsmeer</td>\n",
       "      <td>3</td>\n",
       "      <td>31991</td>\n",
       "      <td>1612.6</td>\n",
       "      <td>10663</td>\n",
       "      <td>0.0</td>\n",
       "      <td>0.158395</td>\n",
       "    </tr>\n",
       "    <tr>\n",
       "      <th>2</th>\n",
       "      <td>Aalten</td>\n",
       "      <td>2</td>\n",
       "      <td>27120</td>\n",
       "      <td>280.7</td>\n",
       "      <td>13560</td>\n",
       "      <td>0.0</td>\n",
       "      <td>0.201429</td>\n",
       "    </tr>\n",
       "    <tr>\n",
       "      <th>3</th>\n",
       "      <td>Achtkarspelen</td>\n",
       "      <td>2</td>\n",
       "      <td>27900</td>\n",
       "      <td>273.5</td>\n",
       "      <td>13950</td>\n",
       "      <td>0.0</td>\n",
       "      <td>0.207222</td>\n",
       "    </tr>\n",
       "    <tr>\n",
       "      <th>4</th>\n",
       "      <td>Alblasserdam</td>\n",
       "      <td>1</td>\n",
       "      <td>20136</td>\n",
       "      <td>2288.5</td>\n",
       "      <td>20136</td>\n",
       "      <td>0.0</td>\n",
       "      <td>0.299113</td>\n",
       "    </tr>\n",
       "    <tr>\n",
       "      <th>...</th>\n",
       "      <td>...</td>\n",
       "      <td>...</td>\n",
       "      <td>...</td>\n",
       "      <td>...</td>\n",
       "      <td>...</td>\n",
       "      <td>...</td>\n",
       "      <td>...</td>\n",
       "    </tr>\n",
       "    <tr>\n",
       "      <th>338</th>\n",
       "      <td>Zundert</td>\n",
       "      <td>9</td>\n",
       "      <td>21988</td>\n",
       "      <td>184.5</td>\n",
       "      <td>2443</td>\n",
       "      <td>0.0</td>\n",
       "      <td>0.036290</td>\n",
       "    </tr>\n",
       "    <tr>\n",
       "      <th>339</th>\n",
       "      <td>Zutphen</td>\n",
       "      <td>16</td>\n",
       "      <td>48111</td>\n",
       "      <td>1180.1</td>\n",
       "      <td>3006</td>\n",
       "      <td>0.0</td>\n",
       "      <td>0.044653</td>\n",
       "    </tr>\n",
       "    <tr>\n",
       "      <th>340</th>\n",
       "      <td>Zwartewaterland</td>\n",
       "      <td>3</td>\n",
       "      <td>22823</td>\n",
       "      <td>279.0</td>\n",
       "      <td>7607</td>\n",
       "      <td>0.0</td>\n",
       "      <td>0.112999</td>\n",
       "    </tr>\n",
       "    <tr>\n",
       "      <th>341</th>\n",
       "      <td>Zwijndrecht</td>\n",
       "      <td>4</td>\n",
       "      <td>44775</td>\n",
       "      <td>2205.5</td>\n",
       "      <td>11193</td>\n",
       "      <td>0.0</td>\n",
       "      <td>0.166268</td>\n",
       "    </tr>\n",
       "    <tr>\n",
       "      <th>342</th>\n",
       "      <td>Zwolle</td>\n",
       "      <td>49</td>\n",
       "      <td>129840</td>\n",
       "      <td>1175.9</td>\n",
       "      <td>2649</td>\n",
       "      <td>0.0</td>\n",
       "      <td>0.039350</td>\n",
       "    </tr>\n",
       "  </tbody>\n",
       "</table>\n",
       "<p>343 rows × 7 columns</p>\n",
       "</div>"
      ],
      "text/plain": [
       "              RegioS  n_bars  populatie  pop_dichtheid  bar_pop  bar_dhd  \\\n",
       "0        Aa en Hunze       5      25399           92.6     5079      0.0   \n",
       "1           Aalsmeer       3      31991         1612.6    10663      0.0   \n",
       "2             Aalten       2      27120          280.7    13560      0.0   \n",
       "3      Achtkarspelen       2      27900          273.5    13950      0.0   \n",
       "4       Alblasserdam       1      20136         2288.5    20136      0.0   \n",
       "..               ...     ...        ...            ...      ...      ...   \n",
       "338          Zundert       9      21988          184.5     2443      0.0   \n",
       "339          Zutphen      16      48111         1180.1     3006      0.0   \n",
       "340  Zwartewaterland       3      22823          279.0     7607      0.0   \n",
       "341      Zwijndrecht       4      44775         2205.5    11193      0.0   \n",
       "342           Zwolle      49     129840         1175.9     2649      0.0   \n",
       "\n",
       "     bar_score  \n",
       "0     0.075447  \n",
       "1     0.158395  \n",
       "2     0.201429  \n",
       "3     0.207222  \n",
       "4     0.299113  \n",
       "..         ...  \n",
       "338   0.036290  \n",
       "339   0.044653  \n",
       "340   0.112999  \n",
       "341   0.166268  \n",
       "342   0.039350  \n",
       "\n",
       "[343 rows x 7 columns]"
      ]
     },
     "metadata": {},
     "output_type": "display_data"
    }
   ],
   "source": [
    "gemeenten_df['bar_score'] = bar_score\n",
    "gemeenten_df['bar_dhd'] = bar_dhd\n",
    "display(gemeenten_df)"
   ]
  },
  {
   "cell_type": "markdown",
   "metadata": {},
   "source": [
    "pak de relevante gezondheids data om de correlatie te bekijken."
   ]
  },
  {
   "cell_type": "code",
   "execution_count": 66,
   "metadata": {},
   "outputs": [],
   "source": [
    "gezondheids_monitor_df = pd.read_csv('Gezondheidsmonitor.csv')"
   ]
  },
  {
   "cell_type": "code",
   "execution_count": 67,
   "metadata": {},
   "outputs": [
    {
     "data": {
      "text/html": [
       "<div>\n",
       "<style scoped>\n",
       "    .dataframe tbody tr th:only-of-type {\n",
       "        vertical-align: middle;\n",
       "    }\n",
       "\n",
       "    .dataframe tbody tr th {\n",
       "        vertical-align: top;\n",
       "    }\n",
       "\n",
       "    .dataframe thead th {\n",
       "        text-align: right;\n",
       "    }\n",
       "</style>\n",
       "<table border=\"1\" class=\"dataframe\">\n",
       "  <thead>\n",
       "    <tr style=\"text-align: right;\">\n",
       "      <th></th>\n",
       "      <th>Regio’s</th>\n",
       "      <th>Ondergewicht (%)</th>\n",
       "      <th>Normaal gewicht (%)</th>\n",
       "      <th>Overgewicht (%)</th>\n",
       "      <th>Matig overgewicht (%)</th>\n",
       "      <th>Ernstig overgewicht (obesitas) (%)</th>\n",
       "      <th>Alcoholgebruik/Voldoet aan richtlijn alcoholgebruik (%)</th>\n",
       "      <th>Alcoholgebruik/Zware drinker (%)</th>\n",
       "      <th>Alcoholgebruik/Overmatig drinker (%)</th>\n",
       "    </tr>\n",
       "  </thead>\n",
       "  <tbody>\n",
       "    <tr>\n",
       "      <th>0</th>\n",
       "      <td>Aa en Hunze</td>\n",
       "      <td>0.7</td>\n",
       "      <td>50.1</td>\n",
       "      <td>49.2</td>\n",
       "      <td>34.3</td>\n",
       "      <td>14.9</td>\n",
       "      <td>40.6</td>\n",
       "      <td>7.1</td>\n",
       "      <td>5.4</td>\n",
       "    </tr>\n",
       "    <tr>\n",
       "      <th>1</th>\n",
       "      <td>Aalsmeer</td>\n",
       "      <td>1.2</td>\n",
       "      <td>50.3</td>\n",
       "      <td>48.5</td>\n",
       "      <td>36.4</td>\n",
       "      <td>12.1</td>\n",
       "      <td>40.4</td>\n",
       "      <td>6.9</td>\n",
       "      <td>5.0</td>\n",
       "    </tr>\n",
       "    <tr>\n",
       "      <th>2</th>\n",
       "      <td>Aalten</td>\n",
       "      <td>1.4</td>\n",
       "      <td>49.2</td>\n",
       "      <td>49.4</td>\n",
       "      <td>33.8</td>\n",
       "      <td>15.6</td>\n",
       "      <td>41.3</td>\n",
       "      <td>11.7</td>\n",
       "      <td>6.6</td>\n",
       "    </tr>\n",
       "    <tr>\n",
       "      <th>3</th>\n",
       "      <td>Achtkarspelen</td>\n",
       "      <td>0.8</td>\n",
       "      <td>42.6</td>\n",
       "      <td>56.6</td>\n",
       "      <td>40.0</td>\n",
       "      <td>16.6</td>\n",
       "      <td>40.4</td>\n",
       "      <td>11.1</td>\n",
       "      <td>7.9</td>\n",
       "    </tr>\n",
       "    <tr>\n",
       "      <th>4</th>\n",
       "      <td>Alblasserdam</td>\n",
       "      <td>2.0</td>\n",
       "      <td>41.7</td>\n",
       "      <td>56.3</td>\n",
       "      <td>38.8</td>\n",
       "      <td>17.5</td>\n",
       "      <td>55.8</td>\n",
       "      <td>5.9</td>\n",
       "      <td>5.2</td>\n",
       "    </tr>\n",
       "    <tr>\n",
       "      <th>...</th>\n",
       "      <td>...</td>\n",
       "      <td>...</td>\n",
       "      <td>...</td>\n",
       "      <td>...</td>\n",
       "      <td>...</td>\n",
       "      <td>...</td>\n",
       "      <td>...</td>\n",
       "      <td>...</td>\n",
       "      <td>...</td>\n",
       "    </tr>\n",
       "    <tr>\n",
       "      <th>338</th>\n",
       "      <td>Zundert</td>\n",
       "      <td>0.8</td>\n",
       "      <td>44.4</td>\n",
       "      <td>54.8</td>\n",
       "      <td>38.4</td>\n",
       "      <td>16.4</td>\n",
       "      <td>36.6</td>\n",
       "      <td>11.7</td>\n",
       "      <td>8.5</td>\n",
       "    </tr>\n",
       "    <tr>\n",
       "      <th>339</th>\n",
       "      <td>Zutphen</td>\n",
       "      <td>1.7</td>\n",
       "      <td>50.6</td>\n",
       "      <td>47.7</td>\n",
       "      <td>32.6</td>\n",
       "      <td>15.1</td>\n",
       "      <td>46.5</td>\n",
       "      <td>7.6</td>\n",
       "      <td>5.0</td>\n",
       "    </tr>\n",
       "    <tr>\n",
       "      <th>340</th>\n",
       "      <td>Zwartewaterland</td>\n",
       "      <td>1.9</td>\n",
       "      <td>42.5</td>\n",
       "      <td>55.6</td>\n",
       "      <td>35.2</td>\n",
       "      <td>20.5</td>\n",
       "      <td>42.8</td>\n",
       "      <td>9.2</td>\n",
       "      <td>7.6</td>\n",
       "    </tr>\n",
       "    <tr>\n",
       "      <th>341</th>\n",
       "      <td>Zwijndrecht</td>\n",
       "      <td>2.1</td>\n",
       "      <td>41.2</td>\n",
       "      <td>56.7</td>\n",
       "      <td>37.3</td>\n",
       "      <td>19.3</td>\n",
       "      <td>48.6</td>\n",
       "      <td>6.2</td>\n",
       "      <td>5.6</td>\n",
       "    </tr>\n",
       "    <tr>\n",
       "      <th>342</th>\n",
       "      <td>Zwolle</td>\n",
       "      <td>2.1</td>\n",
       "      <td>52.1</td>\n",
       "      <td>45.8</td>\n",
       "      <td>34.8</td>\n",
       "      <td>11.0</td>\n",
       "      <td>38.4</td>\n",
       "      <td>7.5</td>\n",
       "      <td>5.7</td>\n",
       "    </tr>\n",
       "  </tbody>\n",
       "</table>\n",
       "<p>343 rows × 9 columns</p>\n",
       "</div>"
      ],
      "text/plain": [
       "             Regio’s  Ondergewicht (%)  Normaal gewicht (%)  Overgewicht (%)  \\\n",
       "0        Aa en Hunze               0.7                 50.1             49.2   \n",
       "1           Aalsmeer               1.2                 50.3             48.5   \n",
       "2             Aalten               1.4                 49.2             49.4   \n",
       "3      Achtkarspelen               0.8                 42.6             56.6   \n",
       "4       Alblasserdam               2.0                 41.7             56.3   \n",
       "..               ...               ...                  ...              ...   \n",
       "338          Zundert               0.8                 44.4             54.8   \n",
       "339          Zutphen               1.7                 50.6             47.7   \n",
       "340  Zwartewaterland               1.9                 42.5             55.6   \n",
       "341      Zwijndrecht               2.1                 41.2             56.7   \n",
       "342           Zwolle               2.1                 52.1             45.8   \n",
       "\n",
       "     Matig overgewicht (%)  Ernstig overgewicht (obesitas) (%)  \\\n",
       "0                     34.3                                14.9   \n",
       "1                     36.4                                12.1   \n",
       "2                     33.8                                15.6   \n",
       "3                     40.0                                16.6   \n",
       "4                     38.8                                17.5   \n",
       "..                     ...                                 ...   \n",
       "338                   38.4                                16.4   \n",
       "339                   32.6                                15.1   \n",
       "340                   35.2                                20.5   \n",
       "341                   37.3                                19.3   \n",
       "342                   34.8                                11.0   \n",
       "\n",
       "     Alcoholgebruik/Voldoet aan richtlijn alcoholgebruik (%)  \\\n",
       "0                                                 40.6         \n",
       "1                                                 40.4         \n",
       "2                                                 41.3         \n",
       "3                                                 40.4         \n",
       "4                                                 55.8         \n",
       "..                                                 ...         \n",
       "338                                               36.6         \n",
       "339                                               46.5         \n",
       "340                                               42.8         \n",
       "341                                               48.6         \n",
       "342                                               38.4         \n",
       "\n",
       "     Alcoholgebruik/Zware drinker (%)  Alcoholgebruik/Overmatig drinker (%)  \n",
       "0                                 7.1                                   5.4  \n",
       "1                                 6.9                                   5.0  \n",
       "2                                11.7                                   6.6  \n",
       "3                                11.1                                   7.9  \n",
       "4                                 5.9                                   5.2  \n",
       "..                                ...                                   ...  \n",
       "338                              11.7                                   8.5  \n",
       "339                               7.6                                   5.0  \n",
       "340                               9.2                                   7.6  \n",
       "341                               6.2                                   5.6  \n",
       "342                               7.5                                   5.7  \n",
       "\n",
       "[343 rows x 9 columns]"
      ]
     },
     "metadata": {},
     "output_type": "display_data"
    }
   ],
   "source": [
    "display(gezondheids_monitor_df)"
   ]
  },
  {
   "cell_type": "code",
   "execution_count": 68,
   "metadata": {},
   "outputs": [],
   "source": [
    "gezondheids_monitor_df[['n_bars', 'populatie', 'bar_score', 'pop_dichtheid', 'bar_dhd']] = gemeenten_df[['n_bars', 'populatie', 'bar_score', 'pop_dichtheid', 'bar_dhd']]"
   ]
  },
  {
   "cell_type": "code",
   "execution_count": 69,
   "metadata": {},
   "outputs": [
    {
     "data": {
      "text/html": [
       "<div>\n",
       "<style scoped>\n",
       "    .dataframe tbody tr th:only-of-type {\n",
       "        vertical-align: middle;\n",
       "    }\n",
       "\n",
       "    .dataframe tbody tr th {\n",
       "        vertical-align: top;\n",
       "    }\n",
       "\n",
       "    .dataframe thead th {\n",
       "        text-align: right;\n",
       "    }\n",
       "</style>\n",
       "<table border=\"1\" class=\"dataframe\">\n",
       "  <thead>\n",
       "    <tr style=\"text-align: right;\">\n",
       "      <th></th>\n",
       "      <th>Regio’s</th>\n",
       "      <th>Ondergewicht (%)</th>\n",
       "      <th>Normaal gewicht (%)</th>\n",
       "      <th>Overgewicht (%)</th>\n",
       "      <th>Matig overgewicht (%)</th>\n",
       "      <th>Ernstig overgewicht (obesitas) (%)</th>\n",
       "      <th>Alcoholgebruik/Voldoet aan richtlijn alcoholgebruik (%)</th>\n",
       "      <th>Alcoholgebruik/Zware drinker (%)</th>\n",
       "      <th>Alcoholgebruik/Overmatig drinker (%)</th>\n",
       "      <th>n_bars</th>\n",
       "      <th>populatie</th>\n",
       "      <th>bar_score</th>\n",
       "      <th>pop_dichtheid</th>\n",
       "      <th>bar_dhd</th>\n",
       "    </tr>\n",
       "  </thead>\n",
       "  <tbody>\n",
       "    <tr>\n",
       "      <th>0</th>\n",
       "      <td>Aa en Hunze</td>\n",
       "      <td>0.7</td>\n",
       "      <td>50.1</td>\n",
       "      <td>49.2</td>\n",
       "      <td>34.3</td>\n",
       "      <td>14.9</td>\n",
       "      <td>40.6</td>\n",
       "      <td>7.1</td>\n",
       "      <td>5.4</td>\n",
       "      <td>5</td>\n",
       "      <td>25399</td>\n",
       "      <td>0.075447</td>\n",
       "      <td>92.6</td>\n",
       "      <td>0.0</td>\n",
       "    </tr>\n",
       "    <tr>\n",
       "      <th>1</th>\n",
       "      <td>Aalsmeer</td>\n",
       "      <td>1.2</td>\n",
       "      <td>50.3</td>\n",
       "      <td>48.5</td>\n",
       "      <td>36.4</td>\n",
       "      <td>12.1</td>\n",
       "      <td>40.4</td>\n",
       "      <td>6.9</td>\n",
       "      <td>5.0</td>\n",
       "      <td>3</td>\n",
       "      <td>31991</td>\n",
       "      <td>0.158395</td>\n",
       "      <td>1612.6</td>\n",
       "      <td>0.0</td>\n",
       "    </tr>\n",
       "    <tr>\n",
       "      <th>2</th>\n",
       "      <td>Aalten</td>\n",
       "      <td>1.4</td>\n",
       "      <td>49.2</td>\n",
       "      <td>49.4</td>\n",
       "      <td>33.8</td>\n",
       "      <td>15.6</td>\n",
       "      <td>41.3</td>\n",
       "      <td>11.7</td>\n",
       "      <td>6.6</td>\n",
       "      <td>2</td>\n",
       "      <td>27120</td>\n",
       "      <td>0.201429</td>\n",
       "      <td>280.7</td>\n",
       "      <td>0.0</td>\n",
       "    </tr>\n",
       "    <tr>\n",
       "      <th>3</th>\n",
       "      <td>Achtkarspelen</td>\n",
       "      <td>0.8</td>\n",
       "      <td>42.6</td>\n",
       "      <td>56.6</td>\n",
       "      <td>40.0</td>\n",
       "      <td>16.6</td>\n",
       "      <td>40.4</td>\n",
       "      <td>11.1</td>\n",
       "      <td>7.9</td>\n",
       "      <td>2</td>\n",
       "      <td>27900</td>\n",
       "      <td>0.207222</td>\n",
       "      <td>273.5</td>\n",
       "      <td>0.0</td>\n",
       "    </tr>\n",
       "    <tr>\n",
       "      <th>4</th>\n",
       "      <td>Alblasserdam</td>\n",
       "      <td>2.0</td>\n",
       "      <td>41.7</td>\n",
       "      <td>56.3</td>\n",
       "      <td>38.8</td>\n",
       "      <td>17.5</td>\n",
       "      <td>55.8</td>\n",
       "      <td>5.9</td>\n",
       "      <td>5.2</td>\n",
       "      <td>1</td>\n",
       "      <td>20136</td>\n",
       "      <td>0.299113</td>\n",
       "      <td>2288.5</td>\n",
       "      <td>0.0</td>\n",
       "    </tr>\n",
       "    <tr>\n",
       "      <th>...</th>\n",
       "      <td>...</td>\n",
       "      <td>...</td>\n",
       "      <td>...</td>\n",
       "      <td>...</td>\n",
       "      <td>...</td>\n",
       "      <td>...</td>\n",
       "      <td>...</td>\n",
       "      <td>...</td>\n",
       "      <td>...</td>\n",
       "      <td>...</td>\n",
       "      <td>...</td>\n",
       "      <td>...</td>\n",
       "      <td>...</td>\n",
       "      <td>...</td>\n",
       "    </tr>\n",
       "    <tr>\n",
       "      <th>338</th>\n",
       "      <td>Zundert</td>\n",
       "      <td>0.8</td>\n",
       "      <td>44.4</td>\n",
       "      <td>54.8</td>\n",
       "      <td>38.4</td>\n",
       "      <td>16.4</td>\n",
       "      <td>36.6</td>\n",
       "      <td>11.7</td>\n",
       "      <td>8.5</td>\n",
       "      <td>9</td>\n",
       "      <td>21988</td>\n",
       "      <td>0.036290</td>\n",
       "      <td>184.5</td>\n",
       "      <td>0.0</td>\n",
       "    </tr>\n",
       "    <tr>\n",
       "      <th>339</th>\n",
       "      <td>Zutphen</td>\n",
       "      <td>1.7</td>\n",
       "      <td>50.6</td>\n",
       "      <td>47.7</td>\n",
       "      <td>32.6</td>\n",
       "      <td>15.1</td>\n",
       "      <td>46.5</td>\n",
       "      <td>7.6</td>\n",
       "      <td>5.0</td>\n",
       "      <td>16</td>\n",
       "      <td>48111</td>\n",
       "      <td>0.044653</td>\n",
       "      <td>1180.1</td>\n",
       "      <td>0.0</td>\n",
       "    </tr>\n",
       "    <tr>\n",
       "      <th>340</th>\n",
       "      <td>Zwartewaterland</td>\n",
       "      <td>1.9</td>\n",
       "      <td>42.5</td>\n",
       "      <td>55.6</td>\n",
       "      <td>35.2</td>\n",
       "      <td>20.5</td>\n",
       "      <td>42.8</td>\n",
       "      <td>9.2</td>\n",
       "      <td>7.6</td>\n",
       "      <td>3</td>\n",
       "      <td>22823</td>\n",
       "      <td>0.112999</td>\n",
       "      <td>279.0</td>\n",
       "      <td>0.0</td>\n",
       "    </tr>\n",
       "    <tr>\n",
       "      <th>341</th>\n",
       "      <td>Zwijndrecht</td>\n",
       "      <td>2.1</td>\n",
       "      <td>41.2</td>\n",
       "      <td>56.7</td>\n",
       "      <td>37.3</td>\n",
       "      <td>19.3</td>\n",
       "      <td>48.6</td>\n",
       "      <td>6.2</td>\n",
       "      <td>5.6</td>\n",
       "      <td>4</td>\n",
       "      <td>44775</td>\n",
       "      <td>0.166268</td>\n",
       "      <td>2205.5</td>\n",
       "      <td>0.0</td>\n",
       "    </tr>\n",
       "    <tr>\n",
       "      <th>342</th>\n",
       "      <td>Zwolle</td>\n",
       "      <td>2.1</td>\n",
       "      <td>52.1</td>\n",
       "      <td>45.8</td>\n",
       "      <td>34.8</td>\n",
       "      <td>11.0</td>\n",
       "      <td>38.4</td>\n",
       "      <td>7.5</td>\n",
       "      <td>5.7</td>\n",
       "      <td>49</td>\n",
       "      <td>129840</td>\n",
       "      <td>0.039350</td>\n",
       "      <td>1175.9</td>\n",
       "      <td>0.0</td>\n",
       "    </tr>\n",
       "  </tbody>\n",
       "</table>\n",
       "<p>343 rows × 14 columns</p>\n",
       "</div>"
      ],
      "text/plain": [
       "             Regio’s  Ondergewicht (%)  Normaal gewicht (%)  Overgewicht (%)  \\\n",
       "0        Aa en Hunze               0.7                 50.1             49.2   \n",
       "1           Aalsmeer               1.2                 50.3             48.5   \n",
       "2             Aalten               1.4                 49.2             49.4   \n",
       "3      Achtkarspelen               0.8                 42.6             56.6   \n",
       "4       Alblasserdam               2.0                 41.7             56.3   \n",
       "..               ...               ...                  ...              ...   \n",
       "338          Zundert               0.8                 44.4             54.8   \n",
       "339          Zutphen               1.7                 50.6             47.7   \n",
       "340  Zwartewaterland               1.9                 42.5             55.6   \n",
       "341      Zwijndrecht               2.1                 41.2             56.7   \n",
       "342           Zwolle               2.1                 52.1             45.8   \n",
       "\n",
       "     Matig overgewicht (%)  Ernstig overgewicht (obesitas) (%)  \\\n",
       "0                     34.3                                14.9   \n",
       "1                     36.4                                12.1   \n",
       "2                     33.8                                15.6   \n",
       "3                     40.0                                16.6   \n",
       "4                     38.8                                17.5   \n",
       "..                     ...                                 ...   \n",
       "338                   38.4                                16.4   \n",
       "339                   32.6                                15.1   \n",
       "340                   35.2                                20.5   \n",
       "341                   37.3                                19.3   \n",
       "342                   34.8                                11.0   \n",
       "\n",
       "     Alcoholgebruik/Voldoet aan richtlijn alcoholgebruik (%)  \\\n",
       "0                                                 40.6         \n",
       "1                                                 40.4         \n",
       "2                                                 41.3         \n",
       "3                                                 40.4         \n",
       "4                                                 55.8         \n",
       "..                                                 ...         \n",
       "338                                               36.6         \n",
       "339                                               46.5         \n",
       "340                                               42.8         \n",
       "341                                               48.6         \n",
       "342                                               38.4         \n",
       "\n",
       "     Alcoholgebruik/Zware drinker (%)  Alcoholgebruik/Overmatig drinker (%)  \\\n",
       "0                                 7.1                                   5.4   \n",
       "1                                 6.9                                   5.0   \n",
       "2                                11.7                                   6.6   \n",
       "3                                11.1                                   7.9   \n",
       "4                                 5.9                                   5.2   \n",
       "..                                ...                                   ...   \n",
       "338                              11.7                                   8.5   \n",
       "339                               7.6                                   5.0   \n",
       "340                               9.2                                   7.6   \n",
       "341                               6.2                                   5.6   \n",
       "342                               7.5                                   5.7   \n",
       "\n",
       "     n_bars  populatie  bar_score  pop_dichtheid  bar_dhd  \n",
       "0         5      25399   0.075447           92.6      0.0  \n",
       "1         3      31991   0.158395         1612.6      0.0  \n",
       "2         2      27120   0.201429          280.7      0.0  \n",
       "3         2      27900   0.207222          273.5      0.0  \n",
       "4         1      20136   0.299113         2288.5      0.0  \n",
       "..      ...        ...        ...            ...      ...  \n",
       "338       9      21988   0.036290          184.5      0.0  \n",
       "339      16      48111   0.044653         1180.1      0.0  \n",
       "340       3      22823   0.112999          279.0      0.0  \n",
       "341       4      44775   0.166268         2205.5      0.0  \n",
       "342      49     129840   0.039350         1175.9      0.0  \n",
       "\n",
       "[343 rows x 14 columns]"
      ]
     },
     "metadata": {},
     "output_type": "display_data"
    }
   ],
   "source": [
    "display(gezondheids_monitor_df)"
   ]
  },
  {
   "cell_type": "code",
   "execution_count": 70,
   "metadata": {},
   "outputs": [
    {
     "data": {
      "text/html": [
       "<div>\n",
       "<style scoped>\n",
       "    .dataframe tbody tr th:only-of-type {\n",
       "        vertical-align: middle;\n",
       "    }\n",
       "\n",
       "    .dataframe tbody tr th {\n",
       "        vertical-align: top;\n",
       "    }\n",
       "\n",
       "    .dataframe thead th {\n",
       "        text-align: right;\n",
       "    }\n",
       "</style>\n",
       "<table border=\"1\" class=\"dataframe\">\n",
       "  <thead>\n",
       "    <tr style=\"text-align: right;\">\n",
       "      <th></th>\n",
       "      <th>Ondergewicht (%)</th>\n",
       "      <th>Normaal gewicht (%)</th>\n",
       "      <th>Overgewicht (%)</th>\n",
       "      <th>Matig overgewicht (%)</th>\n",
       "      <th>Ernstig overgewicht (obesitas) (%)</th>\n",
       "      <th>Alcoholgebruik/Voldoet aan richtlijn alcoholgebruik (%)</th>\n",
       "      <th>Alcoholgebruik/Zware drinker (%)</th>\n",
       "      <th>Alcoholgebruik/Overmatig drinker (%)</th>\n",
       "      <th>n_bars</th>\n",
       "      <th>populatie</th>\n",
       "      <th>bar_score</th>\n",
       "      <th>pop_dichtheid</th>\n",
       "      <th>bar_dhd</th>\n",
       "    </tr>\n",
       "  </thead>\n",
       "  <tbody>\n",
       "    <tr>\n",
       "      <th>Ondergewicht (%)</th>\n",
       "      <td>1.000000</td>\n",
       "      <td>0.226497</td>\n",
       "      <td>-0.341771</td>\n",
       "      <td>-0.354774</td>\n",
       "      <td>-0.227313</td>\n",
       "      <td>-0.002847</td>\n",
       "      <td>-0.048274</td>\n",
       "      <td>0.006373</td>\n",
       "      <td>0.185933</td>\n",
       "      <td>0.189733</td>\n",
       "      <td>0.000124</td>\n",
       "      <td>0.252074</td>\n",
       "      <td>0.072757</td>\n",
       "    </tr>\n",
       "    <tr>\n",
       "      <th>Normaal gewicht (%)</th>\n",
       "      <td>0.226497</td>\n",
       "      <td>1.000000</td>\n",
       "      <td>-0.992713</td>\n",
       "      <td>-0.813658</td>\n",
       "      <td>-0.857341</td>\n",
       "      <td>-0.348438</td>\n",
       "      <td>0.098440</td>\n",
       "      <td>0.226078</td>\n",
       "      <td>0.207400</td>\n",
       "      <td>0.186191</td>\n",
       "      <td>-0.070881</td>\n",
       "      <td>0.172821</td>\n",
       "      <td>-0.036583</td>\n",
       "    </tr>\n",
       "    <tr>\n",
       "      <th>Overgewicht (%)</th>\n",
       "      <td>-0.341771</td>\n",
       "      <td>-0.992713</td>\n",
       "      <td>1.000000</td>\n",
       "      <td>0.828530</td>\n",
       "      <td>0.855497</td>\n",
       "      <td>0.336792</td>\n",
       "      <td>-0.089068</td>\n",
       "      <td>-0.218656</td>\n",
       "      <td>-0.222118</td>\n",
       "      <td>-0.202427</td>\n",
       "      <td>0.068194</td>\n",
       "      <td>-0.197767</td>\n",
       "      <td>0.026374</td>\n",
       "    </tr>\n",
       "    <tr>\n",
       "      <th>Matig overgewicht (%)</th>\n",
       "      <td>-0.354774</td>\n",
       "      <td>-0.813658</td>\n",
       "      <td>0.828530</td>\n",
       "      <td>1.000000</td>\n",
       "      <td>0.419011</td>\n",
       "      <td>0.122884</td>\n",
       "      <td>0.028692</td>\n",
       "      <td>-0.050048</td>\n",
       "      <td>-0.290592</td>\n",
       "      <td>-0.307211</td>\n",
       "      <td>0.023967</td>\n",
       "      <td>-0.316816</td>\n",
       "      <td>0.025796</td>\n",
       "    </tr>\n",
       "    <tr>\n",
       "      <th>Ernstig overgewicht (obesitas) (%)</th>\n",
       "      <td>-0.227313</td>\n",
       "      <td>-0.857341</td>\n",
       "      <td>0.855497</td>\n",
       "      <td>0.419011</td>\n",
       "      <td>1.000000</td>\n",
       "      <td>0.431288</td>\n",
       "      <td>-0.169288</td>\n",
       "      <td>-0.306887</td>\n",
       "      <td>-0.091060</td>\n",
       "      <td>-0.044416</td>\n",
       "      <td>0.088483</td>\n",
       "      <td>-0.028564</td>\n",
       "      <td>0.019891</td>\n",
       "    </tr>\n",
       "    <tr>\n",
       "      <th>Alcoholgebruik/Voldoet aan richtlijn alcoholgebruik (%)</th>\n",
       "      <td>-0.002847</td>\n",
       "      <td>-0.348438</td>\n",
       "      <td>0.336792</td>\n",
       "      <td>0.122884</td>\n",
       "      <td>0.431288</td>\n",
       "      <td>1.000000</td>\n",
       "      <td>-0.703225</td>\n",
       "      <td>-0.642777</td>\n",
       "      <td>0.017068</td>\n",
       "      <td>0.122182</td>\n",
       "      <td>0.196376</td>\n",
       "      <td>0.257753</td>\n",
       "      <td>0.160576</td>\n",
       "    </tr>\n",
       "    <tr>\n",
       "      <th>Alcoholgebruik/Zware drinker (%)</th>\n",
       "      <td>-0.048274</td>\n",
       "      <td>0.098440</td>\n",
       "      <td>-0.089068</td>\n",
       "      <td>0.028692</td>\n",
       "      <td>-0.169288</td>\n",
       "      <td>-0.703225</td>\n",
       "      <td>1.000000</td>\n",
       "      <td>0.768693</td>\n",
       "      <td>0.081430</td>\n",
       "      <td>-0.002946</td>\n",
       "      <td>-0.179047</td>\n",
       "      <td>-0.251788</td>\n",
       "      <td>-0.103998</td>\n",
       "    </tr>\n",
       "    <tr>\n",
       "      <th>Alcoholgebruik/Overmatig drinker (%)</th>\n",
       "      <td>0.006373</td>\n",
       "      <td>0.226078</td>\n",
       "      <td>-0.218656</td>\n",
       "      <td>-0.050048</td>\n",
       "      <td>-0.306887</td>\n",
       "      <td>-0.642777</td>\n",
       "      <td>0.768693</td>\n",
       "      <td>1.000000</td>\n",
       "      <td>-0.001052</td>\n",
       "      <td>-0.094883</td>\n",
       "      <td>-0.162817</td>\n",
       "      <td>-0.232155</td>\n",
       "      <td>-0.058151</td>\n",
       "    </tr>\n",
       "    <tr>\n",
       "      <th>n_bars</th>\n",
       "      <td>0.185933</td>\n",
       "      <td>0.207400</td>\n",
       "      <td>-0.222118</td>\n",
       "      <td>-0.290592</td>\n",
       "      <td>-0.091060</td>\n",
       "      <td>0.017068</td>\n",
       "      <td>0.081430</td>\n",
       "      <td>-0.001052</td>\n",
       "      <td>1.000000</td>\n",
       "      <td>0.924124</td>\n",
       "      <td>-0.186537</td>\n",
       "      <td>0.417057</td>\n",
       "      <td>-0.046523</td>\n",
       "    </tr>\n",
       "    <tr>\n",
       "      <th>populatie</th>\n",
       "      <td>0.189733</td>\n",
       "      <td>0.186191</td>\n",
       "      <td>-0.202427</td>\n",
       "      <td>-0.307211</td>\n",
       "      <td>-0.044416</td>\n",
       "      <td>0.122182</td>\n",
       "      <td>-0.002946</td>\n",
       "      <td>-0.094883</td>\n",
       "      <td>0.924124</td>\n",
       "      <td>1.000000</td>\n",
       "      <td>-0.091416</td>\n",
       "      <td>0.496483</td>\n",
       "      <td>-0.038539</td>\n",
       "    </tr>\n",
       "    <tr>\n",
       "      <th>bar_score</th>\n",
       "      <td>0.000124</td>\n",
       "      <td>-0.070881</td>\n",
       "      <td>0.068194</td>\n",
       "      <td>0.023967</td>\n",
       "      <td>0.088483</td>\n",
       "      <td>0.196376</td>\n",
       "      <td>-0.179047</td>\n",
       "      <td>-0.162817</td>\n",
       "      <td>-0.186537</td>\n",
       "      <td>-0.091416</td>\n",
       "      <td>1.000000</td>\n",
       "      <td>0.109969</td>\n",
       "      <td>0.291704</td>\n",
       "    </tr>\n",
       "    <tr>\n",
       "      <th>pop_dichtheid</th>\n",
       "      <td>0.252074</td>\n",
       "      <td>0.172821</td>\n",
       "      <td>-0.197767</td>\n",
       "      <td>-0.316816</td>\n",
       "      <td>-0.028564</td>\n",
       "      <td>0.257753</td>\n",
       "      <td>-0.251788</td>\n",
       "      <td>-0.232155</td>\n",
       "      <td>0.417057</td>\n",
       "      <td>0.496483</td>\n",
       "      <td>0.109969</td>\n",
       "      <td>1.000000</td>\n",
       "      <td>0.170897</td>\n",
       "    </tr>\n",
       "    <tr>\n",
       "      <th>bar_dhd</th>\n",
       "      <td>0.072757</td>\n",
       "      <td>-0.036583</td>\n",
       "      <td>0.026374</td>\n",
       "      <td>0.025796</td>\n",
       "      <td>0.019891</td>\n",
       "      <td>0.160576</td>\n",
       "      <td>-0.103998</td>\n",
       "      <td>-0.058151</td>\n",
       "      <td>-0.046523</td>\n",
       "      <td>-0.038539</td>\n",
       "      <td>0.291704</td>\n",
       "      <td>0.170897</td>\n",
       "      <td>1.000000</td>\n",
       "    </tr>\n",
       "  </tbody>\n",
       "</table>\n",
       "</div>"
      ],
      "text/plain": [
       "                                                    Ondergewicht (%)  \\\n",
       "Ondergewicht (%)                                            1.000000   \n",
       "Normaal gewicht (%)                                         0.226497   \n",
       "Overgewicht (%)                                            -0.341771   \n",
       "Matig overgewicht (%)                                      -0.354774   \n",
       "Ernstig overgewicht (obesitas) (%)                         -0.227313   \n",
       "Alcoholgebruik/Voldoet aan richtlijn alcoholgeb...         -0.002847   \n",
       "Alcoholgebruik/Zware drinker (%)                           -0.048274   \n",
       "Alcoholgebruik/Overmatig drinker (%)                        0.006373   \n",
       "n_bars                                                      0.185933   \n",
       "populatie                                                   0.189733   \n",
       "bar_score                                                   0.000124   \n",
       "pop_dichtheid                                               0.252074   \n",
       "bar_dhd                                                     0.072757   \n",
       "\n",
       "                                                    Normaal gewicht (%)  \\\n",
       "Ondergewicht (%)                                               0.226497   \n",
       "Normaal gewicht (%)                                            1.000000   \n",
       "Overgewicht (%)                                               -0.992713   \n",
       "Matig overgewicht (%)                                         -0.813658   \n",
       "Ernstig overgewicht (obesitas) (%)                            -0.857341   \n",
       "Alcoholgebruik/Voldoet aan richtlijn alcoholgeb...            -0.348438   \n",
       "Alcoholgebruik/Zware drinker (%)                               0.098440   \n",
       "Alcoholgebruik/Overmatig drinker (%)                           0.226078   \n",
       "n_bars                                                         0.207400   \n",
       "populatie                                                      0.186191   \n",
       "bar_score                                                     -0.070881   \n",
       "pop_dichtheid                                                  0.172821   \n",
       "bar_dhd                                                       -0.036583   \n",
       "\n",
       "                                                    Overgewicht (%)  \\\n",
       "Ondergewicht (%)                                          -0.341771   \n",
       "Normaal gewicht (%)                                       -0.992713   \n",
       "Overgewicht (%)                                            1.000000   \n",
       "Matig overgewicht (%)                                      0.828530   \n",
       "Ernstig overgewicht (obesitas) (%)                         0.855497   \n",
       "Alcoholgebruik/Voldoet aan richtlijn alcoholgeb...         0.336792   \n",
       "Alcoholgebruik/Zware drinker (%)                          -0.089068   \n",
       "Alcoholgebruik/Overmatig drinker (%)                      -0.218656   \n",
       "n_bars                                                    -0.222118   \n",
       "populatie                                                 -0.202427   \n",
       "bar_score                                                  0.068194   \n",
       "pop_dichtheid                                             -0.197767   \n",
       "bar_dhd                                                    0.026374   \n",
       "\n",
       "                                                    Matig overgewicht (%)  \\\n",
       "Ondergewicht (%)                                                -0.354774   \n",
       "Normaal gewicht (%)                                             -0.813658   \n",
       "Overgewicht (%)                                                  0.828530   \n",
       "Matig overgewicht (%)                                            1.000000   \n",
       "Ernstig overgewicht (obesitas) (%)                               0.419011   \n",
       "Alcoholgebruik/Voldoet aan richtlijn alcoholgeb...               0.122884   \n",
       "Alcoholgebruik/Zware drinker (%)                                 0.028692   \n",
       "Alcoholgebruik/Overmatig drinker (%)                            -0.050048   \n",
       "n_bars                                                          -0.290592   \n",
       "populatie                                                       -0.307211   \n",
       "bar_score                                                        0.023967   \n",
       "pop_dichtheid                                                   -0.316816   \n",
       "bar_dhd                                                          0.025796   \n",
       "\n",
       "                                                    Ernstig overgewicht (obesitas) (%)  \\\n",
       "Ondergewicht (%)                                                             -0.227313   \n",
       "Normaal gewicht (%)                                                          -0.857341   \n",
       "Overgewicht (%)                                                               0.855497   \n",
       "Matig overgewicht (%)                                                         0.419011   \n",
       "Ernstig overgewicht (obesitas) (%)                                            1.000000   \n",
       "Alcoholgebruik/Voldoet aan richtlijn alcoholgeb...                            0.431288   \n",
       "Alcoholgebruik/Zware drinker (%)                                             -0.169288   \n",
       "Alcoholgebruik/Overmatig drinker (%)                                         -0.306887   \n",
       "n_bars                                                                       -0.091060   \n",
       "populatie                                                                    -0.044416   \n",
       "bar_score                                                                     0.088483   \n",
       "pop_dichtheid                                                                -0.028564   \n",
       "bar_dhd                                                                       0.019891   \n",
       "\n",
       "                                                    Alcoholgebruik/Voldoet aan richtlijn alcoholgebruik (%)  \\\n",
       "Ondergewicht (%)                                                                            -0.002847         \n",
       "Normaal gewicht (%)                                                                         -0.348438         \n",
       "Overgewicht (%)                                                                              0.336792         \n",
       "Matig overgewicht (%)                                                                        0.122884         \n",
       "Ernstig overgewicht (obesitas) (%)                                                           0.431288         \n",
       "Alcoholgebruik/Voldoet aan richtlijn alcoholgeb...                                           1.000000         \n",
       "Alcoholgebruik/Zware drinker (%)                                                            -0.703225         \n",
       "Alcoholgebruik/Overmatig drinker (%)                                                        -0.642777         \n",
       "n_bars                                                                                       0.017068         \n",
       "populatie                                                                                    0.122182         \n",
       "bar_score                                                                                    0.196376         \n",
       "pop_dichtheid                                                                                0.257753         \n",
       "bar_dhd                                                                                      0.160576         \n",
       "\n",
       "                                                    Alcoholgebruik/Zware drinker (%)  \\\n",
       "Ondergewicht (%)                                                           -0.048274   \n",
       "Normaal gewicht (%)                                                         0.098440   \n",
       "Overgewicht (%)                                                            -0.089068   \n",
       "Matig overgewicht (%)                                                       0.028692   \n",
       "Ernstig overgewicht (obesitas) (%)                                         -0.169288   \n",
       "Alcoholgebruik/Voldoet aan richtlijn alcoholgeb...                         -0.703225   \n",
       "Alcoholgebruik/Zware drinker (%)                                            1.000000   \n",
       "Alcoholgebruik/Overmatig drinker (%)                                        0.768693   \n",
       "n_bars                                                                      0.081430   \n",
       "populatie                                                                  -0.002946   \n",
       "bar_score                                                                  -0.179047   \n",
       "pop_dichtheid                                                              -0.251788   \n",
       "bar_dhd                                                                    -0.103998   \n",
       "\n",
       "                                                    Alcoholgebruik/Overmatig drinker (%)  \\\n",
       "Ondergewicht (%)                                                                0.006373   \n",
       "Normaal gewicht (%)                                                             0.226078   \n",
       "Overgewicht (%)                                                                -0.218656   \n",
       "Matig overgewicht (%)                                                          -0.050048   \n",
       "Ernstig overgewicht (obesitas) (%)                                             -0.306887   \n",
       "Alcoholgebruik/Voldoet aan richtlijn alcoholgeb...                             -0.642777   \n",
       "Alcoholgebruik/Zware drinker (%)                                                0.768693   \n",
       "Alcoholgebruik/Overmatig drinker (%)                                            1.000000   \n",
       "n_bars                                                                         -0.001052   \n",
       "populatie                                                                      -0.094883   \n",
       "bar_score                                                                      -0.162817   \n",
       "pop_dichtheid                                                                  -0.232155   \n",
       "bar_dhd                                                                        -0.058151   \n",
       "\n",
       "                                                      n_bars  populatie  \\\n",
       "Ondergewicht (%)                                    0.185933   0.189733   \n",
       "Normaal gewicht (%)                                 0.207400   0.186191   \n",
       "Overgewicht (%)                                    -0.222118  -0.202427   \n",
       "Matig overgewicht (%)                              -0.290592  -0.307211   \n",
       "Ernstig overgewicht (obesitas) (%)                 -0.091060  -0.044416   \n",
       "Alcoholgebruik/Voldoet aan richtlijn alcoholgeb...  0.017068   0.122182   \n",
       "Alcoholgebruik/Zware drinker (%)                    0.081430  -0.002946   \n",
       "Alcoholgebruik/Overmatig drinker (%)               -0.001052  -0.094883   \n",
       "n_bars                                              1.000000   0.924124   \n",
       "populatie                                           0.924124   1.000000   \n",
       "bar_score                                          -0.186537  -0.091416   \n",
       "pop_dichtheid                                       0.417057   0.496483   \n",
       "bar_dhd                                            -0.046523  -0.038539   \n",
       "\n",
       "                                                    bar_score  pop_dichtheid  \\\n",
       "Ondergewicht (%)                                     0.000124       0.252074   \n",
       "Normaal gewicht (%)                                 -0.070881       0.172821   \n",
       "Overgewicht (%)                                      0.068194      -0.197767   \n",
       "Matig overgewicht (%)                                0.023967      -0.316816   \n",
       "Ernstig overgewicht (obesitas) (%)                   0.088483      -0.028564   \n",
       "Alcoholgebruik/Voldoet aan richtlijn alcoholgeb...   0.196376       0.257753   \n",
       "Alcoholgebruik/Zware drinker (%)                    -0.179047      -0.251788   \n",
       "Alcoholgebruik/Overmatig drinker (%)                -0.162817      -0.232155   \n",
       "n_bars                                              -0.186537       0.417057   \n",
       "populatie                                           -0.091416       0.496483   \n",
       "bar_score                                            1.000000       0.109969   \n",
       "pop_dichtheid                                        0.109969       1.000000   \n",
       "bar_dhd                                              0.291704       0.170897   \n",
       "\n",
       "                                                     bar_dhd  \n",
       "Ondergewicht (%)                                    0.072757  \n",
       "Normaal gewicht (%)                                -0.036583  \n",
       "Overgewicht (%)                                     0.026374  \n",
       "Matig overgewicht (%)                               0.025796  \n",
       "Ernstig overgewicht (obesitas) (%)                  0.019891  \n",
       "Alcoholgebruik/Voldoet aan richtlijn alcoholgeb...  0.160576  \n",
       "Alcoholgebruik/Zware drinker (%)                   -0.103998  \n",
       "Alcoholgebruik/Overmatig drinker (%)               -0.058151  \n",
       "n_bars                                             -0.046523  \n",
       "populatie                                          -0.038539  \n",
       "bar_score                                           0.291704  \n",
       "pop_dichtheid                                       0.170897  \n",
       "bar_dhd                                             1.000000  "
      ]
     },
     "execution_count": 70,
     "metadata": {},
     "output_type": "execute_result"
    }
   ],
   "source": [
    "gezondheids_monitor_df.corr()"
   ]
  },
  {
   "cell_type": "code",
   "execution_count": 71,
   "metadata": {},
   "outputs": [],
   "source": [
    "import matplotlib.pyplot as plt"
   ]
  },
  {
   "cell_type": "code",
   "execution_count": 72,
   "metadata": {},
   "outputs": [
    {
     "data": {
      "text/plain": [
       "<function matplotlib.pyplot.show(close=None, block=None)>"
      ]
     },
     "execution_count": 72,
     "metadata": {},
     "output_type": "execute_result"
    },
    {
     "data": {
      "image/png": "[encoded data removed]",
      "text/plain": [
       "<Figure size 10800x360 with 1 Axes>"
      ]
     },
     "metadata": {
      "needs_background": "light"
     },
     "output_type": "display_data"
    }
   ],
   "source": [
    "plt.figure(figsize=(150, 5))\n",
    "\n",
    "plt.subplot(121)\n",
    "plt.bar(gezondheids_monitor_df[\"Regio’s\"], gezondheids_monitor_df[\"bar_score\"], align='edge', width=0.5)\n",
    "plt.xticks(gezondheids_monitor_df[\"Regio’s\"], rotation='vertical')\n",
    "plt.title(\"bar score\")\n",
    "\n",
    "plt.show"
   ]
  },
  {
   "cell_type": "code",
   "execution_count": 57,
   "metadata": {},
   "outputs": [
    {
     "data": {
      "text/plain": [
       "<function matplotlib.pyplot.show(close=None, block=None)>"
      ]
     },
     "execution_count": 57,
     "metadata": {},
     "output_type": "execute_result"
    },
    {
     "data": {
      "image/png": "[encoded data removed]",
      "text/plain": [
       "<Figure size 10800x360 with 1 Axes>"
      ]
     },
     "metadata": {
      "needs_background": "light"
     },
     "output_type": "display_data"
    }
   ],
   "source": [
    "plt.figure(figsize=(150, 5))\n",
    "\n",
    "plt.subplot(122)\n",
    "plt.bar(gezondheids_monitor_df[\"Regio’s\"], gezondheids_monitor_df[\"populatie\"], align='edge', width=0.5)\n",
    "plt.xticks(gezondheids_monitor_df[\"Regio’s\"], rotation='vertical')\n",
    "plt.title(\"populatie\")\n",
    "\n",
    "plt.show"
   ]
  },
  {
   "cell_type": "code",
   "execution_count": 58,
   "metadata": {},
   "outputs": [
    {
     "data": {
      "text/plain": [
       "<function matplotlib.pyplot.show(close=None, block=None)>"
      ]
     },
     "execution_count": 58,
     "metadata": {},
     "output_type": "execute_result"
    },
    {
     "data": {
      "image/png": "[encoded data removed]",
      "text/plain": [
       "<Figure size 10800x360 with 1 Axes>"
      ]
     },
     "metadata": {
      "needs_background": "light"
     },
     "output_type": "display_data"
    }
   ],
   "source": [
    "plt.figure(figsize=(150, 5))\n",
    "\n",
    "plt.subplot(122)\n",
    "plt.bar(gezondheids_monitor_df[\"Regio’s\"], gezondheids_monitor_df[\"Ernstig overgewicht (obesitas) (%)\"], align='edge', width=0.5)\n",
    "plt.xticks(gezondheids_monitor_df[\"Regio’s\"], rotation='vertical')\n",
    "plt.title(\"populatie\")\n",
    "\n",
    "plt.show"
   ]
  },
  {
   "cell_type": "markdown",
   "metadata": {},
   "source": [
    "deel de dataset op in grote en kleine gemeenten"
   ]
  },
  {
   "cell_type": "code",
   "execution_count": 59,
   "metadata": {},
   "outputs": [],
   "source": [
    "barScore_df = gezondheids_monitor_df.drop(gezondheids_monitor_df[gezondheids_monitor_df.n_bars < 11].index)"
   ]
  },
  {
   "cell_type": "code",
   "execution_count": 60,
   "metadata": {},
   "outputs": [],
   "source": [
    "Nbars_df = gezondheids_monitor_df.drop(gezondheids_monitor_df[gezondheids_monitor_df.n_bars > 10].index)"
   ]
  },
  {
   "cell_type": "code",
   "execution_count": 61,
   "metadata": {},
   "outputs": [
    {
     "data": {
      "text/html": [
       "<div>\n",
       "<style scoped>\n",
       "    .dataframe tbody tr th:only-of-type {\n",
       "        vertical-align: middle;\n",
       "    }\n",
       "\n",
       "    .dataframe tbody tr th {\n",
       "        vertical-align: top;\n",
       "    }\n",
       "\n",
       "    .dataframe thead th {\n",
       "        text-align: right;\n",
       "    }\n",
       "</style>\n",
       "<table border=\"1\" class=\"dataframe\">\n",
       "  <thead>\n",
       "    <tr style=\"text-align: right;\">\n",
       "      <th></th>\n",
       "      <th>Ondergewicht (%)</th>\n",
       "      <th>Normaal gewicht (%)</th>\n",
       "      <th>Overgewicht (%)</th>\n",
       "      <th>Matig overgewicht (%)</th>\n",
       "      <th>Ernstig overgewicht (obesitas) (%)</th>\n",
       "      <th>Alcoholgebruik/Voldoet aan richtlijn alcoholgebruik (%)</th>\n",
       "      <th>Alcoholgebruik/Zware drinker (%)</th>\n",
       "      <th>Alcoholgebruik/Overmatig drinker (%)</th>\n",
       "      <th>n_bars</th>\n",
       "      <th>populatie</th>\n",
       "      <th>bar_score</th>\n",
       "      <th>pop_dichtheid</th>\n",
       "      <th>bar_dhd</th>\n",
       "    </tr>\n",
       "  </thead>\n",
       "  <tbody>\n",
       "    <tr>\n",
       "      <th>Ondergewicht (%)</th>\n",
       "      <td>1.000000</td>\n",
       "      <td>0.277910</td>\n",
       "      <td>-0.380168</td>\n",
       "      <td>-0.371439</td>\n",
       "      <td>-0.268890</td>\n",
       "      <td>-0.173478</td>\n",
       "      <td>0.219350</td>\n",
       "      <td>0.079806</td>\n",
       "      <td>0.334263</td>\n",
       "      <td>0.316340</td>\n",
       "      <td>-0.116599</td>\n",
       "      <td>0.290820</td>\n",
       "      <td>-0.106998</td>\n",
       "    </tr>\n",
       "    <tr>\n",
       "      <th>Normaal gewicht (%)</th>\n",
       "      <td>0.277910</td>\n",
       "      <td>1.000000</td>\n",
       "      <td>-0.994078</td>\n",
       "      <td>-0.871478</td>\n",
       "      <td>-0.822800</td>\n",
       "      <td>-0.442958</td>\n",
       "      <td>0.333741</td>\n",
       "      <td>0.184188</td>\n",
       "      <td>0.433410</td>\n",
       "      <td>0.422432</td>\n",
       "      <td>-0.270882</td>\n",
       "      <td>0.411228</td>\n",
       "      <td>-0.131453</td>\n",
       "    </tr>\n",
       "    <tr>\n",
       "      <th>Overgewicht (%)</th>\n",
       "      <td>-0.380168</td>\n",
       "      <td>-0.994078</td>\n",
       "      <td>1.000000</td>\n",
       "      <td>0.881301</td>\n",
       "      <td>0.822088</td>\n",
       "      <td>0.445870</td>\n",
       "      <td>-0.345808</td>\n",
       "      <td>-0.187028</td>\n",
       "      <td>-0.453024</td>\n",
       "      <td>-0.440901</td>\n",
       "      <td>0.272976</td>\n",
       "      <td>-0.428350</td>\n",
       "      <td>0.137493</td>\n",
       "    </tr>\n",
       "    <tr>\n",
       "      <th>Matig overgewicht (%)</th>\n",
       "      <td>-0.371439</td>\n",
       "      <td>-0.871478</td>\n",
       "      <td>0.881301</td>\n",
       "      <td>1.000000</td>\n",
       "      <td>0.455596</td>\n",
       "      <td>0.239623</td>\n",
       "      <td>-0.250587</td>\n",
       "      <td>-0.060979</td>\n",
       "      <td>-0.486769</td>\n",
       "      <td>-0.508890</td>\n",
       "      <td>0.190301</td>\n",
       "      <td>-0.540994</td>\n",
       "      <td>-0.019227</td>\n",
       "    </tr>\n",
       "    <tr>\n",
       "      <th>Ernstig overgewicht (obesitas) (%)</th>\n",
       "      <td>-0.268890</td>\n",
       "      <td>-0.822800</td>\n",
       "      <td>0.822088</td>\n",
       "      <td>0.455596</td>\n",
       "      <td>1.000000</td>\n",
       "      <td>0.545056</td>\n",
       "      <td>-0.343249</td>\n",
       "      <td>-0.273439</td>\n",
       "      <td>-0.266456</td>\n",
       "      <td>-0.218241</td>\n",
       "      <td>0.280307</td>\n",
       "      <td>-0.154830</td>\n",
       "      <td>0.282441</td>\n",
       "    </tr>\n",
       "    <tr>\n",
       "      <th>Alcoholgebruik/Voldoet aan richtlijn alcoholgebruik (%)</th>\n",
       "      <td>-0.173478</td>\n",
       "      <td>-0.442958</td>\n",
       "      <td>0.445870</td>\n",
       "      <td>0.239623</td>\n",
       "      <td>0.545056</td>\n",
       "      <td>1.000000</td>\n",
       "      <td>-0.742309</td>\n",
       "      <td>-0.625348</td>\n",
       "      <td>-0.056595</td>\n",
       "      <td>0.058911</td>\n",
       "      <td>0.474316</td>\n",
       "      <td>0.101665</td>\n",
       "      <td>0.385112</td>\n",
       "    </tr>\n",
       "    <tr>\n",
       "      <th>Alcoholgebruik/Zware drinker (%)</th>\n",
       "      <td>0.219350</td>\n",
       "      <td>0.333741</td>\n",
       "      <td>-0.345808</td>\n",
       "      <td>-0.250587</td>\n",
       "      <td>-0.343249</td>\n",
       "      <td>-0.742309</td>\n",
       "      <td>1.000000</td>\n",
       "      <td>0.799001</td>\n",
       "      <td>0.210293</td>\n",
       "      <td>0.107752</td>\n",
       "      <td>-0.410701</td>\n",
       "      <td>-0.050835</td>\n",
       "      <td>-0.353024</td>\n",
       "    </tr>\n",
       "    <tr>\n",
       "      <th>Alcoholgebruik/Overmatig drinker (%)</th>\n",
       "      <td>0.079806</td>\n",
       "      <td>0.184188</td>\n",
       "      <td>-0.187028</td>\n",
       "      <td>-0.060979</td>\n",
       "      <td>-0.273439</td>\n",
       "      <td>-0.625348</td>\n",
       "      <td>0.799001</td>\n",
       "      <td>1.000000</td>\n",
       "      <td>0.026558</td>\n",
       "      <td>-0.091839</td>\n",
       "      <td>-0.392484</td>\n",
       "      <td>-0.163317</td>\n",
       "      <td>-0.295044</td>\n",
       "    </tr>\n",
       "    <tr>\n",
       "      <th>n_bars</th>\n",
       "      <td>0.334263</td>\n",
       "      <td>0.433410</td>\n",
       "      <td>-0.453024</td>\n",
       "      <td>-0.486769</td>\n",
       "      <td>-0.266456</td>\n",
       "      <td>-0.056595</td>\n",
       "      <td>0.210293</td>\n",
       "      <td>0.026558</td>\n",
       "      <td>1.000000</td>\n",
       "      <td>0.934163</td>\n",
       "      <td>-0.214077</td>\n",
       "      <td>0.542382</td>\n",
       "      <td>-0.184082</td>\n",
       "    </tr>\n",
       "    <tr>\n",
       "      <th>populatie</th>\n",
       "      <td>0.316340</td>\n",
       "      <td>0.422432</td>\n",
       "      <td>-0.440901</td>\n",
       "      <td>-0.508890</td>\n",
       "      <td>-0.218241</td>\n",
       "      <td>0.058911</td>\n",
       "      <td>0.107752</td>\n",
       "      <td>-0.091839</td>\n",
       "      <td>0.934163</td>\n",
       "      <td>1.000000</td>\n",
       "      <td>0.016962</td>\n",
       "      <td>0.598949</td>\n",
       "      <td>-0.110391</td>\n",
       "    </tr>\n",
       "    <tr>\n",
       "      <th>bar_score</th>\n",
       "      <td>-0.116599</td>\n",
       "      <td>-0.270882</td>\n",
       "      <td>0.272976</td>\n",
       "      <td>0.190301</td>\n",
       "      <td>0.280307</td>\n",
       "      <td>0.474316</td>\n",
       "      <td>-0.410701</td>\n",
       "      <td>-0.392484</td>\n",
       "      <td>-0.214077</td>\n",
       "      <td>0.016962</td>\n",
       "      <td>1.000000</td>\n",
       "      <td>-0.009528</td>\n",
       "      <td>0.423307</td>\n",
       "    </tr>\n",
       "    <tr>\n",
       "      <th>pop_dichtheid</th>\n",
       "      <td>0.290820</td>\n",
       "      <td>0.411228</td>\n",
       "      <td>-0.428350</td>\n",
       "      <td>-0.540994</td>\n",
       "      <td>-0.154830</td>\n",
       "      <td>0.101665</td>\n",
       "      <td>-0.050835</td>\n",
       "      <td>-0.163317</td>\n",
       "      <td>0.542382</td>\n",
       "      <td>0.598949</td>\n",
       "      <td>-0.009528</td>\n",
       "      <td>1.000000</td>\n",
       "      <td>0.462888</td>\n",
       "    </tr>\n",
       "    <tr>\n",
       "      <th>bar_dhd</th>\n",
       "      <td>-0.106998</td>\n",
       "      <td>-0.131453</td>\n",
       "      <td>0.137493</td>\n",
       "      <td>-0.019227</td>\n",
       "      <td>0.282441</td>\n",
       "      <td>0.385112</td>\n",
       "      <td>-0.353024</td>\n",
       "      <td>-0.295044</td>\n",
       "      <td>-0.184082</td>\n",
       "      <td>-0.110391</td>\n",
       "      <td>0.423307</td>\n",
       "      <td>0.462888</td>\n",
       "      <td>1.000000</td>\n",
       "    </tr>\n",
       "  </tbody>\n",
       "</table>\n",
       "</div>"
      ],
      "text/plain": [
       "                                                    Ondergewicht (%)  \\\n",
       "Ondergewicht (%)                                            1.000000   \n",
       "Normaal gewicht (%)                                         0.277910   \n",
       "Overgewicht (%)                                            -0.380168   \n",
       "Matig overgewicht (%)                                      -0.371439   \n",
       "Ernstig overgewicht (obesitas) (%)                         -0.268890   \n",
       "Alcoholgebruik/Voldoet aan richtlijn alcoholgeb...         -0.173478   \n",
       "Alcoholgebruik/Zware drinker (%)                            0.219350   \n",
       "Alcoholgebruik/Overmatig drinker (%)                        0.079806   \n",
       "n_bars                                                      0.334263   \n",
       "populatie                                                   0.316340   \n",
       "bar_score                                                  -0.116599   \n",
       "pop_dichtheid                                               0.290820   \n",
       "bar_dhd                                                    -0.106998   \n",
       "\n",
       "                                                    Normaal gewicht (%)  \\\n",
       "Ondergewicht (%)                                               0.277910   \n",
       "Normaal gewicht (%)                                            1.000000   \n",
       "Overgewicht (%)                                               -0.994078   \n",
       "Matig overgewicht (%)                                         -0.871478   \n",
       "Ernstig overgewicht (obesitas) (%)                            -0.822800   \n",
       "Alcoholgebruik/Voldoet aan richtlijn alcoholgeb...            -0.442958   \n",
       "Alcoholgebruik/Zware drinker (%)                               0.333741   \n",
       "Alcoholgebruik/Overmatig drinker (%)                           0.184188   \n",
       "n_bars                                                         0.433410   \n",
       "populatie                                                      0.422432   \n",
       "bar_score                                                     -0.270882   \n",
       "pop_dichtheid                                                  0.411228   \n",
       "bar_dhd                                                       -0.131453   \n",
       "\n",
       "                                                    Overgewicht (%)  \\\n",
       "Ondergewicht (%)                                          -0.380168   \n",
       "Normaal gewicht (%)                                       -0.994078   \n",
       "Overgewicht (%)                                            1.000000   \n",
       "Matig overgewicht (%)                                      0.881301   \n",
       "Ernstig overgewicht (obesitas) (%)                         0.822088   \n",
       "Alcoholgebruik/Voldoet aan richtlijn alcoholgeb...         0.445870   \n",
       "Alcoholgebruik/Zware drinker (%)                          -0.345808   \n",
       "Alcoholgebruik/Overmatig drinker (%)                      -0.187028   \n",
       "n_bars                                                    -0.453024   \n",
       "populatie                                                 -0.440901   \n",
       "bar_score                                                  0.272976   \n",
       "pop_dichtheid                                             -0.428350   \n",
       "bar_dhd                                                    0.137493   \n",
       "\n",
       "                                                    Matig overgewicht (%)  \\\n",
       "Ondergewicht (%)                                                -0.371439   \n",
       "Normaal gewicht (%)                                             -0.871478   \n",
       "Overgewicht (%)                                                  0.881301   \n",
       "Matig overgewicht (%)                                            1.000000   \n",
       "Ernstig overgewicht (obesitas) (%)                               0.455596   \n",
       "Alcoholgebruik/Voldoet aan richtlijn alcoholgeb...               0.239623   \n",
       "Alcoholgebruik/Zware drinker (%)                                -0.250587   \n",
       "Alcoholgebruik/Overmatig drinker (%)                            -0.060979   \n",
       "n_bars                                                          -0.486769   \n",
       "populatie                                                       -0.508890   \n",
       "bar_score                                                        0.190301   \n",
       "pop_dichtheid                                                   -0.540994   \n",
       "bar_dhd                                                         -0.019227   \n",
       "\n",
       "                                                    Ernstig overgewicht (obesitas) (%)  \\\n",
       "Ondergewicht (%)                                                             -0.268890   \n",
       "Normaal gewicht (%)                                                          -0.822800   \n",
       "Overgewicht (%)                                                               0.822088   \n",
       "Matig overgewicht (%)                                                         0.455596   \n",
       "Ernstig overgewicht (obesitas) (%)                                            1.000000   \n",
       "Alcoholgebruik/Voldoet aan richtlijn alcoholgeb...                            0.545056   \n",
       "Alcoholgebruik/Zware drinker (%)                                             -0.343249   \n",
       "Alcoholgebruik/Overmatig drinker (%)                                         -0.273439   \n",
       "n_bars                                                                       -0.266456   \n",
       "populatie                                                                    -0.218241   \n",
       "bar_score                                                                     0.280307   \n",
       "pop_dichtheid                                                                -0.154830   \n",
       "bar_dhd                                                                       0.282441   \n",
       "\n",
       "                                                    Alcoholgebruik/Voldoet aan richtlijn alcoholgebruik (%)  \\\n",
       "Ondergewicht (%)                                                                            -0.173478         \n",
       "Normaal gewicht (%)                                                                         -0.442958         \n",
       "Overgewicht (%)                                                                              0.445870         \n",
       "Matig overgewicht (%)                                                                        0.239623         \n",
       "Ernstig overgewicht (obesitas) (%)                                                           0.545056         \n",
       "Alcoholgebruik/Voldoet aan richtlijn alcoholgeb...                                           1.000000         \n",
       "Alcoholgebruik/Zware drinker (%)                                                            -0.742309         \n",
       "Alcoholgebruik/Overmatig drinker (%)                                                        -0.625348         \n",
       "n_bars                                                                                      -0.056595         \n",
       "populatie                                                                                    0.058911         \n",
       "bar_score                                                                                    0.474316         \n",
       "pop_dichtheid                                                                                0.101665         \n",
       "bar_dhd                                                                                      0.385112         \n",
       "\n",
       "                                                    Alcoholgebruik/Zware drinker (%)  \\\n",
       "Ondergewicht (%)                                                            0.219350   \n",
       "Normaal gewicht (%)                                                         0.333741   \n",
       "Overgewicht (%)                                                            -0.345808   \n",
       "Matig overgewicht (%)                                                      -0.250587   \n",
       "Ernstig overgewicht (obesitas) (%)                                         -0.343249   \n",
       "Alcoholgebruik/Voldoet aan richtlijn alcoholgeb...                         -0.742309   \n",
       "Alcoholgebruik/Zware drinker (%)                                            1.000000   \n",
       "Alcoholgebruik/Overmatig drinker (%)                                        0.799001   \n",
       "n_bars                                                                      0.210293   \n",
       "populatie                                                                   0.107752   \n",
       "bar_score                                                                  -0.410701   \n",
       "pop_dichtheid                                                              -0.050835   \n",
       "bar_dhd                                                                    -0.353024   \n",
       "\n",
       "                                                    Alcoholgebruik/Overmatig drinker (%)  \\\n",
       "Ondergewicht (%)                                                                0.079806   \n",
       "Normaal gewicht (%)                                                             0.184188   \n",
       "Overgewicht (%)                                                                -0.187028   \n",
       "Matig overgewicht (%)                                                          -0.060979   \n",
       "Ernstig overgewicht (obesitas) (%)                                             -0.273439   \n",
       "Alcoholgebruik/Voldoet aan richtlijn alcoholgeb...                             -0.625348   \n",
       "Alcoholgebruik/Zware drinker (%)                                                0.799001   \n",
       "Alcoholgebruik/Overmatig drinker (%)                                            1.000000   \n",
       "n_bars                                                                          0.026558   \n",
       "populatie                                                                      -0.091839   \n",
       "bar_score                                                                      -0.392484   \n",
       "pop_dichtheid                                                                  -0.163317   \n",
       "bar_dhd                                                                        -0.295044   \n",
       "\n",
       "                                                      n_bars  populatie  \\\n",
       "Ondergewicht (%)                                    0.334263   0.316340   \n",
       "Normaal gewicht (%)                                 0.433410   0.422432   \n",
       "Overgewicht (%)                                    -0.453024  -0.440901   \n",
       "Matig overgewicht (%)                              -0.486769  -0.508890   \n",
       "Ernstig overgewicht (obesitas) (%)                 -0.266456  -0.218241   \n",
       "Alcoholgebruik/Voldoet aan richtlijn alcoholgeb... -0.056595   0.058911   \n",
       "Alcoholgebruik/Zware drinker (%)                    0.210293   0.107752   \n",
       "Alcoholgebruik/Overmatig drinker (%)                0.026558  -0.091839   \n",
       "n_bars                                              1.000000   0.934163   \n",
       "populatie                                           0.934163   1.000000   \n",
       "bar_score                                          -0.214077   0.016962   \n",
       "pop_dichtheid                                       0.542382   0.598949   \n",
       "bar_dhd                                            -0.184082  -0.110391   \n",
       "\n",
       "                                                    bar_score  pop_dichtheid  \\\n",
       "Ondergewicht (%)                                    -0.116599       0.290820   \n",
       "Normaal gewicht (%)                                 -0.270882       0.411228   \n",
       "Overgewicht (%)                                      0.272976      -0.428350   \n",
       "Matig overgewicht (%)                                0.190301      -0.540994   \n",
       "Ernstig overgewicht (obesitas) (%)                   0.280307      -0.154830   \n",
       "Alcoholgebruik/Voldoet aan richtlijn alcoholgeb...   0.474316       0.101665   \n",
       "Alcoholgebruik/Zware drinker (%)                    -0.410701      -0.050835   \n",
       "Alcoholgebruik/Overmatig drinker (%)                -0.392484      -0.163317   \n",
       "n_bars                                              -0.214077       0.542382   \n",
       "populatie                                            0.016962       0.598949   \n",
       "bar_score                                            1.000000      -0.009528   \n",
       "pop_dichtheid                                       -0.009528       1.000000   \n",
       "bar_dhd                                              0.423307       0.462888   \n",
       "\n",
       "                                                     bar_dhd  \n",
       "Ondergewicht (%)                                   -0.106998  \n",
       "Normaal gewicht (%)                                -0.131453  \n",
       "Overgewicht (%)                                     0.137493  \n",
       "Matig overgewicht (%)                              -0.019227  \n",
       "Ernstig overgewicht (obesitas) (%)                  0.282441  \n",
       "Alcoholgebruik/Voldoet aan richtlijn alcoholgeb...  0.385112  \n",
       "Alcoholgebruik/Zware drinker (%)                   -0.353024  \n",
       "Alcoholgebruik/Overmatig drinker (%)               -0.295044  \n",
       "n_bars                                             -0.184082  \n",
       "populatie                                          -0.110391  \n",
       "bar_score                                           0.423307  \n",
       "pop_dichtheid                                       0.462888  \n",
       "bar_dhd                                             1.000000  "
      ]
     },
     "execution_count": 61,
     "metadata": {},
     "output_type": "execute_result"
    }
   ],
   "source": [
    "barScore_df.corr()"
   ]
  },
  {
   "cell_type": "code",
   "execution_count": 62,
   "metadata": {},
   "outputs": [
    {
     "data": {
      "text/html": [
       "<div>\n",
       "<style scoped>\n",
       "    .dataframe tbody tr th:only-of-type {\n",
       "        vertical-align: middle;\n",
       "    }\n",
       "\n",
       "    .dataframe tbody tr th {\n",
       "        vertical-align: top;\n",
       "    }\n",
       "\n",
       "    .dataframe thead th {\n",
       "        text-align: right;\n",
       "    }\n",
       "</style>\n",
       "<table border=\"1\" class=\"dataframe\">\n",
       "  <thead>\n",
       "    <tr style=\"text-align: right;\">\n",
       "      <th></th>\n",
       "      <th>Ondergewicht (%)</th>\n",
       "      <th>Normaal gewicht (%)</th>\n",
       "      <th>Overgewicht (%)</th>\n",
       "      <th>Matig overgewicht (%)</th>\n",
       "      <th>Ernstig overgewicht (obesitas) (%)</th>\n",
       "      <th>Alcoholgebruik/Voldoet aan richtlijn alcoholgebruik (%)</th>\n",
       "      <th>Alcoholgebruik/Zware drinker (%)</th>\n",
       "      <th>Alcoholgebruik/Overmatig drinker (%)</th>\n",
       "      <th>n_bars</th>\n",
       "      <th>populatie</th>\n",
       "      <th>bar_score</th>\n",
       "      <th>pop_dichtheid</th>\n",
       "      <th>bar_dhd</th>\n",
       "    </tr>\n",
       "  </thead>\n",
       "  <tbody>\n",
       "    <tr>\n",
       "      <th>Ondergewicht (%)</th>\n",
       "      <td>1.000000</td>\n",
       "      <td>0.205381</td>\n",
       "      <td>-0.323458</td>\n",
       "      <td>-0.333357</td>\n",
       "      <td>-0.223607</td>\n",
       "      <td>0.016526</td>\n",
       "      <td>-0.107578</td>\n",
       "      <td>-0.004880</td>\n",
       "      <td>-0.089532</td>\n",
       "      <td>0.021278</td>\n",
       "      <td>0.067072</td>\n",
       "      <td>0.210187</td>\n",
       "      <td>0.185446</td>\n",
       "    </tr>\n",
       "    <tr>\n",
       "      <th>Normaal gewicht (%)</th>\n",
       "      <td>0.205381</td>\n",
       "      <td>1.000000</td>\n",
       "      <td>-0.992445</td>\n",
       "      <td>-0.799011</td>\n",
       "      <td>-0.871216</td>\n",
       "      <td>-0.336889</td>\n",
       "      <td>0.042349</td>\n",
       "      <td>0.242106</td>\n",
       "      <td>-0.059739</td>\n",
       "      <td>-0.069938</td>\n",
       "      <td>-0.043647</td>\n",
       "      <td>0.051069</td>\n",
       "      <td>0.022116</td>\n",
       "    </tr>\n",
       "    <tr>\n",
       "      <th>Overgewicht (%)</th>\n",
       "      <td>-0.323458</td>\n",
       "      <td>-0.992445</td>\n",
       "      <td>1.000000</td>\n",
       "      <td>0.813681</td>\n",
       "      <td>0.870701</td>\n",
       "      <td>0.323994</td>\n",
       "      <td>-0.027633</td>\n",
       "      <td>-0.232943</td>\n",
       "      <td>0.068544</td>\n",
       "      <td>0.064440</td>\n",
       "      <td>0.033804</td>\n",
       "      <td>-0.075754</td>\n",
       "      <td>-0.044094</td>\n",
       "    </tr>\n",
       "    <tr>\n",
       "      <th>Matig overgewicht (%)</th>\n",
       "      <td>-0.333357</td>\n",
       "      <td>-0.799011</td>\n",
       "      <td>0.813681</td>\n",
       "      <td>1.000000</td>\n",
       "      <td>0.422731</td>\n",
       "      <td>0.112839</td>\n",
       "      <td>0.108748</td>\n",
       "      <td>-0.055557</td>\n",
       "      <td>0.051455</td>\n",
       "      <td>-0.045625</td>\n",
       "      <td>-0.046971</td>\n",
       "      <td>-0.158771</td>\n",
       "      <td>-0.086452</td>\n",
       "    </tr>\n",
       "    <tr>\n",
       "      <th>Ernstig overgewicht (obesitas) (%)</th>\n",
       "      <td>-0.223607</td>\n",
       "      <td>-0.871216</td>\n",
       "      <td>0.870701</td>\n",
       "      <td>0.422731</td>\n",
       "      <td>1.000000</td>\n",
       "      <td>0.409623</td>\n",
       "      <td>-0.134518</td>\n",
       "      <td>-0.315743</td>\n",
       "      <td>0.062680</td>\n",
       "      <td>0.138345</td>\n",
       "      <td>0.092638</td>\n",
       "      <td>0.014730</td>\n",
       "      <td>0.003451</td>\n",
       "    </tr>\n",
       "    <tr>\n",
       "      <th>Alcoholgebruik/Voldoet aan richtlijn alcoholgebruik (%)</th>\n",
       "      <td>0.016526</td>\n",
       "      <td>-0.336889</td>\n",
       "      <td>0.323994</td>\n",
       "      <td>0.112839</td>\n",
       "      <td>0.409623</td>\n",
       "      <td>1.000000</td>\n",
       "      <td>-0.699269</td>\n",
       "      <td>-0.648081</td>\n",
       "      <td>-0.025325</td>\n",
       "      <td>0.278741</td>\n",
       "      <td>0.247774</td>\n",
       "      <td>0.316259</td>\n",
       "      <td>0.274980</td>\n",
       "    </tr>\n",
       "    <tr>\n",
       "      <th>Alcoholgebruik/Zware drinker (%)</th>\n",
       "      <td>-0.107578</td>\n",
       "      <td>0.042349</td>\n",
       "      <td>-0.027633</td>\n",
       "      <td>0.108748</td>\n",
       "      <td>-0.134518</td>\n",
       "      <td>-0.699269</td>\n",
       "      <td>1.000000</td>\n",
       "      <td>0.764092</td>\n",
       "      <td>0.046958</td>\n",
       "      <td>-0.204973</td>\n",
       "      <td>-0.189090</td>\n",
       "      <td>-0.362198</td>\n",
       "      <td>-0.270220</td>\n",
       "    </tr>\n",
       "    <tr>\n",
       "      <th>Alcoholgebruik/Overmatig drinker (%)</th>\n",
       "      <td>-0.004880</td>\n",
       "      <td>0.242106</td>\n",
       "      <td>-0.232943</td>\n",
       "      <td>-0.055557</td>\n",
       "      <td>-0.315743</td>\n",
       "      <td>-0.648081</td>\n",
       "      <td>0.764092</td>\n",
       "      <td>1.000000</td>\n",
       "      <td>0.060915</td>\n",
       "      <td>-0.204498</td>\n",
       "      <td>-0.189294</td>\n",
       "      <td>-0.271519</td>\n",
       "      <td>-0.199437</td>\n",
       "    </tr>\n",
       "    <tr>\n",
       "      <th>n_bars</th>\n",
       "      <td>-0.089532</td>\n",
       "      <td>-0.059739</td>\n",
       "      <td>0.068544</td>\n",
       "      <td>0.051455</td>\n",
       "      <td>0.062680</td>\n",
       "      <td>-0.025325</td>\n",
       "      <td>0.046958</td>\n",
       "      <td>0.060915</td>\n",
       "      <td>1.000000</td>\n",
       "      <td>0.362593</td>\n",
       "      <td>-0.570908</td>\n",
       "      <td>-0.012836</td>\n",
       "      <td>-0.385595</td>\n",
       "    </tr>\n",
       "    <tr>\n",
       "      <th>populatie</th>\n",
       "      <td>0.021278</td>\n",
       "      <td>-0.069938</td>\n",
       "      <td>0.064440</td>\n",
       "      <td>-0.045625</td>\n",
       "      <td>0.138345</td>\n",
       "      <td>0.278741</td>\n",
       "      <td>-0.204973</td>\n",
       "      <td>-0.204498</td>\n",
       "      <td>0.362593</td>\n",
       "      <td>1.000000</td>\n",
       "      <td>0.284454</td>\n",
       "      <td>0.328328</td>\n",
       "      <td>0.053398</td>\n",
       "    </tr>\n",
       "    <tr>\n",
       "      <th>bar_score</th>\n",
       "      <td>0.067072</td>\n",
       "      <td>-0.043647</td>\n",
       "      <td>0.033804</td>\n",
       "      <td>-0.046971</td>\n",
       "      <td>0.092638</td>\n",
       "      <td>0.247774</td>\n",
       "      <td>-0.189090</td>\n",
       "      <td>-0.189294</td>\n",
       "      <td>-0.570908</td>\n",
       "      <td>0.284454</td>\n",
       "      <td>1.000000</td>\n",
       "      <td>0.282959</td>\n",
       "      <td>0.583247</td>\n",
       "    </tr>\n",
       "    <tr>\n",
       "      <th>pop_dichtheid</th>\n",
       "      <td>0.210187</td>\n",
       "      <td>0.051069</td>\n",
       "      <td>-0.075754</td>\n",
       "      <td>-0.158771</td>\n",
       "      <td>0.014730</td>\n",
       "      <td>0.316259</td>\n",
       "      <td>-0.362198</td>\n",
       "      <td>-0.271519</td>\n",
       "      <td>-0.012836</td>\n",
       "      <td>0.328328</td>\n",
       "      <td>0.282959</td>\n",
       "      <td>1.000000</td>\n",
       "      <td>0.738740</td>\n",
       "    </tr>\n",
       "    <tr>\n",
       "      <th>bar_dhd</th>\n",
       "      <td>0.185446</td>\n",
       "      <td>0.022116</td>\n",
       "      <td>-0.044094</td>\n",
       "      <td>-0.086452</td>\n",
       "      <td>0.003451</td>\n",
       "      <td>0.274980</td>\n",
       "      <td>-0.270220</td>\n",
       "      <td>-0.199437</td>\n",
       "      <td>-0.385595</td>\n",
       "      <td>0.053398</td>\n",
       "      <td>0.583247</td>\n",
       "      <td>0.738740</td>\n",
       "      <td>1.000000</td>\n",
       "    </tr>\n",
       "  </tbody>\n",
       "</table>\n",
       "</div>"
      ],
      "text/plain": [
       "                                                    Ondergewicht (%)  \\\n",
       "Ondergewicht (%)                                            1.000000   \n",
       "Normaal gewicht (%)                                         0.205381   \n",
       "Overgewicht (%)                                            -0.323458   \n",
       "Matig overgewicht (%)                                      -0.333357   \n",
       "Ernstig overgewicht (obesitas) (%)                         -0.223607   \n",
       "Alcoholgebruik/Voldoet aan richtlijn alcoholgeb...          0.016526   \n",
       "Alcoholgebruik/Zware drinker (%)                           -0.107578   \n",
       "Alcoholgebruik/Overmatig drinker (%)                       -0.004880   \n",
       "n_bars                                                     -0.089532   \n",
       "populatie                                                   0.021278   \n",
       "bar_score                                                   0.067072   \n",
       "pop_dichtheid                                               0.210187   \n",
       "bar_dhd                                                     0.185446   \n",
       "\n",
       "                                                    Normaal gewicht (%)  \\\n",
       "Ondergewicht (%)                                               0.205381   \n",
       "Normaal gewicht (%)                                            1.000000   \n",
       "Overgewicht (%)                                               -0.992445   \n",
       "Matig overgewicht (%)                                         -0.799011   \n",
       "Ernstig overgewicht (obesitas) (%)                            -0.871216   \n",
       "Alcoholgebruik/Voldoet aan richtlijn alcoholgeb...            -0.336889   \n",
       "Alcoholgebruik/Zware drinker (%)                               0.042349   \n",
       "Alcoholgebruik/Overmatig drinker (%)                           0.242106   \n",
       "n_bars                                                        -0.059739   \n",
       "populatie                                                     -0.069938   \n",
       "bar_score                                                     -0.043647   \n",
       "pop_dichtheid                                                  0.051069   \n",
       "bar_dhd                                                        0.022116   \n",
       "\n",
       "                                                    Overgewicht (%)  \\\n",
       "Ondergewicht (%)                                          -0.323458   \n",
       "Normaal gewicht (%)                                       -0.992445   \n",
       "Overgewicht (%)                                            1.000000   \n",
       "Matig overgewicht (%)                                      0.813681   \n",
       "Ernstig overgewicht (obesitas) (%)                         0.870701   \n",
       "Alcoholgebruik/Voldoet aan richtlijn alcoholgeb...         0.323994   \n",
       "Alcoholgebruik/Zware drinker (%)                          -0.027633   \n",
       "Alcoholgebruik/Overmatig drinker (%)                      -0.232943   \n",
       "n_bars                                                     0.068544   \n",
       "populatie                                                  0.064440   \n",
       "bar_score                                                  0.033804   \n",
       "pop_dichtheid                                             -0.075754   \n",
       "bar_dhd                                                   -0.044094   \n",
       "\n",
       "                                                    Matig overgewicht (%)  \\\n",
       "Ondergewicht (%)                                                -0.333357   \n",
       "Normaal gewicht (%)                                             -0.799011   \n",
       "Overgewicht (%)                                                  0.813681   \n",
       "Matig overgewicht (%)                                            1.000000   \n",
       "Ernstig overgewicht (obesitas) (%)                               0.422731   \n",
       "Alcoholgebruik/Voldoet aan richtlijn alcoholgeb...               0.112839   \n",
       "Alcoholgebruik/Zware drinker (%)                                 0.108748   \n",
       "Alcoholgebruik/Overmatig drinker (%)                            -0.055557   \n",
       "n_bars                                                           0.051455   \n",
       "populatie                                                       -0.045625   \n",
       "bar_score                                                       -0.046971   \n",
       "pop_dichtheid                                                   -0.158771   \n",
       "bar_dhd                                                         -0.086452   \n",
       "\n",
       "                                                    Ernstig overgewicht (obesitas) (%)  \\\n",
       "Ondergewicht (%)                                                             -0.223607   \n",
       "Normaal gewicht (%)                                                          -0.871216   \n",
       "Overgewicht (%)                                                               0.870701   \n",
       "Matig overgewicht (%)                                                         0.422731   \n",
       "Ernstig overgewicht (obesitas) (%)                                            1.000000   \n",
       "Alcoholgebruik/Voldoet aan richtlijn alcoholgeb...                            0.409623   \n",
       "Alcoholgebruik/Zware drinker (%)                                             -0.134518   \n",
       "Alcoholgebruik/Overmatig drinker (%)                                         -0.315743   \n",
       "n_bars                                                                        0.062680   \n",
       "populatie                                                                     0.138345   \n",
       "bar_score                                                                     0.092638   \n",
       "pop_dichtheid                                                                 0.014730   \n",
       "bar_dhd                                                                       0.003451   \n",
       "\n",
       "                                                    Alcoholgebruik/Voldoet aan richtlijn alcoholgebruik (%)  \\\n",
       "Ondergewicht (%)                                                                             0.016526         \n",
       "Normaal gewicht (%)                                                                         -0.336889         \n",
       "Overgewicht (%)                                                                              0.323994         \n",
       "Matig overgewicht (%)                                                                        0.112839         \n",
       "Ernstig overgewicht (obesitas) (%)                                                           0.409623         \n",
       "Alcoholgebruik/Voldoet aan richtlijn alcoholgeb...                                           1.000000         \n",
       "Alcoholgebruik/Zware drinker (%)                                                            -0.699269         \n",
       "Alcoholgebruik/Overmatig drinker (%)                                                        -0.648081         \n",
       "n_bars                                                                                      -0.025325         \n",
       "populatie                                                                                    0.278741         \n",
       "bar_score                                                                                    0.247774         \n",
       "pop_dichtheid                                                                                0.316259         \n",
       "bar_dhd                                                                                      0.274980         \n",
       "\n",
       "                                                    Alcoholgebruik/Zware drinker (%)  \\\n",
       "Ondergewicht (%)                                                           -0.107578   \n",
       "Normaal gewicht (%)                                                         0.042349   \n",
       "Overgewicht (%)                                                            -0.027633   \n",
       "Matig overgewicht (%)                                                       0.108748   \n",
       "Ernstig overgewicht (obesitas) (%)                                         -0.134518   \n",
       "Alcoholgebruik/Voldoet aan richtlijn alcoholgeb...                         -0.699269   \n",
       "Alcoholgebruik/Zware drinker (%)                                            1.000000   \n",
       "Alcoholgebruik/Overmatig drinker (%)                                        0.764092   \n",
       "n_bars                                                                      0.046958   \n",
       "populatie                                                                  -0.204973   \n",
       "bar_score                                                                  -0.189090   \n",
       "pop_dichtheid                                                              -0.362198   \n",
       "bar_dhd                                                                    -0.270220   \n",
       "\n",
       "                                                    Alcoholgebruik/Overmatig drinker (%)  \\\n",
       "Ondergewicht (%)                                                               -0.004880   \n",
       "Normaal gewicht (%)                                                             0.242106   \n",
       "Overgewicht (%)                                                                -0.232943   \n",
       "Matig overgewicht (%)                                                          -0.055557   \n",
       "Ernstig overgewicht (obesitas) (%)                                             -0.315743   \n",
       "Alcoholgebruik/Voldoet aan richtlijn alcoholgeb...                             -0.648081   \n",
       "Alcoholgebruik/Zware drinker (%)                                                0.764092   \n",
       "Alcoholgebruik/Overmatig drinker (%)                                            1.000000   \n",
       "n_bars                                                                          0.060915   \n",
       "populatie                                                                      -0.204498   \n",
       "bar_score                                                                      -0.189294   \n",
       "pop_dichtheid                                                                  -0.271519   \n",
       "bar_dhd                                                                        -0.199437   \n",
       "\n",
       "                                                      n_bars  populatie  \\\n",
       "Ondergewicht (%)                                   -0.089532   0.021278   \n",
       "Normaal gewicht (%)                                -0.059739  -0.069938   \n",
       "Overgewicht (%)                                     0.068544   0.064440   \n",
       "Matig overgewicht (%)                               0.051455  -0.045625   \n",
       "Ernstig overgewicht (obesitas) (%)                  0.062680   0.138345   \n",
       "Alcoholgebruik/Voldoet aan richtlijn alcoholgeb... -0.025325   0.278741   \n",
       "Alcoholgebruik/Zware drinker (%)                    0.046958  -0.204973   \n",
       "Alcoholgebruik/Overmatig drinker (%)                0.060915  -0.204498   \n",
       "n_bars                                              1.000000   0.362593   \n",
       "populatie                                           0.362593   1.000000   \n",
       "bar_score                                          -0.570908   0.284454   \n",
       "pop_dichtheid                                      -0.012836   0.328328   \n",
       "bar_dhd                                            -0.385595   0.053398   \n",
       "\n",
       "                                                    bar_score  pop_dichtheid  \\\n",
       "Ondergewicht (%)                                     0.067072       0.210187   \n",
       "Normaal gewicht (%)                                 -0.043647       0.051069   \n",
       "Overgewicht (%)                                      0.033804      -0.075754   \n",
       "Matig overgewicht (%)                               -0.046971      -0.158771   \n",
       "Ernstig overgewicht (obesitas) (%)                   0.092638       0.014730   \n",
       "Alcoholgebruik/Voldoet aan richtlijn alcoholgeb...   0.247774       0.316259   \n",
       "Alcoholgebruik/Zware drinker (%)                    -0.189090      -0.362198   \n",
       "Alcoholgebruik/Overmatig drinker (%)                -0.189294      -0.271519   \n",
       "n_bars                                              -0.570908      -0.012836   \n",
       "populatie                                            0.284454       0.328328   \n",
       "bar_score                                            1.000000       0.282959   \n",
       "pop_dichtheid                                        0.282959       1.000000   \n",
       "bar_dhd                                              0.583247       0.738740   \n",
       "\n",
       "                                                     bar_dhd  \n",
       "Ondergewicht (%)                                    0.185446  \n",
       "Normaal gewicht (%)                                 0.022116  \n",
       "Overgewicht (%)                                    -0.044094  \n",
       "Matig overgewicht (%)                              -0.086452  \n",
       "Ernstig overgewicht (obesitas) (%)                  0.003451  \n",
       "Alcoholgebruik/Voldoet aan richtlijn alcoholgeb...  0.274980  \n",
       "Alcoholgebruik/Zware drinker (%)                   -0.270220  \n",
       "Alcoholgebruik/Overmatig drinker (%)               -0.199437  \n",
       "n_bars                                             -0.385595  \n",
       "populatie                                           0.053398  \n",
       "bar_score                                           0.583247  \n",
       "pop_dichtheid                                       0.738740  \n",
       "bar_dhd                                             1.000000  "
      ]
     },
     "execution_count": 62,
     "metadata": {},
     "output_type": "execute_result"
    }
   ],
   "source": [
    "Nbars_df.corr()"
   ]
  },
  {
   "cell_type": "code",
   "execution_count": 28,
   "metadata": {},
   "outputs": [],
   "source": [
    "barScore_df2 = gezondheids_monitor_df.drop(gezondheids_monitor_df[gezondheids_monitor_df.populatie < 50000].index)"
   ]
  },
  {
   "cell_type": "code",
   "execution_count": 29,
   "metadata": {},
   "outputs": [
    {
     "data": {
      "text/html": [
       "<div>\n",
       "<style scoped>\n",
       "    .dataframe tbody tr th:only-of-type {\n",
       "        vertical-align: middle;\n",
       "    }\n",
       "\n",
       "    .dataframe tbody tr th {\n",
       "        vertical-align: top;\n",
       "    }\n",
       "\n",
       "    .dataframe thead th {\n",
       "        text-align: right;\n",
       "    }\n",
       "</style>\n",
       "<table border=\"1\" class=\"dataframe\">\n",
       "  <thead>\n",
       "    <tr style=\"text-align: right;\">\n",
       "      <th></th>\n",
       "      <th>Ondergewicht (%)</th>\n",
       "      <th>Normaal gewicht (%)</th>\n",
       "      <th>Overgewicht (%)</th>\n",
       "      <th>Matig overgewicht (%)</th>\n",
       "      <th>Ernstig overgewicht (obesitas) (%)</th>\n",
       "      <th>Alcoholgebruik/Voldoet aan richtlijn alcoholgebruik (%)</th>\n",
       "      <th>Alcoholgebruik/Zware drinker (%)</th>\n",
       "      <th>Alcoholgebruik/Overmatig drinker (%)</th>\n",
       "      <th>n_bars</th>\n",
       "      <th>populatie</th>\n",
       "      <th>bar_score</th>\n",
       "      <th>bevolkings_dichtheid</th>\n",
       "    </tr>\n",
       "  </thead>\n",
       "  <tbody>\n",
       "    <tr>\n",
       "      <th>Ondergewicht (%)</th>\n",
       "      <td>1.000000</td>\n",
       "      <td>0.317322</td>\n",
       "      <td>-0.417443</td>\n",
       "      <td>-0.362664</td>\n",
       "      <td>-0.387793</td>\n",
       "      <td>-0.210932</td>\n",
       "      <td>0.139772</td>\n",
       "      <td>0.106668</td>\n",
       "      <td>0.315443</td>\n",
       "      <td>0.291631</td>\n",
       "      <td>-0.197096</td>\n",
       "      <td>0.287609</td>\n",
       "    </tr>\n",
       "    <tr>\n",
       "      <th>Normaal gewicht (%)</th>\n",
       "      <td>0.317322</td>\n",
       "      <td>1.000000</td>\n",
       "      <td>-0.994158</td>\n",
       "      <td>-0.906606</td>\n",
       "      <td>-0.877297</td>\n",
       "      <td>-0.519196</td>\n",
       "      <td>0.324291</td>\n",
       "      <td>0.310675</td>\n",
       "      <td>0.374815</td>\n",
       "      <td>0.353759</td>\n",
       "      <td>-0.145107</td>\n",
       "      <td>0.336976</td>\n",
       "    </tr>\n",
       "    <tr>\n",
       "      <th>Overgewicht (%)</th>\n",
       "      <td>-0.417443</td>\n",
       "      <td>-0.994158</td>\n",
       "      <td>1.000000</td>\n",
       "      <td>0.910377</td>\n",
       "      <td>0.884059</td>\n",
       "      <td>0.519610</td>\n",
       "      <td>-0.325442</td>\n",
       "      <td>-0.309020</td>\n",
       "      <td>-0.393152</td>\n",
       "      <td>-0.370713</td>\n",
       "      <td>0.159978</td>\n",
       "      <td>-0.355814</td>\n",
       "    </tr>\n",
       "    <tr>\n",
       "      <th>Matig overgewicht (%)</th>\n",
       "      <td>-0.362664</td>\n",
       "      <td>-0.906606</td>\n",
       "      <td>0.910377</td>\n",
       "      <td>1.000000</td>\n",
       "      <td>0.611540</td>\n",
       "      <td>0.407723</td>\n",
       "      <td>-0.382208</td>\n",
       "      <td>-0.357401</td>\n",
       "      <td>-0.443126</td>\n",
       "      <td>-0.432263</td>\n",
       "      <td>0.165085</td>\n",
       "      <td>-0.440276</td>\n",
       "    </tr>\n",
       "    <tr>\n",
       "      <th>Ernstig overgewicht (obesitas) (%)</th>\n",
       "      <td>-0.387793</td>\n",
       "      <td>-0.877297</td>\n",
       "      <td>0.884059</td>\n",
       "      <td>0.611540</td>\n",
       "      <td>1.000000</td>\n",
       "      <td>0.530461</td>\n",
       "      <td>-0.188241</td>\n",
       "      <td>-0.185149</td>\n",
       "      <td>-0.250386</td>\n",
       "      <td>-0.220368</td>\n",
       "      <td>0.118554</td>\n",
       "      <td>-0.183190</td>\n",
       "    </tr>\n",
       "    <tr>\n",
       "      <th>Alcoholgebruik/Voldoet aan richtlijn alcoholgebruik (%)</th>\n",
       "      <td>-0.210932</td>\n",
       "      <td>-0.519196</td>\n",
       "      <td>0.519610</td>\n",
       "      <td>0.407723</td>\n",
       "      <td>0.530461</td>\n",
       "      <td>1.000000</td>\n",
       "      <td>-0.696285</td>\n",
       "      <td>-0.665170</td>\n",
       "      <td>-0.143562</td>\n",
       "      <td>-0.062772</td>\n",
       "      <td>0.195993</td>\n",
       "      <td>0.089943</td>\n",
       "    </tr>\n",
       "    <tr>\n",
       "      <th>Alcoholgebruik/Zware drinker (%)</th>\n",
       "      <td>0.139772</td>\n",
       "      <td>0.324291</td>\n",
       "      <td>-0.325442</td>\n",
       "      <td>-0.382208</td>\n",
       "      <td>-0.188241</td>\n",
       "      <td>-0.696285</td>\n",
       "      <td>1.000000</td>\n",
       "      <td>0.857129</td>\n",
       "      <td>0.334484</td>\n",
       "      <td>0.280507</td>\n",
       "      <td>-0.230451</td>\n",
       "      <td>-0.029368</td>\n",
       "    </tr>\n",
       "    <tr>\n",
       "      <th>Alcoholgebruik/Overmatig drinker (%)</th>\n",
       "      <td>0.106668</td>\n",
       "      <td>0.310675</td>\n",
       "      <td>-0.309020</td>\n",
       "      <td>-0.357401</td>\n",
       "      <td>-0.185149</td>\n",
       "      <td>-0.665170</td>\n",
       "      <td>0.857129</td>\n",
       "      <td>1.000000</td>\n",
       "      <td>0.165281</td>\n",
       "      <td>0.088316</td>\n",
       "      <td>-0.162253</td>\n",
       "      <td>-0.061795</td>\n",
       "    </tr>\n",
       "    <tr>\n",
       "      <th>n_bars</th>\n",
       "      <td>0.315443</td>\n",
       "      <td>0.374815</td>\n",
       "      <td>-0.393152</td>\n",
       "      <td>-0.443126</td>\n",
       "      <td>-0.250386</td>\n",
       "      <td>-0.143562</td>\n",
       "      <td>0.334484</td>\n",
       "      <td>0.165281</td>\n",
       "      <td>1.000000</td>\n",
       "      <td>0.947838</td>\n",
       "      <td>-0.233728</td>\n",
       "      <td>0.451038</td>\n",
       "    </tr>\n",
       "    <tr>\n",
       "      <th>populatie</th>\n",
       "      <td>0.291631</td>\n",
       "      <td>0.353759</td>\n",
       "      <td>-0.370713</td>\n",
       "      <td>-0.432263</td>\n",
       "      <td>-0.220368</td>\n",
       "      <td>-0.062772</td>\n",
       "      <td>0.280507</td>\n",
       "      <td>0.088316</td>\n",
       "      <td>0.947838</td>\n",
       "      <td>1.000000</td>\n",
       "      <td>-0.199633</td>\n",
       "      <td>0.473331</td>\n",
       "    </tr>\n",
       "    <tr>\n",
       "      <th>bar_score</th>\n",
       "      <td>-0.197096</td>\n",
       "      <td>-0.145107</td>\n",
       "      <td>0.159978</td>\n",
       "      <td>0.165085</td>\n",
       "      <td>0.118554</td>\n",
       "      <td>0.195993</td>\n",
       "      <td>-0.230451</td>\n",
       "      <td>-0.162253</td>\n",
       "      <td>-0.233728</td>\n",
       "      <td>-0.199633</td>\n",
       "      <td>1.000000</td>\n",
       "      <td>0.018143</td>\n",
       "    </tr>\n",
       "    <tr>\n",
       "      <th>bevolkings_dichtheid</th>\n",
       "      <td>0.287609</td>\n",
       "      <td>0.336976</td>\n",
       "      <td>-0.355814</td>\n",
       "      <td>-0.440276</td>\n",
       "      <td>-0.183190</td>\n",
       "      <td>0.089943</td>\n",
       "      <td>-0.029368</td>\n",
       "      <td>-0.061795</td>\n",
       "      <td>0.451038</td>\n",
       "      <td>0.473331</td>\n",
       "      <td>0.018143</td>\n",
       "      <td>1.000000</td>\n",
       "    </tr>\n",
       "  </tbody>\n",
       "</table>\n",
       "</div>"
      ],
      "text/plain": [
       "                                                    Ondergewicht (%)  \\\n",
       "Ondergewicht (%)                                            1.000000   \n",
       "Normaal gewicht (%)                                         0.317322   \n",
       "Overgewicht (%)                                            -0.417443   \n",
       "Matig overgewicht (%)                                      -0.362664   \n",
       "Ernstig overgewicht (obesitas) (%)                         -0.387793   \n",
       "Alcoholgebruik/Voldoet aan richtlijn alcoholgeb...         -0.210932   \n",
       "Alcoholgebruik/Zware drinker (%)                            0.139772   \n",
       "Alcoholgebruik/Overmatig drinker (%)                        0.106668   \n",
       "n_bars                                                      0.315443   \n",
       "populatie                                                   0.291631   \n",
       "bar_score                                                  -0.197096   \n",
       "bevolkings_dichtheid                                        0.287609   \n",
       "\n",
       "                                                    Normaal gewicht (%)  \\\n",
       "Ondergewicht (%)                                               0.317322   \n",
       "Normaal gewicht (%)                                            1.000000   \n",
       "Overgewicht (%)                                               -0.994158   \n",
       "Matig overgewicht (%)                                         -0.906606   \n",
       "Ernstig overgewicht (obesitas) (%)                            -0.877297   \n",
       "Alcoholgebruik/Voldoet aan richtlijn alcoholgeb...            -0.519196   \n",
       "Alcoholgebruik/Zware drinker (%)                               0.324291   \n",
       "Alcoholgebruik/Overmatig drinker (%)                           0.310675   \n",
       "n_bars                                                         0.374815   \n",
       "populatie                                                      0.353759   \n",
       "bar_score                                                     -0.145107   \n",
       "bevolkings_dichtheid                                           0.336976   \n",
       "\n",
       "                                                    Overgewicht (%)  \\\n",
       "Ondergewicht (%)                                          -0.417443   \n",
       "Normaal gewicht (%)                                       -0.994158   \n",
       "Overgewicht (%)                                            1.000000   \n",
       "Matig overgewicht (%)                                      0.910377   \n",
       "Ernstig overgewicht (obesitas) (%)                         0.884059   \n",
       "Alcoholgebruik/Voldoet aan richtlijn alcoholgeb...         0.519610   \n",
       "Alcoholgebruik/Zware drinker (%)                          -0.325442   \n",
       "Alcoholgebruik/Overmatig drinker (%)                      -0.309020   \n",
       "n_bars                                                    -0.393152   \n",
       "populatie                                                 -0.370713   \n",
       "bar_score                                                  0.159978   \n",
       "bevolkings_dichtheid                                      -0.355814   \n",
       "\n",
       "                                                    Matig overgewicht (%)  \\\n",
       "Ondergewicht (%)                                                -0.362664   \n",
       "Normaal gewicht (%)                                             -0.906606   \n",
       "Overgewicht (%)                                                  0.910377   \n",
       "Matig overgewicht (%)                                            1.000000   \n",
       "Ernstig overgewicht (obesitas) (%)                               0.611540   \n",
       "Alcoholgebruik/Voldoet aan richtlijn alcoholgeb...               0.407723   \n",
       "Alcoholgebruik/Zware drinker (%)                                -0.382208   \n",
       "Alcoholgebruik/Overmatig drinker (%)                            -0.357401   \n",
       "n_bars                                                          -0.443126   \n",
       "populatie                                                       -0.432263   \n",
       "bar_score                                                        0.165085   \n",
       "bevolkings_dichtheid                                            -0.440276   \n",
       "\n",
       "                                                    Ernstig overgewicht (obesitas) (%)  \\\n",
       "Ondergewicht (%)                                                             -0.387793   \n",
       "Normaal gewicht (%)                                                          -0.877297   \n",
       "Overgewicht (%)                                                               0.884059   \n",
       "Matig overgewicht (%)                                                         0.611540   \n",
       "Ernstig overgewicht (obesitas) (%)                                            1.000000   \n",
       "Alcoholgebruik/Voldoet aan richtlijn alcoholgeb...                            0.530461   \n",
       "Alcoholgebruik/Zware drinker (%)                                             -0.188241   \n",
       "Alcoholgebruik/Overmatig drinker (%)                                         -0.185149   \n",
       "n_bars                                                                       -0.250386   \n",
       "populatie                                                                    -0.220368   \n",
       "bar_score                                                                     0.118554   \n",
       "bevolkings_dichtheid                                                         -0.183190   \n",
       "\n",
       "                                                    Alcoholgebruik/Voldoet aan richtlijn alcoholgebruik (%)  \\\n",
       "Ondergewicht (%)                                                                            -0.210932         \n",
       "Normaal gewicht (%)                                                                         -0.519196         \n",
       "Overgewicht (%)                                                                              0.519610         \n",
       "Matig overgewicht (%)                                                                        0.407723         \n",
       "Ernstig overgewicht (obesitas) (%)                                                           0.530461         \n",
       "Alcoholgebruik/Voldoet aan richtlijn alcoholgeb...                                           1.000000         \n",
       "Alcoholgebruik/Zware drinker (%)                                                            -0.696285         \n",
       "Alcoholgebruik/Overmatig drinker (%)                                                        -0.665170         \n",
       "n_bars                                                                                      -0.143562         \n",
       "populatie                                                                                   -0.062772         \n",
       "bar_score                                                                                    0.195993         \n",
       "bevolkings_dichtheid                                                                         0.089943         \n",
       "\n",
       "                                                    Alcoholgebruik/Zware drinker (%)  \\\n",
       "Ondergewicht (%)                                                            0.139772   \n",
       "Normaal gewicht (%)                                                         0.324291   \n",
       "Overgewicht (%)                                                            -0.325442   \n",
       "Matig overgewicht (%)                                                      -0.382208   \n",
       "Ernstig overgewicht (obesitas) (%)                                         -0.188241   \n",
       "Alcoholgebruik/Voldoet aan richtlijn alcoholgeb...                         -0.696285   \n",
       "Alcoholgebruik/Zware drinker (%)                                            1.000000   \n",
       "Alcoholgebruik/Overmatig drinker (%)                                        0.857129   \n",
       "n_bars                                                                      0.334484   \n",
       "populatie                                                                   0.280507   \n",
       "bar_score                                                                  -0.230451   \n",
       "bevolkings_dichtheid                                                       -0.029368   \n",
       "\n",
       "                                                    Alcoholgebruik/Overmatig drinker (%)  \\\n",
       "Ondergewicht (%)                                                                0.106668   \n",
       "Normaal gewicht (%)                                                             0.310675   \n",
       "Overgewicht (%)                                                                -0.309020   \n",
       "Matig overgewicht (%)                                                          -0.357401   \n",
       "Ernstig overgewicht (obesitas) (%)                                             -0.185149   \n",
       "Alcoholgebruik/Voldoet aan richtlijn alcoholgeb...                             -0.665170   \n",
       "Alcoholgebruik/Zware drinker (%)                                                0.857129   \n",
       "Alcoholgebruik/Overmatig drinker (%)                                            1.000000   \n",
       "n_bars                                                                          0.165281   \n",
       "populatie                                                                       0.088316   \n",
       "bar_score                                                                      -0.162253   \n",
       "bevolkings_dichtheid                                                           -0.061795   \n",
       "\n",
       "                                                      n_bars  populatie  \\\n",
       "Ondergewicht (%)                                    0.315443   0.291631   \n",
       "Normaal gewicht (%)                                 0.374815   0.353759   \n",
       "Overgewicht (%)                                    -0.393152  -0.370713   \n",
       "Matig overgewicht (%)                              -0.443126  -0.432263   \n",
       "Ernstig overgewicht (obesitas) (%)                 -0.250386  -0.220368   \n",
       "Alcoholgebruik/Voldoet aan richtlijn alcoholgeb... -0.143562  -0.062772   \n",
       "Alcoholgebruik/Zware drinker (%)                    0.334484   0.280507   \n",
       "Alcoholgebruik/Overmatig drinker (%)                0.165281   0.088316   \n",
       "n_bars                                              1.000000   0.947838   \n",
       "populatie                                           0.947838   1.000000   \n",
       "bar_score                                          -0.233728  -0.199633   \n",
       "bevolkings_dichtheid                                0.451038   0.473331   \n",
       "\n",
       "                                                    bar_score  \\\n",
       "Ondergewicht (%)                                    -0.197096   \n",
       "Normaal gewicht (%)                                 -0.145107   \n",
       "Overgewicht (%)                                      0.159978   \n",
       "Matig overgewicht (%)                                0.165085   \n",
       "Ernstig overgewicht (obesitas) (%)                   0.118554   \n",
       "Alcoholgebruik/Voldoet aan richtlijn alcoholgeb...   0.195993   \n",
       "Alcoholgebruik/Zware drinker (%)                    -0.230451   \n",
       "Alcoholgebruik/Overmatig drinker (%)                -0.162253   \n",
       "n_bars                                              -0.233728   \n",
       "populatie                                           -0.199633   \n",
       "bar_score                                            1.000000   \n",
       "bevolkings_dichtheid                                 0.018143   \n",
       "\n",
       "                                                    bevolkings_dichtheid  \n",
       "Ondergewicht (%)                                                0.287609  \n",
       "Normaal gewicht (%)                                             0.336976  \n",
       "Overgewicht (%)                                                -0.355814  \n",
       "Matig overgewicht (%)                                          -0.440276  \n",
       "Ernstig overgewicht (obesitas) (%)                             -0.183190  \n",
       "Alcoholgebruik/Voldoet aan richtlijn alcoholgeb...              0.089943  \n",
       "Alcoholgebruik/Zware drinker (%)                               -0.029368  \n",
       "Alcoholgebruik/Overmatig drinker (%)                           -0.061795  \n",
       "n_bars                                                          0.451038  \n",
       "populatie                                                       0.473331  \n",
       "bar_score                                                       0.018143  \n",
       "bevolkings_dichtheid                                            1.000000  "
      ]
     },
     "execution_count": 29,
     "metadata": {},
     "output_type": "execute_result"
    }
   ],
   "source": [
    "barScore_df2.corr()"
   ]
  },
  {
   "cell_type": "code",
   "execution_count": null,
   "metadata": {},
   "outputs": [],
   "source": []
  },
  {
   "cell_type": "code",
   "execution_count": null,
   "metadata": {},
   "outputs": [],
   "source": []
  }
 ],
 "metadata": {
  "kernelspec": {
   "display_name": "Python 3 (ipykernel)",
   "language": "python",
   "name": "python3"
  },
  "language_info": {
   "codemirror_mode": {
    "name": "ipython",
    "version": 3
   },
   "file_extension": ".py",
   "mimetype": "text/x-python",
   "name": "python",
   "nbconvert_exporter": "python",
   "pygments_lexer": "ipython3",
   "version": "3.10.4"
  }
 },
 "nbformat": 4,
 "nbformat_minor": 4
}
